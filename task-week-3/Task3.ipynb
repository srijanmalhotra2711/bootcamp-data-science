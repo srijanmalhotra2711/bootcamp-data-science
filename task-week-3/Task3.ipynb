{
  "nbformat": 4,
  "nbformat_minor": 0,
  "metadata": {
    "colab": {
      "name": "Task3.ipynb",
      "provenance": []
    },
    "kernelspec": {
      "name": "python3",
      "display_name": "Python 3"
    },
    "language_info": {
      "name": "python"
    }
  },
  "cells": [
    {
      "cell_type": "code",
      "metadata": {
        "id": "bVdUKbIxwPPn"
      },
      "source": [
        "import numpy as np\n",
        "import pandas as pd\n",
        "import matplotlib.pyplot as plt\n",
        "import seaborn as sns\n",
        "\n",
        "%matplotlib inline"
      ],
      "execution_count": 4,
      "outputs": []
    },
    {
      "cell_type": "markdown",
      "metadata": {
        "id": "TbEqFi7IxgDI"
      },
      "source": [
        "TODO #1\n"
      ]
    },
    {
      "cell_type": "code",
      "metadata": {
        "colab": {
          "base_uri": "https://localhost:8080/"
        },
        "id": "43svAFTVwy21",
        "outputId": "fa7a1b04-1061-4af9-f62c-9d2e928d1cbc"
      },
      "source": [
        "a = np.array([1, 2, 3, 4, 5])\n",
        "print('a: ', type(a))"
      ],
      "execution_count": 5,
      "outputs": [
        {
          "output_type": "stream",
          "text": [
            "a:  <class 'numpy.ndarray'>\n"
          ],
          "name": "stdout"
        }
      ]
    },
    {
      "cell_type": "markdown",
      "metadata": {
        "id": "jA-PhHptxjgI"
      },
      "source": [
        "TODO #2"
      ]
    },
    {
      "cell_type": "code",
      "metadata": {
        "colab": {
          "base_uri": "https://localhost:8080/"
        },
        "id": "quqh0MbfxN2f",
        "outputId": "dae8f34d-3adf-4aec-aefa-792a27e99ff0"
      },
      "source": [
        "a = np.random.rand(4, 4)\n",
        "print(a)"
      ],
      "execution_count": 6,
      "outputs": [
        {
          "output_type": "stream",
          "text": [
            "[[0.35787003 0.11486929 0.651217   0.32729902]\n",
            " [0.59215677 0.9186767  0.01471641 0.36496636]\n",
            " [0.45722673 0.71737533 0.20636573 0.82304098]\n",
            " [0.35299489 0.29178991 0.94993146 0.66080968]]\n"
          ],
          "name": "stdout"
        }
      ]
    },
    {
      "cell_type": "markdown",
      "metadata": {
        "id": "BFgMSOfixwjo"
      },
      "source": [
        "TODO #3"
      ]
    },
    {
      "cell_type": "code",
      "metadata": {
        "colab": {
          "base_uri": "https://localhost:8080/"
        },
        "id": "FGp1Bl27xYhy",
        "outputId": "ba706603-1dce-421c-eeab-e58f8c021300"
      },
      "source": [
        "a = np.arange(16).reshape((4, 4))\n",
        "a"
      ],
      "execution_count": 7,
      "outputs": [
        {
          "output_type": "execute_result",
          "data": {
            "text/plain": [
              "array([[ 0,  1,  2,  3],\n",
              "       [ 4,  5,  6,  7],\n",
              "       [ 8,  9, 10, 11],\n",
              "       [12, 13, 14, 15]])"
            ]
          },
          "metadata": {
            "tags": []
          },
          "execution_count": 7
        }
      ]
    },
    {
      "cell_type": "code",
      "metadata": {
        "id": "Vgn-wRmH4Xh9"
      },
      "source": [
        ""
      ],
      "execution_count": null,
      "outputs": []
    },
    {
      "cell_type": "markdown",
      "metadata": {
        "id": "T0U9h5hbzoVq"
      },
      "source": [
        "TODO #4"
      ]
    },
    {
      "cell_type": "code",
      "metadata": {
        "colab": {
          "base_uri": "https://localhost:8080/"
        },
        "id": "d2exNNYHzqKD",
        "outputId": "fe314d7f-7f14-41eb-c461-aeb87b284ac6"
      },
      "source": [
        "arr = np.ones((3,3,3))\n",
        "print (arr)\n",
        "print (\"\\nDimensions: \",arr.ndim)"
      ],
      "execution_count": 8,
      "outputs": [
        {
          "output_type": "stream",
          "text": [
            "[[[1. 1. 1.]\n",
            "  [1. 1. 1.]\n",
            "  [1. 1. 1.]]\n",
            "\n",
            " [[1. 1. 1.]\n",
            "  [1. 1. 1.]\n",
            "  [1. 1. 1.]]\n",
            "\n",
            " [[1. 1. 1.]\n",
            "  [1. 1. 1.]\n",
            "  [1. 1. 1.]]]\n",
            "\n",
            "Dimensions:  3\n"
          ],
          "name": "stdout"
        }
      ]
    },
    {
      "cell_type": "code",
      "metadata": {
        "colab": {
          "resources": {
            "http://localhost:8080/nbextensions/google.colab/files.js": {
              "data": "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",
              "ok": true,
              "headers": [
                [
                  "content-type",
                  "application/javascript"
                ]
              ],
              "status": 200,
              "status_text": ""
            }
          },
          "base_uri": "https://localhost:8080/",
          "height": 111
        },
        "id": "U4oQYZx4WlfB",
        "outputId": "3706f2f9-89ea-4715-8924-e0643c287da3"
      },
      "source": [
        "from google.colab import files\n",
        "files.upload()"
      ],
      "execution_count": 9,
      "outputs": [
        {
          "output_type": "display_data",
          "data": {
            "text/html": [
              "\n",
              "     <input type=\"file\" id=\"files-88cf2795-17af-4d16-aba5-2d7d0a3e3a62\" name=\"files[]\" multiple disabled\n",
              "        style=\"border:none\" />\n",
              "     <output id=\"result-88cf2795-17af-4d16-aba5-2d7d0a3e3a62\">\n",
              "      Upload widget is only available when the cell has been executed in the\n",
              "      current browser session. Please rerun this cell to enable.\n",
              "      </output>\n",
              "      <script src=\"/nbextensions/google.colab/files.js\"></script> "
            ],
            "text/plain": [
              "<IPython.core.display.HTML object>"
            ]
          },
          "metadata": {
            "tags": []
          }
        },
        {
          "output_type": "stream",
          "text": [
            "Saving pokemon_data.csv to pokemon_data.csv\n"
          ],
          "name": "stdout"
        },
        {
          "output_type": "execute_result",
          "data": {
            "text/plain": [
              "{'pokemon_data.csv': b\"#,Name,Type 1,Type 2,HP,Attack,Defense,Sp. Atk,Sp. Def,Speed,Generation,Legendary\\n1,Bulbasaur,Grass,Poison,45,49,49,65,65,45,1,FALSE\\n2,Ivysaur,Grass,Poison,60,62,63,80,80,60,1,FALSE\\n3,Venusaur,Grass,Poison,80,82,83,100,100,80,1,FALSE\\n3,VenusaurMega Venusaur,Grass,Poison,80,100,123,122,120,80,1,FALSE\\n4,Charmander,Fire,,39,52,43,60,50,65,1,FALSE\\n5,Charmeleon,Fire,,58,64,58,80,65,80,1,FALSE\\n6,Charizard,Fire,Flying,78,84,78,109,85,100,1,FALSE\\n6,CharizardMega Charizard X,Fire,Dragon,78,130,111,130,85,100,1,FALSE\\n6,CharizardMega Charizard Y,Fire,Flying,78,104,78,159,115,100,1,FALSE\\n7,Squirtle,Water,,44,48,65,50,64,43,1,FALSE\\n8,Wartortle,Water,,59,63,80,65,80,58,1,FALSE\\n9,Blastoise,Water,,79,83,100,85,105,78,1,FALSE\\n9,BlastoiseMega Blastoise,Water,,79,103,120,135,115,78,1,FALSE\\n10,Caterpie,Bug,,45,30,35,20,20,45,1,FALSE\\n11,Metapod,Bug,,50,20,55,25,25,30,1,FALSE\\n12,Butterfree,Bug,Flying,60,45,50,90,80,70,1,FALSE\\n13,Weedle,Bug,Poison,40,35,30,20,20,50,1,FALSE\\n14,Kakuna,Bug,Poison,45,25,50,25,25,35,1,FALSE\\n15,Beedrill,Bug,Poison,65,90,40,45,80,75,1,FALSE\\n15,BeedrillMega Beedrill,Bug,Poison,65,150,40,15,80,145,1,FALSE\\n16,Pidgey,Normal,Flying,40,45,40,35,35,56,1,FALSE\\n17,Pidgeotto,Normal,Flying,63,60,55,50,50,71,1,FALSE\\n18,Pidgeot,Normal,Flying,83,80,75,70,70,101,1,FALSE\\n18,PidgeotMega Pidgeot,Normal,Flying,83,80,80,135,80,121,1,FALSE\\n19,Rattata,Normal,,30,56,35,25,35,72,1,FALSE\\n20,Raticate,Normal,,55,81,60,50,70,97,1,FALSE\\n21,Spearow,Normal,Flying,40,60,30,31,31,70,1,FALSE\\n22,Fearow,Normal,Flying,65,90,65,61,61,100,1,FALSE\\n23,Ekans,Poison,,35,60,44,40,54,55,1,FALSE\\n24,Arbok,Poison,,60,85,69,65,79,80,1,FALSE\\n25,Pikachu,Electric,,35,55,40,50,50,90,1,FALSE\\n26,Raichu,Electric,,60,90,55,90,80,110,1,FALSE\\n27,Sandshrew,Ground,,50,75,85,20,30,40,1,FALSE\\n28,Sandslash,Ground,,75,100,110,45,55,65,1,FALSE\\n29,Nidoran (Female),Poison,,55,47,52,40,40,41,1,FALSE\\n30,Nidorina,Poison,,70,62,67,55,55,56,1,FALSE\\n31,Nidoqueen,Poison,Ground,90,92,87,75,85,76,1,FALSE\\n32,Nidoran (Male),Poison,,46,57,40,40,40,50,1,FALSE\\n33,Nidorino,Poison,,61,72,57,55,55,65,1,FALSE\\n34,Nidoking,Poison,Ground,81,102,77,85,75,85,1,FALSE\\n35,Clefairy,Fairy,,70,45,48,60,65,35,1,FALSE\\n36,Clefable,Fairy,,95,70,73,95,90,60,1,FALSE\\n37,Vulpix,Fire,,38,41,40,50,65,65,1,FALSE\\n38,Ninetales,Fire,,73,76,75,81,100,100,1,FALSE\\n39,Jigglypuff,Normal,Fairy,115,45,20,45,25,20,1,FALSE\\n40,Wigglytuff,Normal,Fairy,140,70,45,85,50,45,1,FALSE\\n41,Zubat,Poison,Flying,40,45,35,30,40,55,1,FALSE\\n42,Golbat,Poison,Flying,75,80,70,65,75,90,1,FALSE\\n43,Oddish,Grass,Poison,45,50,55,75,65,30,1,FALSE\\n44,Gloom,Grass,Poison,60,65,70,85,75,40,1,FALSE\\n45,Vileplume,Grass,Poison,75,80,85,110,90,50,1,FALSE\\n46,Paras,Bug,Grass,35,70,55,45,55,25,1,FALSE\\n47,Parasect,Bug,Grass,60,95,80,60,80,30,1,FALSE\\n48,Venonat,Bug,Poison,60,55,50,40,55,45,1,FALSE\\n49,Venomoth,Bug,Poison,70,65,60,90,75,90,1,FALSE\\n50,Diglett,Ground,,10,55,25,35,45,95,1,FALSE\\n51,Dugtrio,Ground,,35,80,50,50,70,120,1,FALSE\\n52,Meowth,Normal,,40,45,35,40,40,90,1,FALSE\\n53,Persian,Normal,,65,70,60,65,65,115,1,FALSE\\n54,Psyduck,Water,,50,52,48,65,50,55,1,FALSE\\n55,Golduck,Water,,80,82,78,95,80,85,1,FALSE\\n56,Mankey,Fighting,,40,80,35,35,45,70,1,FALSE\\n57,Primeape,Fighting,,65,105,60,60,70,95,1,FALSE\\n58,Growlithe,Fire,,55,70,45,70,50,60,1,FALSE\\n59,Arcanine,Fire,,90,110,80,100,80,95,1,FALSE\\n60,Poliwag,Water,,40,50,40,40,40,90,1,FALSE\\n61,Poliwhirl,Water,,65,65,65,50,50,90,1,FALSE\\n62,Poliwrath,Water,Fighting,90,95,95,70,90,70,1,FALSE\\n63,Abra,Psychic,,25,20,15,105,55,90,1,FALSE\\n64,Kadabra,Psychic,,40,35,30,120,70,105,1,FALSE\\n65,Alakazam,Psychic,,55,50,45,135,95,120,1,FALSE\\n65,AlakazamMega Alakazam,Psychic,,55,50,65,175,95,150,1,FALSE\\n66,Machop,Fighting,,70,80,50,35,35,35,1,FALSE\\n67,Machoke,Fighting,,80,100,70,50,60,45,1,FALSE\\n68,Machamp,Fighting,,90,130,80,65,85,55,1,FALSE\\n69,Bellsprout,Grass,Poison,50,75,35,70,30,40,1,FALSE\\n70,Weepinbell,Grass,Poison,65,90,50,85,45,55,1,FALSE\\n71,Victreebel,Grass,Poison,80,105,65,100,70,70,1,FALSE\\n72,Tentacool,Water,Poison,40,40,35,50,100,70,1,FALSE\\n73,Tentacruel,Water,Poison,80,70,65,80,120,100,1,FALSE\\n74,Geodude,Rock,Ground,40,80,100,30,30,20,1,FALSE\\n75,Graveler,Rock,Ground,55,95,115,45,45,35,1,FALSE\\n76,Golem,Rock,Ground,80,120,130,55,65,45,1,FALSE\\n77,Ponyta,Fire,,50,85,55,65,65,90,1,FALSE\\n78,Rapidash,Fire,,65,100,70,80,80,105,1,FALSE\\n79,Slowpoke,Water,Psychic,90,65,65,40,40,15,1,FALSE\\n80,Slowbro,Water,Psychic,95,75,110,100,80,30,1,FALSE\\n80,SlowbroMega Slowbro,Water,Psychic,95,75,180,130,80,30,1,FALSE\\n81,Magnemite,Electric,Steel,25,35,70,95,55,45,1,FALSE\\n82,Magneton,Electric,Steel,50,60,95,120,70,70,1,FALSE\\n83,Farfetch'd,Normal,Flying,52,65,55,58,62,60,1,FALSE\\n84,Doduo,Normal,Flying,35,85,45,35,35,75,1,FALSE\\n85,Dodrio,Normal,Flying,60,110,70,60,60,100,1,FALSE\\n86,Seel,Water,,65,45,55,45,70,45,1,FALSE\\n87,Dewgong,Water,Ice,90,70,80,70,95,70,1,FALSE\\n88,Grimer,Poison,,80,80,50,40,50,25,1,FALSE\\n89,Muk,Poison,,105,105,75,65,100,50,1,FALSE\\n90,Shellder,Water,,30,65,100,45,25,40,1,FALSE\\n91,Cloyster,Water,Ice,50,95,180,85,45,70,1,FALSE\\n92,Gastly,Ghost,Poison,30,35,30,100,35,80,1,FALSE\\n93,Haunter,Ghost,Poison,45,50,45,115,55,95,1,FALSE\\n94,Gengar,Ghost,Poison,60,65,60,130,75,110,1,FALSE\\n94,GengarMega Gengar,Ghost,Poison,60,65,80,170,95,130,1,FALSE\\n95,Onix,Rock,Ground,35,45,160,30,45,70,1,FALSE\\n96,Drowzee,Psychic,,60,48,45,43,90,42,1,FALSE\\n97,Hypno,Psychic,,85,73,70,73,115,67,1,FALSE\\n98,Krabby,Water,,30,105,90,25,25,50,1,FALSE\\n99,Kingler,Water,,55,130,115,50,50,75,1,FALSE\\n100,Voltorb,Electric,,40,30,50,55,55,100,1,FALSE\\n101,Electrode,Electric,,60,50,70,80,80,140,1,FALSE\\n102,Exeggcute,Grass,Psychic,60,40,80,60,45,40,1,FALSE\\n103,Exeggutor,Grass,Psychic,95,95,85,125,65,55,1,FALSE\\n104,Cubone,Ground,,50,50,95,40,50,35,1,FALSE\\n105,Marowak,Ground,,60,80,110,50,80,45,1,FALSE\\n106,Hitmonlee,Fighting,,50,120,53,35,110,87,1,FALSE\\n107,Hitmonchan,Fighting,,50,105,79,35,110,76,1,FALSE\\n108,Lickitung,Normal,,90,55,75,60,75,30,1,FALSE\\n109,Koffing,Poison,,40,65,95,60,45,35,1,FALSE\\n110,Weezing,Poison,,65,90,120,85,70,60,1,FALSE\\n111,Rhyhorn,Ground,Rock,80,85,95,30,30,25,1,FALSE\\n112,Rhydon,Ground,Rock,105,130,120,45,45,40,1,FALSE\\n113,Chansey,Normal,,250,5,5,35,105,50,1,FALSE\\n114,Tangela,Grass,,65,55,115,100,40,60,1,FALSE\\n115,Kangaskhan,Normal,,105,95,80,40,80,90,1,FALSE\\n115,KangaskhanMega Kangaskhan,Normal,,105,125,100,60,100,100,1,FALSE\\n116,Horsea,Water,,30,40,70,70,25,60,1,FALSE\\n117,Seadra,Water,,55,65,95,95,45,85,1,FALSE\\n118,Goldeen,Water,,45,67,60,35,50,63,1,FALSE\\n119,Seaking,Water,,80,92,65,65,80,68,1,FALSE\\n120,Staryu,Water,,30,45,55,70,55,85,1,FALSE\\n121,Starmie,Water,Psychic,60,75,85,100,85,115,1,FALSE\\n122,Mr. Mime,Psychic,Fairy,40,45,65,100,120,90,1,FALSE\\n123,Scyther,Bug,Flying,70,110,80,55,80,105,1,FALSE\\n124,Jynx,Ice,Psychic,65,50,35,115,95,95,1,FALSE\\n125,Electabuzz,Electric,,65,83,57,95,85,105,1,FALSE\\n126,Magmar,Fire,,65,95,57,100,85,93,1,FALSE\\n127,Pinsir,Bug,,65,125,100,55,70,85,1,FALSE\\n127,PinsirMega Pinsir,Bug,Flying,65,155,120,65,90,105,1,FALSE\\n128,Tauros,Normal,,75,100,95,40,70,110,1,FALSE\\n129,Magikarp,Water,,20,10,55,15,20,80,1,FALSE\\n130,Gyarados,Water,Flying,95,125,79,60,100,81,1,FALSE\\n130,GyaradosMega Gyarados,Water,Dark,95,155,109,70,130,81,1,FALSE\\n131,Lapras,Water,Ice,130,85,80,85,95,60,1,FALSE\\n132,Ditto,Normal,,48,48,48,48,48,48,1,FALSE\\n133,Eevee,Normal,,55,55,50,45,65,55,1,FALSE\\n134,Vaporeon,Water,,130,65,60,110,95,65,1,FALSE\\n135,Jolteon,Electric,,65,65,60,110,95,130,1,FALSE\\n136,Flareon,Fire,,65,130,60,95,110,65,1,FALSE\\n137,Porygon,Normal,,65,60,70,85,75,40,1,FALSE\\n138,Omanyte,Rock,Water,35,40,100,90,55,35,1,FALSE\\n139,Omastar,Rock,Water,70,60,125,115,70,55,1,FALSE\\n140,Kabuto,Rock,Water,30,80,90,55,45,55,1,FALSE\\n141,Kabutops,Rock,Water,60,115,105,65,70,80,1,FALSE\\n142,Aerodactyl,Rock,Flying,80,105,65,60,75,130,1,FALSE\\n142,AerodactylMega Aerodactyl,Rock,Flying,80,135,85,70,95,150,1,FALSE\\n143,Snorlax,Normal,,160,110,65,65,110,30,1,FALSE\\n144,Articuno,Ice,Flying,90,85,100,95,125,85,1,TRUE\\n145,Zapdos,Electric,Flying,90,90,85,125,90,100,1,TRUE\\n146,Moltres,Fire,Flying,90,100,90,125,85,90,1,TRUE\\n147,Dratini,Dragon,,41,64,45,50,50,50,1,FALSE\\n148,Dragonair,Dragon,,61,84,65,70,70,70,1,FALSE\\n149,Dragonite,Dragon,Flying,91,134,95,100,100,80,1,FALSE\\n150,Mewtwo,Psychic,,106,110,90,154,90,130,1,TRUE\\n150,MewtwoMega Mewtwo X,Psychic,Fighting,106,190,100,154,100,130,1,TRUE\\n150,MewtwoMega Mewtwo Y,Psychic,,106,150,70,194,120,140,1,TRUE\\n151,Mew,Psychic,,100,100,100,100,100,100,1,FALSE\\n152,Chikorita,Grass,,45,49,65,49,65,45,2,FALSE\\n153,Bayleef,Grass,,60,62,80,63,80,60,2,FALSE\\n154,Meganium,Grass,,80,82,100,83,100,80,2,FALSE\\n155,Cyndaquil,Fire,,39,52,43,60,50,65,2,FALSE\\n156,Quilava,Fire,,58,64,58,80,65,80,2,FALSE\\n157,Typhlosion,Fire,,78,84,78,109,85,100,2,FALSE\\n158,Totodile,Water,,50,65,64,44,48,43,2,FALSE\\n159,Croconaw,Water,,65,80,80,59,63,58,2,FALSE\\n160,Feraligatr,Water,,85,105,100,79,83,78,2,FALSE\\n161,Sentret,Normal,,35,46,34,35,45,20,2,FALSE\\n162,Furret,Normal,,85,76,64,45,55,90,2,FALSE\\n163,Hoothoot,Normal,Flying,60,30,30,36,56,50,2,FALSE\\n164,Noctowl,Normal,Flying,100,50,50,76,96,70,2,FALSE\\n165,Ledyba,Bug,Flying,40,20,30,40,80,55,2,FALSE\\n166,Ledian,Bug,Flying,55,35,50,55,110,85,2,FALSE\\n167,Spinarak,Bug,Poison,40,60,40,40,40,30,2,FALSE\\n168,Ariados,Bug,Poison,70,90,70,60,60,40,2,FALSE\\n169,Crobat,Poison,Flying,85,90,80,70,80,130,2,FALSE\\n170,Chinchou,Water,Electric,75,38,38,56,56,67,2,FALSE\\n171,Lanturn,Water,Electric,125,58,58,76,76,67,2,FALSE\\n172,Pichu,Electric,,20,40,15,35,35,60,2,FALSE\\n173,Cleffa,Fairy,,50,25,28,45,55,15,2,FALSE\\n174,Igglybuff,Normal,Fairy,90,30,15,40,20,15,2,FALSE\\n175,Togepi,Fairy,,35,20,65,40,65,20,2,FALSE\\n176,Togetic,Fairy,Flying,55,40,85,80,105,40,2,FALSE\\n177,Natu,Psychic,Flying,40,50,45,70,45,70,2,FALSE\\n178,Xatu,Psychic,Flying,65,75,70,95,70,95,2,FALSE\\n179,Mareep,Electric,,55,40,40,65,45,35,2,FALSE\\n180,Flaaffy,Electric,,70,55,55,80,60,45,2,FALSE\\n181,Ampharos,Electric,,90,75,85,115,90,55,2,FALSE\\n181,AmpharosMega Ampharos,Electric,Dragon,90,95,105,165,110,45,2,FALSE\\n182,Bellossom,Grass,,75,80,95,90,100,50,2,FALSE\\n183,Marill,Water,Fairy,70,20,50,20,50,40,2,FALSE\\n184,Azumarill,Water,Fairy,100,50,80,60,80,50,2,FALSE\\n185,Sudowoodo,Rock,,70,100,115,30,65,30,2,FALSE\\n186,Politoed,Water,,90,75,75,90,100,70,2,FALSE\\n187,Hoppip,Grass,Flying,35,35,40,35,55,50,2,FALSE\\n188,Skiploom,Grass,Flying,55,45,50,45,65,80,2,FALSE\\n189,Jumpluff,Grass,Flying,75,55,70,55,95,110,2,FALSE\\n190,Aipom,Normal,,55,70,55,40,55,85,2,FALSE\\n191,Sunkern,Grass,,30,30,30,30,30,30,2,FALSE\\n192,Sunflora,Grass,,75,75,55,105,85,30,2,FALSE\\n193,Yanma,Bug,Flying,65,65,45,75,45,95,2,FALSE\\n194,Wooper,Water,Ground,55,45,45,25,25,15,2,FALSE\\n195,Quagsire,Water,Ground,95,85,85,65,65,35,2,FALSE\\n196,Espeon,Psychic,,65,65,60,130,95,110,2,FALSE\\n197,Umbreon,Dark,,95,65,110,60,130,65,2,FALSE\\n198,Murkrow,Dark,Flying,60,85,42,85,42,91,2,FALSE\\n199,Slowking,Water,Psychic,95,75,80,100,110,30,2,FALSE\\n200,Misdreavus,Ghost,,60,60,60,85,85,85,2,FALSE\\n201,Unown,Psychic,,48,72,48,72,48,48,2,FALSE\\n202,Wobbuffet,Psychic,,190,33,58,33,58,33,2,FALSE\\n203,Girafarig,Normal,Psychic,70,80,65,90,65,85,2,FALSE\\n204,Pineco,Bug,,50,65,90,35,35,15,2,FALSE\\n205,Forretress,Bug,Steel,75,90,140,60,60,40,2,FALSE\\n206,Dunsparce,Normal,,100,70,70,65,65,45,2,FALSE\\n207,Gligar,Ground,Flying,65,75,105,35,65,85,2,FALSE\\n208,Steelix,Steel,Ground,75,85,200,55,65,30,2,FALSE\\n208,SteelixMega Steelix,Steel,Ground,75,125,230,55,95,30,2,FALSE\\n209,Snubbull,Fairy,,60,80,50,40,40,30,2,FALSE\\n210,Granbull,Fairy,,90,120,75,60,60,45,2,FALSE\\n211,Qwilfish,Water,Poison,65,95,75,55,55,85,2,FALSE\\n212,Scizor,Bug,Steel,70,130,100,55,80,65,2,FALSE\\n212,ScizorMega Scizor,Bug,Steel,70,150,140,65,100,75,2,FALSE\\n213,Shuckle,Bug,Rock,20,10,230,10,230,5,2,FALSE\\n214,Heracross,Bug,Fighting,80,125,75,40,95,85,2,FALSE\\n214,HeracrossMega Heracross,Bug,Fighting,80,185,115,40,105,75,2,FALSE\\n215,Sneasel,Dark,Ice,55,95,55,35,75,115,2,FALSE\\n216,Teddiursa,Normal,,60,80,50,50,50,40,2,FALSE\\n217,Ursaring,Normal,,90,130,75,75,75,55,2,FALSE\\n218,Slugma,Fire,,40,40,40,70,40,20,2,FALSE\\n219,Magcargo,Fire,Rock,50,50,120,80,80,30,2,FALSE\\n220,Swinub,Ice,Ground,50,50,40,30,30,50,2,FALSE\\n221,Piloswine,Ice,Ground,100,100,80,60,60,50,2,FALSE\\n222,Corsola,Water,Rock,55,55,85,65,85,35,2,FALSE\\n223,Remoraid,Water,,35,65,35,65,35,65,2,FALSE\\n224,Octillery,Water,,75,105,75,105,75,45,2,FALSE\\n225,Delibird,Ice,Flying,45,55,45,65,45,75,2,FALSE\\n226,Mantine,Water,Flying,65,40,70,80,140,70,2,FALSE\\n227,Skarmory,Steel,Flying,65,80,140,40,70,70,2,FALSE\\n228,Houndour,Dark,Fire,45,60,30,80,50,65,2,FALSE\\n229,Houndoom,Dark,Fire,75,90,50,110,80,95,2,FALSE\\n229,HoundoomMega Houndoom,Dark,Fire,75,90,90,140,90,115,2,FALSE\\n230,Kingdra,Water,Dragon,75,95,95,95,95,85,2,FALSE\\n231,Phanpy,Ground,,90,60,60,40,40,40,2,FALSE\\n232,Donphan,Ground,,90,120,120,60,60,50,2,FALSE\\n233,Porygon2,Normal,,85,80,90,105,95,60,2,FALSE\\n234,Stantler,Normal,,73,95,62,85,65,85,2,FALSE\\n235,Smeargle,Normal,,55,20,35,20,45,75,2,FALSE\\n236,Tyrogue,Fighting,,35,35,35,35,35,35,2,FALSE\\n237,Hitmontop,Fighting,,50,95,95,35,110,70,2,FALSE\\n238,Smoochum,Ice,Psychic,45,30,15,85,65,65,2,FALSE\\n239,Elekid,Electric,,45,63,37,65,55,95,2,FALSE\\n240,Magby,Fire,,45,75,37,70,55,83,2,FALSE\\n241,Miltank,Normal,,95,80,105,40,70,100,2,FALSE\\n242,Blissey,Normal,,255,10,10,75,135,55,2,FALSE\\n243,Raikou,Electric,,90,85,75,115,100,115,2,TRUE\\n244,Entei,Fire,,115,115,85,90,75,100,2,TRUE\\n245,Suicune,Water,,100,75,115,90,115,85,2,TRUE\\n246,Larvitar,Rock,Ground,50,64,50,45,50,41,2,FALSE\\n247,Pupitar,Rock,Ground,70,84,70,65,70,51,2,FALSE\\n248,Tyranitar,Rock,Dark,100,134,110,95,100,61,2,FALSE\\n248,TyranitarMega Tyranitar,Rock,Dark,100,164,150,95,120,71,2,FALSE\\n249,Lugia,Psychic,Flying,106,90,130,90,154,110,2,TRUE\\n250,Ho-oh,Fire,Flying,106,130,90,110,154,90,2,TRUE\\n251,Celebi,Psychic,Grass,100,100,100,100,100,100,2,FALSE\\n252,Treecko,Grass,,40,45,35,65,55,70,3,FALSE\\n253,Grovyle,Grass,,50,65,45,85,65,95,3,FALSE\\n254,Sceptile,Grass,,70,85,65,105,85,120,3,FALSE\\n254,SceptileMega Sceptile,Grass,Dragon,70,110,75,145,85,145,3,FALSE\\n255,Torchic,Fire,,45,60,40,70,50,45,3,FALSE\\n256,Combusken,Fire,Fighting,60,85,60,85,60,55,3,FALSE\\n257,Blaziken,Fire,Fighting,80,120,70,110,70,80,3,FALSE\\n257,BlazikenMega Blaziken,Fire,Fighting,80,160,80,130,80,100,3,FALSE\\n258,Mudkip,Water,,50,70,50,50,50,40,3,FALSE\\n259,Marshtomp,Water,Ground,70,85,70,60,70,50,3,FALSE\\n260,Swampert,Water,Ground,100,110,90,85,90,60,3,FALSE\\n260,SwampertMega Swampert,Water,Ground,100,150,110,95,110,70,3,FALSE\\n261,Poochyena,Dark,,35,55,35,30,30,35,3,FALSE\\n262,Mightyena,Dark,,70,90,70,60,60,70,3,FALSE\\n263,Zigzagoon,Normal,,38,30,41,30,41,60,3,FALSE\\n264,Linoone,Normal,,78,70,61,50,61,100,3,FALSE\\n265,Wurmple,Bug,,45,45,35,20,30,20,3,FALSE\\n266,Silcoon,Bug,,50,35,55,25,25,15,3,FALSE\\n267,Beautifly,Bug,Flying,60,70,50,100,50,65,3,FALSE\\n268,Cascoon,Bug,,50,35,55,25,25,15,3,FALSE\\n269,Dustox,Bug,Poison,60,50,70,50,90,65,3,FALSE\\n270,Lotad,Water,Grass,40,30,30,40,50,30,3,FALSE\\n271,Lombre,Water,Grass,60,50,50,60,70,50,3,FALSE\\n272,Ludicolo,Water,Grass,80,70,70,90,100,70,3,FALSE\\n273,Seedot,Grass,,40,40,50,30,30,30,3,FALSE\\n274,Nuzleaf,Grass,Dark,70,70,40,60,40,60,3,FALSE\\n275,Shiftry,Grass,Dark,90,100,60,90,60,80,3,FALSE\\n276,Taillow,Normal,Flying,40,55,30,30,30,85,3,FALSE\\n277,Swellow,Normal,Flying,60,85,60,50,50,125,3,FALSE\\n278,Wingull,Water,Flying,40,30,30,55,30,85,3,FALSE\\n279,Pelipper,Water,Flying,60,50,100,85,70,65,3,FALSE\\n280,Ralts,Psychic,Fairy,28,25,25,45,35,40,3,FALSE\\n281,Kirlia,Psychic,Fairy,38,35,35,65,55,50,3,FALSE\\n282,Gardevoir,Psychic,Fairy,68,65,65,125,115,80,3,FALSE\\n282,GardevoirMega Gardevoir,Psychic,Fairy,68,85,65,165,135,100,3,FALSE\\n283,Surskit,Bug,Water,40,30,32,50,52,65,3,FALSE\\n284,Masquerain,Bug,Flying,70,60,62,80,82,60,3,FALSE\\n285,Shroomish,Grass,,60,40,60,40,60,35,3,FALSE\\n286,Breloom,Grass,Fighting,60,130,80,60,60,70,3,FALSE\\n287,Slakoth,Normal,,60,60,60,35,35,30,3,FALSE\\n288,Vigoroth,Normal,,80,80,80,55,55,90,3,FALSE\\n289,Slaking,Normal,,150,160,100,95,65,100,3,FALSE\\n290,Nincada,Bug,Ground,31,45,90,30,30,40,3,FALSE\\n291,Ninjask,Bug,Flying,61,90,45,50,50,160,3,FALSE\\n292,Shedinja,Bug,Ghost,1,90,45,30,30,40,3,FALSE\\n293,Whismur,Normal,,64,51,23,51,23,28,3,FALSE\\n294,Loudred,Normal,,84,71,43,71,43,48,3,FALSE\\n295,Exploud,Normal,,104,91,63,91,73,68,3,FALSE\\n296,Makuhita,Fighting,,72,60,30,20,30,25,3,FALSE\\n297,Hariyama,Fighting,,144,120,60,40,60,50,3,FALSE\\n298,Azurill,Normal,Fairy,50,20,40,20,40,20,3,FALSE\\n299,Nosepass,Rock,,30,45,135,45,90,30,3,FALSE\\n300,Skitty,Normal,,50,45,45,35,35,50,3,FALSE\\n301,Delcatty,Normal,,70,65,65,55,55,70,3,FALSE\\n302,Sableye,Dark,Ghost,50,75,75,65,65,50,3,FALSE\\n302,SableyeMega Sableye,Dark,Ghost,50,85,125,85,115,20,3,FALSE\\n303,Mawile,Steel,Fairy,50,85,85,55,55,50,3,FALSE\\n303,MawileMega Mawile,Steel,Fairy,50,105,125,55,95,50,3,FALSE\\n304,Aron,Steel,Rock,50,70,100,40,40,30,3,FALSE\\n305,Lairon,Steel,Rock,60,90,140,50,50,40,3,FALSE\\n306,Aggron,Steel,Rock,70,110,180,60,60,50,3,FALSE\\n306,AggronMega Aggron,Steel,,70,140,230,60,80,50,3,FALSE\\n307,Meditite,Fighting,Psychic,30,40,55,40,55,60,3,FALSE\\n308,Medicham,Fighting,Psychic,60,60,75,60,75,80,3,FALSE\\n308,MedichamMega Medicham,Fighting,Psychic,60,100,85,80,85,100,3,FALSE\\n309,Electrike,Electric,,40,45,40,65,40,65,3,FALSE\\n310,Manectric,Electric,,70,75,60,105,60,105,3,FALSE\\n310,ManectricMega Manectric,Electric,,70,75,80,135,80,135,3,FALSE\\n311,Plusle,Electric,,60,50,40,85,75,95,3,FALSE\\n312,Minun,Electric,,60,40,50,75,85,95,3,FALSE\\n313,Volbeat,Bug,,65,73,55,47,75,85,3,FALSE\\n314,Illumise,Bug,,65,47,55,73,75,85,3,FALSE\\n315,Roselia,Grass,Poison,50,60,45,100,80,65,3,FALSE\\n316,Gulpin,Poison,,70,43,53,43,53,40,3,FALSE\\n317,Swalot,Poison,,100,73,83,73,83,55,3,FALSE\\n318,Carvanha,Water,Dark,45,90,20,65,20,65,3,FALSE\\n319,Sharpedo,Water,Dark,70,120,40,95,40,95,3,FALSE\\n319,SharpedoMega Sharpedo,Water,Dark,70,140,70,110,65,105,3,FALSE\\n320,Wailmer,Water,,130,70,35,70,35,60,3,FALSE\\n321,Wailord,Water,,170,90,45,90,45,60,3,FALSE\\n322,Numel,Fire,Ground,60,60,40,65,45,35,3,FALSE\\n323,Camerupt,Fire,Ground,70,100,70,105,75,40,3,FALSE\\n323,CameruptMega Camerupt,Fire,Ground,70,120,100,145,105,20,3,FALSE\\n324,Torkoal,Fire,,70,85,140,85,70,20,3,FALSE\\n325,Spoink,Psychic,,60,25,35,70,80,60,3,FALSE\\n326,Grumpig,Psychic,,80,45,65,90,110,80,3,FALSE\\n327,Spinda,Normal,,60,60,60,60,60,60,3,FALSE\\n328,Trapinch,Ground,,45,100,45,45,45,10,3,FALSE\\n329,Vibrava,Ground,Dragon,50,70,50,50,50,70,3,FALSE\\n330,Flygon,Ground,Dragon,80,100,80,80,80,100,3,FALSE\\n331,Cacnea,Grass,,50,85,40,85,40,35,3,FALSE\\n332,Cacturne,Grass,Dark,70,115,60,115,60,55,3,FALSE\\n333,Swablu,Normal,Flying,45,40,60,40,75,50,3,FALSE\\n334,Altaria,Dragon,Flying,75,70,90,70,105,80,3,FALSE\\n334,AltariaMega Altaria,Dragon,Fairy,75,110,110,110,105,80,3,FALSE\\n335,Zangoose,Normal,,73,115,60,60,60,90,3,FALSE\\n336,Seviper,Poison,,73,100,60,100,60,65,3,FALSE\\n337,Lunatone,Rock,Psychic,70,55,65,95,85,70,3,FALSE\\n338,Solrock,Rock,Psychic,70,95,85,55,65,70,3,FALSE\\n339,Barboach,Water,Ground,50,48,43,46,41,60,3,FALSE\\n340,Whiscash,Water,Ground,110,78,73,76,71,60,3,FALSE\\n341,Corphish,Water,,43,80,65,50,35,35,3,FALSE\\n342,Crawdaunt,Water,Dark,63,120,85,90,55,55,3,FALSE\\n343,Baltoy,Ground,Psychic,40,40,55,40,70,55,3,FALSE\\n344,Claydol,Ground,Psychic,60,70,105,70,120,75,3,FALSE\\n345,Lileep,Rock,Grass,66,41,77,61,87,23,3,FALSE\\n346,Cradily,Rock,Grass,86,81,97,81,107,43,3,FALSE\\n347,Anorith,Rock,Bug,45,95,50,40,50,75,3,FALSE\\n348,Armaldo,Rock,Bug,75,125,100,70,80,45,3,FALSE\\n349,Feebas,Water,,20,15,20,10,55,80,3,FALSE\\n350,Milotic,Water,,95,60,79,100,125,81,3,FALSE\\n351,Castform,Normal,,70,70,70,70,70,70,3,FALSE\\n352,Kecleon,Normal,,60,90,70,60,120,40,3,FALSE\\n353,Shuppet,Ghost,,44,75,35,63,33,45,3,FALSE\\n354,Banette,Ghost,,64,115,65,83,63,65,3,FALSE\\n354,BanetteMega Banette,Ghost,,64,165,75,93,83,75,3,FALSE\\n355,Duskull,Ghost,,20,40,90,30,90,25,3,FALSE\\n356,Dusclops,Ghost,,40,70,130,60,130,25,3,FALSE\\n357,Tropius,Grass,Flying,99,68,83,72,87,51,3,FALSE\\n358,Chimecho,Psychic,,65,50,70,95,80,65,3,FALSE\\n359,Absol,Dark,,65,130,60,75,60,75,3,FALSE\\n359,AbsolMega Absol,Dark,,65,150,60,115,60,115,3,FALSE\\n360,Wynaut,Psychic,,95,23,48,23,48,23,3,FALSE\\n361,Snorunt,Ice,,50,50,50,50,50,50,3,FALSE\\n362,Glalie,Ice,,80,80,80,80,80,80,3,FALSE\\n362,GlalieMega Glalie,Ice,,80,120,80,120,80,100,3,FALSE\\n363,Spheal,Ice,Water,70,40,50,55,50,25,3,FALSE\\n364,Sealeo,Ice,Water,90,60,70,75,70,45,3,FALSE\\n365,Walrein,Ice,Water,110,80,90,95,90,65,3,FALSE\\n366,Clamperl,Water,,35,64,85,74,55,32,3,FALSE\\n367,Huntail,Water,,55,104,105,94,75,52,3,FALSE\\n368,Gorebyss,Water,,55,84,105,114,75,52,3,FALSE\\n369,Relicanth,Water,Rock,100,90,130,45,65,55,3,FALSE\\n370,Luvdisc,Water,,43,30,55,40,65,97,3,FALSE\\n371,Bagon,Dragon,,45,75,60,40,30,50,3,FALSE\\n372,Shelgon,Dragon,,65,95,100,60,50,50,3,FALSE\\n373,Salamence,Dragon,Flying,95,135,80,110,80,100,3,FALSE\\n373,SalamenceMega Salamence,Dragon,Flying,95,145,130,120,90,120,3,FALSE\\n374,Beldum,Steel,Psychic,40,55,80,35,60,30,3,FALSE\\n375,Metang,Steel,Psychic,60,75,100,55,80,50,3,FALSE\\n376,Metagross,Steel,Psychic,80,135,130,95,90,70,3,FALSE\\n376,MetagrossMega Metagross,Steel,Psychic,80,145,150,105,110,110,3,FALSE\\n377,Regirock,Rock,,80,100,200,50,100,50,3,TRUE\\n378,Regice,Ice,,80,50,100,100,200,50,3,TRUE\\n379,Registeel,Steel,,80,75,150,75,150,50,3,TRUE\\n380,Latias,Dragon,Psychic,80,80,90,110,130,110,3,TRUE\\n380,LatiasMega Latias,Dragon,Psychic,80,100,120,140,150,110,3,TRUE\\n381,Latios,Dragon,Psychic,80,90,80,130,110,110,3,TRUE\\n381,LatiosMega Latios,Dragon,Psychic,80,130,100,160,120,110,3,TRUE\\n382,Kyogre,Water,,100,100,90,150,140,90,3,TRUE\\n382,KyogrePrimal Kyogre,Water,,100,150,90,180,160,90,3,TRUE\\n383,Groudon,Ground,,100,150,140,100,90,90,3,TRUE\\n383,GroudonPrimal Groudon,Ground,Fire,100,180,160,150,90,90,3,TRUE\\n384,Rayquaza,Dragon,Flying,105,150,90,150,90,95,3,TRUE\\n384,RayquazaMega Rayquaza,Dragon,Flying,105,180,100,180,100,115,3,TRUE\\n385,Jirachi,Steel,Psychic,100,100,100,100,100,100,3,TRUE\\n386,DeoxysNormal Forme,Psychic,,50,150,50,150,50,150,3,TRUE\\n386,DeoxysAttack Forme,Psychic,,50,180,20,180,20,150,3,TRUE\\n386,DeoxysDefense Forme,Psychic,,50,70,160,70,160,90,3,TRUE\\n386,DeoxysSpeed Forme,Psychic,,50,95,90,95,90,180,3,TRUE\\n387,Turtwig,Grass,,55,68,64,45,55,31,4,FALSE\\n388,Grotle,Grass,,75,89,85,55,65,36,4,FALSE\\n389,Torterra,Grass,Ground,95,109,105,75,85,56,4,FALSE\\n390,Chimchar,Fire,,44,58,44,58,44,61,4,FALSE\\n391,Monferno,Fire,Fighting,64,78,52,78,52,81,4,FALSE\\n392,Infernape,Fire,Fighting,76,104,71,104,71,108,4,FALSE\\n393,Piplup,Water,,53,51,53,61,56,40,4,FALSE\\n394,Prinplup,Water,,64,66,68,81,76,50,4,FALSE\\n395,Empoleon,Water,Steel,84,86,88,111,101,60,4,FALSE\\n396,Starly,Normal,Flying,40,55,30,30,30,60,4,FALSE\\n397,Staravia,Normal,Flying,55,75,50,40,40,80,4,FALSE\\n398,Staraptor,Normal,Flying,85,120,70,50,60,100,4,FALSE\\n399,Bidoof,Normal,,59,45,40,35,40,31,4,FALSE\\n400,Bibarel,Normal,Water,79,85,60,55,60,71,4,FALSE\\n401,Kricketot,Bug,,37,25,41,25,41,25,4,FALSE\\n402,Kricketune,Bug,,77,85,51,55,51,65,4,FALSE\\n403,Shinx,Electric,,45,65,34,40,34,45,4,FALSE\\n404,Luxio,Electric,,60,85,49,60,49,60,4,FALSE\\n405,Luxray,Electric,,80,120,79,95,79,70,4,FALSE\\n406,Budew,Grass,Poison,40,30,35,50,70,55,4,FALSE\\n407,Roserade,Grass,Poison,60,70,65,125,105,90,4,FALSE\\n408,Cranidos,Rock,,67,125,40,30,30,58,4,FALSE\\n409,Rampardos,Rock,,97,165,60,65,50,58,4,FALSE\\n410,Shieldon,Rock,Steel,30,42,118,42,88,30,4,FALSE\\n411,Bastiodon,Rock,Steel,60,52,168,47,138,30,4,FALSE\\n412,Burmy,Bug,,40,29,45,29,45,36,4,FALSE\\n413,WormadamPlant Cloak,Bug,Grass,60,59,85,79,105,36,4,FALSE\\n413,WormadamSandy Cloak,Bug,Ground,60,79,105,59,85,36,4,FALSE\\n413,WormadamTrash Cloak,Bug,Steel,60,69,95,69,95,36,4,FALSE\\n414,Mothim,Bug,Flying,70,94,50,94,50,66,4,FALSE\\n415,Combee,Bug,Flying,30,30,42,30,42,70,4,FALSE\\n416,Vespiquen,Bug,Flying,70,80,102,80,102,40,4,FALSE\\n417,Pachirisu,Electric,,60,45,70,45,90,95,4,FALSE\\n418,Buizel,Water,,55,65,35,60,30,85,4,FALSE\\n419,Floatzel,Water,,85,105,55,85,50,115,4,FALSE\\n420,Cherubi,Grass,,45,35,45,62,53,35,4,FALSE\\n421,Cherrim,Grass,,70,60,70,87,78,85,4,FALSE\\n422,Shellos,Water,,76,48,48,57,62,34,4,FALSE\\n423,Gastrodon,Water,Ground,111,83,68,92,82,39,4,FALSE\\n424,Ambipom,Normal,,75,100,66,60,66,115,4,FALSE\\n425,Drifloon,Ghost,Flying,90,50,34,60,44,70,4,FALSE\\n426,Drifblim,Ghost,Flying,150,80,44,90,54,80,4,FALSE\\n427,Buneary,Normal,,55,66,44,44,56,85,4,FALSE\\n428,Lopunny,Normal,,65,76,84,54,96,105,4,FALSE\\n428,LopunnyMega Lopunny,Normal,Fighting,65,136,94,54,96,135,4,FALSE\\n429,Mismagius,Ghost,,60,60,60,105,105,105,4,FALSE\\n430,Honchkrow,Dark,Flying,100,125,52,105,52,71,4,FALSE\\n431,Glameow,Normal,,49,55,42,42,37,85,4,FALSE\\n432,Purugly,Normal,,71,82,64,64,59,112,4,FALSE\\n433,Chingling,Psychic,,45,30,50,65,50,45,4,FALSE\\n434,Stunky,Poison,Dark,63,63,47,41,41,74,4,FALSE\\n435,Skuntank,Poison,Dark,103,93,67,71,61,84,4,FALSE\\n436,Bronzor,Steel,Psychic,57,24,86,24,86,23,4,FALSE\\n437,Bronzong,Steel,Psychic,67,89,116,79,116,33,4,FALSE\\n438,Bonsly,Rock,,50,80,95,10,45,10,4,FALSE\\n439,Mime Jr.,Psychic,Fairy,20,25,45,70,90,60,4,FALSE\\n440,Happiny,Normal,,100,5,5,15,65,30,4,FALSE\\n441,Chatot,Normal,Flying,76,65,45,92,42,91,4,FALSE\\n442,Spiritomb,Ghost,Dark,50,92,108,92,108,35,4,FALSE\\n443,Gible,Dragon,Ground,58,70,45,40,45,42,4,FALSE\\n444,Gabite,Dragon,Ground,68,90,65,50,55,82,4,FALSE\\n445,Garchomp,Dragon,Ground,108,130,95,80,85,102,4,FALSE\\n445,GarchompMega Garchomp,Dragon,Ground,108,170,115,120,95,92,4,FALSE\\n446,Munchlax,Normal,,135,85,40,40,85,5,4,FALSE\\n447,Riolu,Fighting,,40,70,40,35,40,60,4,FALSE\\n448,Lucario,Fighting,Steel,70,110,70,115,70,90,4,FALSE\\n448,LucarioMega Lucario,Fighting,Steel,70,145,88,140,70,112,4,FALSE\\n449,Hippopotas,Ground,,68,72,78,38,42,32,4,FALSE\\n450,Hippowdon,Ground,,108,112,118,68,72,47,4,FALSE\\n451,Skorupi,Poison,Bug,40,50,90,30,55,65,4,FALSE\\n452,Drapion,Poison,Dark,70,90,110,60,75,95,4,FALSE\\n453,Croagunk,Poison,Fighting,48,61,40,61,40,50,4,FALSE\\n454,Toxicroak,Poison,Fighting,83,106,65,86,65,85,4,FALSE\\n455,Carnivine,Grass,,74,100,72,90,72,46,4,FALSE\\n456,Finneon,Water,,49,49,56,49,61,66,4,FALSE\\n457,Lumineon,Water,,69,69,76,69,86,91,4,FALSE\\n458,Mantyke,Water,Flying,45,20,50,60,120,50,4,FALSE\\n459,Snover,Grass,Ice,60,62,50,62,60,40,4,FALSE\\n460,Abomasnow,Grass,Ice,90,92,75,92,85,60,4,FALSE\\n460,AbomasnowMega Abomasnow,Grass,Ice,90,132,105,132,105,30,4,FALSE\\n461,Weavile,Dark,Ice,70,120,65,45,85,125,4,FALSE\\n462,Magnezone,Electric,Steel,70,70,115,130,90,60,4,FALSE\\n463,Lickilicky,Normal,,110,85,95,80,95,50,4,FALSE\\n464,Rhyperior,Ground,Rock,115,140,130,55,55,40,4,FALSE\\n465,Tangrowth,Grass,,100,100,125,110,50,50,4,FALSE\\n466,Electivire,Electric,,75,123,67,95,85,95,4,FALSE\\n467,Magmortar,Fire,,75,95,67,125,95,83,4,FALSE\\n468,Togekiss,Fairy,Flying,85,50,95,120,115,80,4,FALSE\\n469,Yanmega,Bug,Flying,86,76,86,116,56,95,4,FALSE\\n470,Leafeon,Grass,,65,110,130,60,65,95,4,FALSE\\n471,Glaceon,Ice,,65,60,110,130,95,65,4,FALSE\\n472,Gliscor,Ground,Flying,75,95,125,45,75,95,4,FALSE\\n473,Mamoswine,Ice,Ground,110,130,80,70,60,80,4,FALSE\\n474,Porygon-Z,Normal,,85,80,70,135,75,90,4,FALSE\\n475,Gallade,Psychic,Fighting,68,125,65,65,115,80,4,FALSE\\n475,GalladeMega Gallade,Psychic,Fighting,68,165,95,65,115,110,4,FALSE\\n476,Probopass,Rock,Steel,60,55,145,75,150,40,4,FALSE\\n477,Dusknoir,Ghost,,45,100,135,65,135,45,4,FALSE\\n478,Froslass,Ice,Ghost,70,80,70,80,70,110,4,FALSE\\n479,Rotom,Electric,Ghost,50,50,77,95,77,91,4,FALSE\\n479,RotomHeat Rotom,Electric,Fire,50,65,107,105,107,86,4,FALSE\\n479,RotomWash Rotom,Electric,Water,50,65,107,105,107,86,4,FALSE\\n479,RotomFrost Rotom,Electric,Ice,50,65,107,105,107,86,4,FALSE\\n479,RotomFan Rotom,Electric,Flying,50,65,107,105,107,86,4,FALSE\\n479,RotomMow Rotom,Electric,Grass,50,65,107,105,107,86,4,FALSE\\n480,Uxie,Psychic,,75,75,130,75,130,95,4,TRUE\\n481,Mesprit,Psychic,,80,105,105,105,105,80,4,TRUE\\n482,Azelf,Psychic,,75,125,70,125,70,115,4,TRUE\\n483,Dialga,Steel,Dragon,100,120,120,150,100,90,4,TRUE\\n484,Palkia,Water,Dragon,90,120,100,150,120,100,4,TRUE\\n485,Heatran,Fire,Steel,91,90,106,130,106,77,4,TRUE\\n486,Regigigas,Normal,,110,160,110,80,110,100,4,TRUE\\n487,GiratinaAltered Forme,Ghost,Dragon,150,100,120,100,120,90,4,TRUE\\n487,GiratinaOrigin Forme,Ghost,Dragon,150,120,100,120,100,90,4,TRUE\\n488,Cresselia,Psychic,,120,70,120,75,130,85,4,FALSE\\n489,Phione,Water,,80,80,80,80,80,80,4,FALSE\\n490,Manaphy,Water,,100,100,100,100,100,100,4,FALSE\\n491,Darkrai,Dark,,70,90,90,135,90,125,4,TRUE\\n492,ShayminLand Forme,Grass,,100,100,100,100,100,100,4,TRUE\\n492,ShayminSky Forme,Grass,Flying,100,103,75,120,75,127,4,TRUE\\n493,Arceus,Normal,,120,120,120,120,120,120,4,TRUE\\n494,Victini,Psychic,Fire,100,100,100,100,100,100,5,TRUE\\n495,Snivy,Grass,,45,45,55,45,55,63,5,FALSE\\n496,Servine,Grass,,60,60,75,60,75,83,5,FALSE\\n497,Serperior,Grass,,75,75,95,75,95,113,5,FALSE\\n498,Tepig,Fire,,65,63,45,45,45,45,5,FALSE\\n499,Pignite,Fire,Fighting,90,93,55,70,55,55,5,FALSE\\n500,Emboar,Fire,Fighting,110,123,65,100,65,65,5,FALSE\\n501,Oshawott,Water,,55,55,45,63,45,45,5,FALSE\\n502,Dewott,Water,,75,75,60,83,60,60,5,FALSE\\n503,Samurott,Water,,95,100,85,108,70,70,5,FALSE\\n504,Patrat,Normal,,45,55,39,35,39,42,5,FALSE\\n505,Watchog,Normal,,60,85,69,60,69,77,5,FALSE\\n506,Lillipup,Normal,,45,60,45,25,45,55,5,FALSE\\n507,Herdier,Normal,,65,80,65,35,65,60,5,FALSE\\n508,Stoutland,Normal,,85,110,90,45,90,80,5,FALSE\\n509,Purrloin,Dark,,41,50,37,50,37,66,5,FALSE\\n510,Liepard,Dark,,64,88,50,88,50,106,5,FALSE\\n511,Pansage,Grass,,50,53,48,53,48,64,5,FALSE\\n512,Simisage,Grass,,75,98,63,98,63,101,5,FALSE\\n513,Pansear,Fire,,50,53,48,53,48,64,5,FALSE\\n514,Simisear,Fire,,75,98,63,98,63,101,5,FALSE\\n515,Panpour,Water,,50,53,48,53,48,64,5,FALSE\\n516,Simipour,Water,,75,98,63,98,63,101,5,FALSE\\n517,Munna,Psychic,,76,25,45,67,55,24,5,FALSE\\n518,Musharna,Psychic,,116,55,85,107,95,29,5,FALSE\\n519,Pidove,Normal,Flying,50,55,50,36,30,43,5,FALSE\\n520,Tranquill,Normal,Flying,62,77,62,50,42,65,5,FALSE\\n521,Unfezant,Normal,Flying,80,115,80,65,55,93,5,FALSE\\n522,Blitzle,Electric,,45,60,32,50,32,76,5,FALSE\\n523,Zebstrika,Electric,,75,100,63,80,63,116,5,FALSE\\n524,Roggenrola,Rock,,55,75,85,25,25,15,5,FALSE\\n525,Boldore,Rock,,70,105,105,50,40,20,5,FALSE\\n526,Gigalith,Rock,,85,135,130,60,80,25,5,FALSE\\n527,Woobat,Psychic,Flying,55,45,43,55,43,72,5,FALSE\\n528,Swoobat,Psychic,Flying,67,57,55,77,55,114,5,FALSE\\n529,Drilbur,Ground,,60,85,40,30,45,68,5,FALSE\\n530,Excadrill,Ground,Steel,110,135,60,50,65,88,5,FALSE\\n531,Audino,Normal,,103,60,86,60,86,50,5,FALSE\\n531,AudinoMega Audino,Normal,Fairy,103,60,126,80,126,50,5,FALSE\\n532,Timburr,Fighting,,75,80,55,25,35,35,5,FALSE\\n533,Gurdurr,Fighting,,85,105,85,40,50,40,5,FALSE\\n534,Conkeldurr,Fighting,,105,140,95,55,65,45,5,FALSE\\n535,Tympole,Water,,50,50,40,50,40,64,5,FALSE\\n536,Palpitoad,Water,Ground,75,65,55,65,55,69,5,FALSE\\n537,Seismitoad,Water,Ground,105,95,75,85,75,74,5,FALSE\\n538,Throh,Fighting,,120,100,85,30,85,45,5,FALSE\\n539,Sawk,Fighting,,75,125,75,30,75,85,5,FALSE\\n540,Sewaddle,Bug,Grass,45,53,70,40,60,42,5,FALSE\\n541,Swadloon,Bug,Grass,55,63,90,50,80,42,5,FALSE\\n542,Leavanny,Bug,Grass,75,103,80,70,80,92,5,FALSE\\n543,Venipede,Bug,Poison,30,45,59,30,39,57,5,FALSE\\n544,Whirlipede,Bug,Poison,40,55,99,40,79,47,5,FALSE\\n545,Scolipede,Bug,Poison,60,100,89,55,69,112,5,FALSE\\n546,Cottonee,Grass,Fairy,40,27,60,37,50,66,5,FALSE\\n547,Whimsicott,Grass,Fairy,60,67,85,77,75,116,5,FALSE\\n548,Petilil,Grass,,45,35,50,70,50,30,5,FALSE\\n549,Lilligant,Grass,,70,60,75,110,75,90,5,FALSE\\n550,Basculin,Water,,70,92,65,80,55,98,5,FALSE\\n551,Sandile,Ground,Dark,50,72,35,35,35,65,5,FALSE\\n552,Krokorok,Ground,Dark,60,82,45,45,45,74,5,FALSE\\n553,Krookodile,Ground,Dark,95,117,80,65,70,92,5,FALSE\\n554,Darumaka,Fire,,70,90,45,15,45,50,5,FALSE\\n555,DarmanitanStandard Mode,Fire,,105,140,55,30,55,95,5,FALSE\\n555,DarmanitanZen Mode,Fire,Psychic,105,30,105,140,105,55,5,FALSE\\n556,Maractus,Grass,,75,86,67,106,67,60,5,FALSE\\n557,Dwebble,Bug,Rock,50,65,85,35,35,55,5,FALSE\\n558,Crustle,Bug,Rock,70,95,125,65,75,45,5,FALSE\\n559,Scraggy,Dark,Fighting,50,75,70,35,70,48,5,FALSE\\n560,Scrafty,Dark,Fighting,65,90,115,45,115,58,5,FALSE\\n561,Sigilyph,Psychic,Flying,72,58,80,103,80,97,5,FALSE\\n562,Yamask,Ghost,,38,30,85,55,65,30,5,FALSE\\n563,Cofagrigus,Ghost,,58,50,145,95,105,30,5,FALSE\\n564,Tirtouga,Water,Rock,54,78,103,53,45,22,5,FALSE\\n565,Carracosta,Water,Rock,74,108,133,83,65,32,5,FALSE\\n566,Archen,Rock,Flying,55,112,45,74,45,70,5,FALSE\\n567,Archeops,Rock,Flying,75,140,65,112,65,110,5,FALSE\\n568,Trubbish,Poison,,50,50,62,40,62,65,5,FALSE\\n569,Garbodor,Poison,,80,95,82,60,82,75,5,FALSE\\n570,Zorua,Dark,,40,65,40,80,40,65,5,FALSE\\n571,Zoroark,Dark,,60,105,60,120,60,105,5,FALSE\\n572,Minccino,Normal,,55,50,40,40,40,75,5,FALSE\\n573,Cinccino,Normal,,75,95,60,65,60,115,5,FALSE\\n574,Gothita,Psychic,,45,30,50,55,65,45,5,FALSE\\n575,Gothorita,Psychic,,60,45,70,75,85,55,5,FALSE\\n576,Gothitelle,Psychic,,70,55,95,95,110,65,5,FALSE\\n577,Solosis,Psychic,,45,30,40,105,50,20,5,FALSE\\n578,Duosion,Psychic,,65,40,50,125,60,30,5,FALSE\\n579,Reuniclus,Psychic,,110,65,75,125,85,30,5,FALSE\\n580,Ducklett,Water,Flying,62,44,50,44,50,55,5,FALSE\\n581,Swanna,Water,Flying,75,87,63,87,63,98,5,FALSE\\n582,Vanillite,Ice,,36,50,50,65,60,44,5,FALSE\\n583,Vanillish,Ice,,51,65,65,80,75,59,5,FALSE\\n584,Vanilluxe,Ice,,71,95,85,110,95,79,5,FALSE\\n585,Deerling,Normal,Grass,60,60,50,40,50,75,5,FALSE\\n586,Sawsbuck,Normal,Grass,80,100,70,60,70,95,5,FALSE\\n587,Emolga,Electric,Flying,55,75,60,75,60,103,5,FALSE\\n588,Karrablast,Bug,,50,75,45,40,45,60,5,FALSE\\n589,Escavalier,Bug,Steel,70,135,105,60,105,20,5,FALSE\\n590,Foongus,Grass,Poison,69,55,45,55,55,15,5,FALSE\\n591,Amoonguss,Grass,Poison,114,85,70,85,80,30,5,FALSE\\n592,Frillish,Water,Ghost,55,40,50,65,85,40,5,FALSE\\n593,Jellicent,Water,Ghost,100,60,70,85,105,60,5,FALSE\\n594,Alomomola,Water,,165,75,80,40,45,65,5,FALSE\\n595,Joltik,Bug,Electric,50,47,50,57,50,65,5,FALSE\\n596,Galvantula,Bug,Electric,70,77,60,97,60,108,5,FALSE\\n597,Ferroseed,Grass,Steel,44,50,91,24,86,10,5,FALSE\\n598,Ferrothorn,Grass,Steel,74,94,131,54,116,20,5,FALSE\\n599,Klink,Steel,,40,55,70,45,60,30,5,FALSE\\n600,Klang,Steel,,60,80,95,70,85,50,5,FALSE\\n601,Klinklang,Steel,,60,100,115,70,85,90,5,FALSE\\n602,Tynamo,Electric,,35,55,40,45,40,60,5,FALSE\\n603,Eelektrik,Electric,,65,85,70,75,70,40,5,FALSE\\n604,Eelektross,Electric,,85,115,80,105,80,50,5,FALSE\\n605,Elgyem,Psychic,,55,55,55,85,55,30,5,FALSE\\n606,Beheeyem,Psychic,,75,75,75,125,95,40,5,FALSE\\n607,Litwick,Ghost,Fire,50,30,55,65,55,20,5,FALSE\\n608,Lampent,Ghost,Fire,60,40,60,95,60,55,5,FALSE\\n609,Chandelure,Ghost,Fire,60,55,90,145,90,80,5,FALSE\\n610,Axew,Dragon,,46,87,60,30,40,57,5,FALSE\\n611,Fraxure,Dragon,,66,117,70,40,50,67,5,FALSE\\n612,Haxorus,Dragon,,76,147,90,60,70,97,5,FALSE\\n613,Cubchoo,Ice,,55,70,40,60,40,40,5,FALSE\\n614,Beartic,Ice,,95,110,80,70,80,50,5,FALSE\\n615,Cryogonal,Ice,,70,50,30,95,135,105,5,FALSE\\n616,Shelmet,Bug,,50,40,85,40,65,25,5,FALSE\\n617,Accelgor,Bug,,80,70,40,100,60,145,5,FALSE\\n618,Stunfisk,Ground,Electric,109,66,84,81,99,32,5,FALSE\\n619,Mienfoo,Fighting,,45,85,50,55,50,65,5,FALSE\\n620,Mienshao,Fighting,,65,125,60,95,60,105,5,FALSE\\n621,Druddigon,Dragon,,77,120,90,60,90,48,5,FALSE\\n622,Golett,Ground,Ghost,59,74,50,35,50,35,5,FALSE\\n623,Golurk,Ground,Ghost,89,124,80,55,80,55,5,FALSE\\n624,Pawniard,Dark,Steel,45,85,70,40,40,60,5,FALSE\\n625,Bisharp,Dark,Steel,65,125,100,60,70,70,5,FALSE\\n626,Bouffalant,Normal,,95,110,95,40,95,55,5,FALSE\\n627,Rufflet,Normal,Flying,70,83,50,37,50,60,5,FALSE\\n628,Braviary,Normal,Flying,100,123,75,57,75,80,5,FALSE\\n629,Vullaby,Dark,Flying,70,55,75,45,65,60,5,FALSE\\n630,Mandibuzz,Dark,Flying,110,65,105,55,95,80,5,FALSE\\n631,Heatmor,Fire,,85,97,66,105,66,65,5,FALSE\\n632,Durant,Bug,Steel,58,109,112,48,48,109,5,FALSE\\n633,Deino,Dark,Dragon,52,65,50,45,50,38,5,FALSE\\n634,Zweilous,Dark,Dragon,72,85,70,65,70,58,5,FALSE\\n635,Hydreigon,Dark,Dragon,92,105,90,125,90,98,5,FALSE\\n636,Larvesta,Bug,Fire,55,85,55,50,55,60,5,FALSE\\n637,Volcarona,Bug,Fire,85,60,65,135,105,100,5,FALSE\\n638,Cobalion,Steel,Fighting,91,90,129,90,72,108,5,TRUE\\n639,Terrakion,Rock,Fighting,91,129,90,72,90,108,5,TRUE\\n640,Virizion,Grass,Fighting,91,90,72,90,129,108,5,TRUE\\n641,TornadusIncarnate Forme,Flying,,79,115,70,125,80,111,5,TRUE\\n641,TornadusTherian Forme,Flying,,79,100,80,110,90,121,5,TRUE\\n642,ThundurusIncarnate Forme,Electric,Flying,79,115,70,125,80,111,5,TRUE\\n642,ThundurusTherian Forme,Electric,Flying,79,105,70,145,80,101,5,TRUE\\n643,Reshiram,Dragon,Fire,100,120,100,150,120,90,5,TRUE\\n644,Zekrom,Dragon,Electric,100,150,120,120,100,90,5,TRUE\\n645,LandorusIncarnate Forme,Ground,Flying,89,125,90,115,80,101,5,TRUE\\n645,LandorusTherian Forme,Ground,Flying,89,145,90,105,80,91,5,TRUE\\n646,Kyurem,Dragon,Ice,125,130,90,130,90,95,5,TRUE\\n646,KyuremBlack Kyurem,Dragon,Ice,125,170,100,120,90,95,5,TRUE\\n646,KyuremWhite Kyurem,Dragon,Ice,125,120,90,170,100,95,5,TRUE\\n647,KeldeoOrdinary Forme,Water,Fighting,91,72,90,129,90,108,5,FALSE\\n647,KeldeoResolute Forme,Water,Fighting,91,72,90,129,90,108,5,FALSE\\n648,MeloettaAria Forme,Normal,Psychic,100,77,77,128,128,90,5,FALSE\\n648,MeloettaPirouette Forme,Normal,Fighting,100,128,90,77,77,128,5,FALSE\\n649,Genesect,Bug,Steel,71,120,95,120,95,99,5,FALSE\\n650,Chespin,Grass,,56,61,65,48,45,38,6,FALSE\\n651,Quilladin,Grass,,61,78,95,56,58,57,6,FALSE\\n652,Chesnaught,Grass,Fighting,88,107,122,74,75,64,6,FALSE\\n653,Fennekin,Fire,,40,45,40,62,60,60,6,FALSE\\n654,Braixen,Fire,,59,59,58,90,70,73,6,FALSE\\n655,Delphox,Fire,Psychic,75,69,72,114,100,104,6,FALSE\\n656,Froakie,Water,,41,56,40,62,44,71,6,FALSE\\n657,Frogadier,Water,,54,63,52,83,56,97,6,FALSE\\n658,Greninja,Water,Dark,72,95,67,103,71,122,6,FALSE\\n659,Bunnelby,Normal,,38,36,38,32,36,57,6,FALSE\\n660,Diggersby,Normal,Ground,85,56,77,50,77,78,6,FALSE\\n661,Fletchling,Normal,Flying,45,50,43,40,38,62,6,FALSE\\n662,Fletchinder,Fire,Flying,62,73,55,56,52,84,6,FALSE\\n663,Talonflame,Fire,Flying,78,81,71,74,69,126,6,FALSE\\n664,Scatterbug,Bug,,38,35,40,27,25,35,6,FALSE\\n665,Spewpa,Bug,,45,22,60,27,30,29,6,FALSE\\n666,Vivillon,Bug,Flying,80,52,50,90,50,89,6,FALSE\\n667,Litleo,Fire,Normal,62,50,58,73,54,72,6,FALSE\\n668,Pyroar,Fire,Normal,86,68,72,109,66,106,6,FALSE\\n669,Flab\\xc3\\xa9b\\xc3\\xa9,Fairy,,44,38,39,61,79,42,6,FALSE\\n670,Floette,Fairy,,54,45,47,75,98,52,6,FALSE\\n671,Florges,Fairy,,78,65,68,112,154,75,6,FALSE\\n672,Skiddo,Grass,,66,65,48,62,57,52,6,FALSE\\n673,Gogoat,Grass,,123,100,62,97,81,68,6,FALSE\\n674,Pancham,Fighting,,67,82,62,46,48,43,6,FALSE\\n675,Pangoro,Fighting,Dark,95,124,78,69,71,58,6,FALSE\\n676,Furfrou,Normal,,75,80,60,65,90,102,6,FALSE\\n677,Espurr,Psychic,,62,48,54,63,60,68,6,FALSE\\n678,MeowsticMale,Psychic,,74,48,76,83,81,104,6,FALSE\\n678,MeowsticFemale,Psychic,,74,48,76,83,81,104,6,FALSE\\n679,Honedge,Steel,Ghost,45,80,100,35,37,28,6,FALSE\\n680,Doublade,Steel,Ghost,59,110,150,45,49,35,6,FALSE\\n681,AegislashBlade Forme,Steel,Ghost,60,150,50,150,50,60,6,FALSE\\n681,AegislashShield Forme,Steel,Ghost,60,50,150,50,150,60,6,FALSE\\n682,Spritzee,Fairy,,78,52,60,63,65,23,6,FALSE\\n683,Aromatisse,Fairy,,101,72,72,99,89,29,6,FALSE\\n684,Swirlix,Fairy,,62,48,66,59,57,49,6,FALSE\\n685,Slurpuff,Fairy,,82,80,86,85,75,72,6,FALSE\\n686,Inkay,Dark,Psychic,53,54,53,37,46,45,6,FALSE\\n687,Malamar,Dark,Psychic,86,92,88,68,75,73,6,FALSE\\n688,Binacle,Rock,Water,42,52,67,39,56,50,6,FALSE\\n689,Barbaracle,Rock,Water,72,105,115,54,86,68,6,FALSE\\n690,Skrelp,Poison,Water,50,60,60,60,60,30,6,FALSE\\n691,Dragalge,Poison,Dragon,65,75,90,97,123,44,6,FALSE\\n692,Clauncher,Water,,50,53,62,58,63,44,6,FALSE\\n693,Clawitzer,Water,,71,73,88,120,89,59,6,FALSE\\n694,Helioptile,Electric,Normal,44,38,33,61,43,70,6,FALSE\\n695,Heliolisk,Electric,Normal,62,55,52,109,94,109,6,FALSE\\n696,Tyrunt,Rock,Dragon,58,89,77,45,45,48,6,FALSE\\n697,Tyrantrum,Rock,Dragon,82,121,119,69,59,71,6,FALSE\\n698,Amaura,Rock,Ice,77,59,50,67,63,46,6,FALSE\\n699,Aurorus,Rock,Ice,123,77,72,99,92,58,6,FALSE\\n700,Sylveon,Fairy,,95,65,65,110,130,60,6,FALSE\\n701,Hawlucha,Fighting,Flying,78,92,75,74,63,118,6,FALSE\\n702,Dedenne,Electric,Fairy,67,58,57,81,67,101,6,FALSE\\n703,Carbink,Rock,Fairy,50,50,150,50,150,50,6,FALSE\\n704,Goomy,Dragon,,45,50,35,55,75,40,6,FALSE\\n705,Sliggoo,Dragon,,68,75,53,83,113,60,6,FALSE\\n706,Goodra,Dragon,,90,100,70,110,150,80,6,FALSE\\n707,Klefki,Steel,Fairy,57,80,91,80,87,75,6,FALSE\\n708,Phantump,Ghost,Grass,43,70,48,50,60,38,6,FALSE\\n709,Trevenant,Ghost,Grass,85,110,76,65,82,56,6,FALSE\\n710,PumpkabooAverage Size,Ghost,Grass,49,66,70,44,55,51,6,FALSE\\n710,PumpkabooSmall Size,Ghost,Grass,44,66,70,44,55,56,6,FALSE\\n710,PumpkabooLarge Size,Ghost,Grass,54,66,70,44,55,46,6,FALSE\\n710,PumpkabooSuper Size,Ghost,Grass,59,66,70,44,55,41,6,FALSE\\n711,GourgeistAverage Size,Ghost,Grass,65,90,122,58,75,84,6,FALSE\\n711,GourgeistSmall Size,Ghost,Grass,55,85,122,58,75,99,6,FALSE\\n711,GourgeistLarge Size,Ghost,Grass,75,95,122,58,75,69,6,FALSE\\n711,GourgeistSuper Size,Ghost,Grass,85,100,122,58,75,54,6,FALSE\\n712,Bergmite,Ice,,55,69,85,32,35,28,6,FALSE\\n713,Avalugg,Ice,,95,117,184,44,46,28,6,FALSE\\n714,Noibat,Flying,Dragon,40,30,35,45,40,55,6,FALSE\\n715,Noivern,Flying,Dragon,85,70,80,97,80,123,6,FALSE\\n716,Xerneas,Fairy,,126,131,95,131,98,99,6,TRUE\\n717,Yveltal,Dark,Flying,126,131,95,131,98,99,6,TRUE\\n718,Zygarde50% Forme,Dragon,Ground,108,100,121,81,95,95,6,TRUE\\n719,Diancie,Rock,Fairy,50,100,150,100,150,50,6,TRUE\\n719,DiancieMega Diancie,Rock,Fairy,50,160,110,160,110,110,6,TRUE\\n720,HoopaHoopa Confined,Psychic,Ghost,80,110,60,150,130,70,6,TRUE\\n720,HoopaHoopa Unbound,Psychic,Dark,80,160,60,170,130,80,6,TRUE\\n721,Volcanion,Fire,Water,80,110,120,130,90,70,6,TRUE\\n\"}"
            ]
          },
          "metadata": {
            "tags": []
          },
          "execution_count": 9
        }
      ]
    },
    {
      "cell_type": "markdown",
      "metadata": {
        "id": "EB5r0jQLWjnS"
      },
      "source": [
        "TODO #5"
      ]
    },
    {
      "cell_type": "code",
      "metadata": {
        "colab": {
          "base_uri": "https://localhost:8080/",
          "height": 237
        },
        "id": "U_1BvTA3W_xw",
        "outputId": "aebb8ba8-93b3-4c0d-ea4f-5776c69bc8c2"
      },
      "source": [
        "pokemon = pd.read_csv('pokemon_data.csv', index_col=0)\n",
        "pokemon.head()"
      ],
      "execution_count": 11,
      "outputs": [
        {
          "output_type": "execute_result",
          "data": {
            "text/html": [
              "<div>\n",
              "<style scoped>\n",
              "    .dataframe tbody tr th:only-of-type {\n",
              "        vertical-align: middle;\n",
              "    }\n",
              "\n",
              "    .dataframe tbody tr th {\n",
              "        vertical-align: top;\n",
              "    }\n",
              "\n",
              "    .dataframe thead th {\n",
              "        text-align: right;\n",
              "    }\n",
              "</style>\n",
              "<table border=\"1\" class=\"dataframe\">\n",
              "  <thead>\n",
              "    <tr style=\"text-align: right;\">\n",
              "      <th></th>\n",
              "      <th>Name</th>\n",
              "      <th>Type 1</th>\n",
              "      <th>Type 2</th>\n",
              "      <th>HP</th>\n",
              "      <th>Attack</th>\n",
              "      <th>Defense</th>\n",
              "      <th>Sp. Atk</th>\n",
              "      <th>Sp. Def</th>\n",
              "      <th>Speed</th>\n",
              "      <th>Generation</th>\n",
              "      <th>Legendary</th>\n",
              "    </tr>\n",
              "    <tr>\n",
              "      <th>#</th>\n",
              "      <th></th>\n",
              "      <th></th>\n",
              "      <th></th>\n",
              "      <th></th>\n",
              "      <th></th>\n",
              "      <th></th>\n",
              "      <th></th>\n",
              "      <th></th>\n",
              "      <th></th>\n",
              "      <th></th>\n",
              "      <th></th>\n",
              "    </tr>\n",
              "  </thead>\n",
              "  <tbody>\n",
              "    <tr>\n",
              "      <th>1</th>\n",
              "      <td>Bulbasaur</td>\n",
              "      <td>Grass</td>\n",
              "      <td>Poison</td>\n",
              "      <td>45</td>\n",
              "      <td>49</td>\n",
              "      <td>49</td>\n",
              "      <td>65</td>\n",
              "      <td>65</td>\n",
              "      <td>45</td>\n",
              "      <td>1</td>\n",
              "      <td>False</td>\n",
              "    </tr>\n",
              "    <tr>\n",
              "      <th>2</th>\n",
              "      <td>Ivysaur</td>\n",
              "      <td>Grass</td>\n",
              "      <td>Poison</td>\n",
              "      <td>60</td>\n",
              "      <td>62</td>\n",
              "      <td>63</td>\n",
              "      <td>80</td>\n",
              "      <td>80</td>\n",
              "      <td>60</td>\n",
              "      <td>1</td>\n",
              "      <td>False</td>\n",
              "    </tr>\n",
              "    <tr>\n",
              "      <th>3</th>\n",
              "      <td>Venusaur</td>\n",
              "      <td>Grass</td>\n",
              "      <td>Poison</td>\n",
              "      <td>80</td>\n",
              "      <td>82</td>\n",
              "      <td>83</td>\n",
              "      <td>100</td>\n",
              "      <td>100</td>\n",
              "      <td>80</td>\n",
              "      <td>1</td>\n",
              "      <td>False</td>\n",
              "    </tr>\n",
              "    <tr>\n",
              "      <th>3</th>\n",
              "      <td>VenusaurMega Venusaur</td>\n",
              "      <td>Grass</td>\n",
              "      <td>Poison</td>\n",
              "      <td>80</td>\n",
              "      <td>100</td>\n",
              "      <td>123</td>\n",
              "      <td>122</td>\n",
              "      <td>120</td>\n",
              "      <td>80</td>\n",
              "      <td>1</td>\n",
              "      <td>False</td>\n",
              "    </tr>\n",
              "    <tr>\n",
              "      <th>4</th>\n",
              "      <td>Charmander</td>\n",
              "      <td>Fire</td>\n",
              "      <td>NaN</td>\n",
              "      <td>39</td>\n",
              "      <td>52</td>\n",
              "      <td>43</td>\n",
              "      <td>60</td>\n",
              "      <td>50</td>\n",
              "      <td>65</td>\n",
              "      <td>1</td>\n",
              "      <td>False</td>\n",
              "    </tr>\n",
              "  </tbody>\n",
              "</table>\n",
              "</div>"
            ],
            "text/plain": [
              "                    Name Type 1  Type 2  ...  Speed  Generation  Legendary\n",
              "#                                        ...                              \n",
              "1              Bulbasaur  Grass  Poison  ...     45           1      False\n",
              "2                Ivysaur  Grass  Poison  ...     60           1      False\n",
              "3               Venusaur  Grass  Poison  ...     80           1      False\n",
              "3  VenusaurMega Venusaur  Grass  Poison  ...     80           1      False\n",
              "4             Charmander   Fire     NaN  ...     65           1      False\n",
              "\n",
              "[5 rows x 11 columns]"
            ]
          },
          "metadata": {
            "tags": []
          },
          "execution_count": 11
        }
      ]
    },
    {
      "cell_type": "markdown",
      "metadata": {
        "id": "V3FeFvJQXKXI"
      },
      "source": [
        "TODO #6\n"
      ]
    },
    {
      "cell_type": "code",
      "metadata": {
        "colab": {
          "base_uri": "https://localhost:8080/"
        },
        "id": "X_Fy4Z-JXMD3",
        "outputId": "0ff5437e-6eee-46bc-84ed-277543b29ce9"
      },
      "source": [
        "pokemon.info()"
      ],
      "execution_count": 13,
      "outputs": [
        {
          "output_type": "stream",
          "text": [
            "<class 'pandas.core.frame.DataFrame'>\n",
            "Int64Index: 800 entries, 1 to 721\n",
            "Data columns (total 11 columns):\n",
            " #   Column      Non-Null Count  Dtype \n",
            "---  ------      --------------  ----- \n",
            " 0   Name        800 non-null    object\n",
            " 1   Type 1      800 non-null    object\n",
            " 2   Type 2      414 non-null    object\n",
            " 3   HP          800 non-null    int64 \n",
            " 4   Attack      800 non-null    int64 \n",
            " 5   Defense     800 non-null    int64 \n",
            " 6   Sp. Atk     800 non-null    int64 \n",
            " 7   Sp. Def     800 non-null    int64 \n",
            " 8   Speed       800 non-null    int64 \n",
            " 9   Generation  800 non-null    int64 \n",
            " 10  Legendary   800 non-null    bool  \n",
            "dtypes: bool(1), int64(7), object(3)\n",
            "memory usage: 69.5+ KB\n"
          ],
          "name": "stdout"
        }
      ]
    },
    {
      "cell_type": "code",
      "metadata": {
        "colab": {
          "base_uri": "https://localhost:8080/",
          "height": 300
        },
        "id": "Mia4k1m8XjWC",
        "outputId": "67bd9457-df93-480a-cf18-7296e62de94a"
      },
      "source": [
        "pokemon.corr()\n"
      ],
      "execution_count": 14,
      "outputs": [
        {
          "output_type": "execute_result",
          "data": {
            "text/html": [
              "<div>\n",
              "<style scoped>\n",
              "    .dataframe tbody tr th:only-of-type {\n",
              "        vertical-align: middle;\n",
              "    }\n",
              "\n",
              "    .dataframe tbody tr th {\n",
              "        vertical-align: top;\n",
              "    }\n",
              "\n",
              "    .dataframe thead th {\n",
              "        text-align: right;\n",
              "    }\n",
              "</style>\n",
              "<table border=\"1\" class=\"dataframe\">\n",
              "  <thead>\n",
              "    <tr style=\"text-align: right;\">\n",
              "      <th></th>\n",
              "      <th>HP</th>\n",
              "      <th>Attack</th>\n",
              "      <th>Defense</th>\n",
              "      <th>Sp. Atk</th>\n",
              "      <th>Sp. Def</th>\n",
              "      <th>Speed</th>\n",
              "      <th>Generation</th>\n",
              "      <th>Legendary</th>\n",
              "    </tr>\n",
              "  </thead>\n",
              "  <tbody>\n",
              "    <tr>\n",
              "      <th>HP</th>\n",
              "      <td>1.000000</td>\n",
              "      <td>0.422386</td>\n",
              "      <td>0.239622</td>\n",
              "      <td>0.362380</td>\n",
              "      <td>0.378718</td>\n",
              "      <td>0.175952</td>\n",
              "      <td>0.058683</td>\n",
              "      <td>0.273620</td>\n",
              "    </tr>\n",
              "    <tr>\n",
              "      <th>Attack</th>\n",
              "      <td>0.422386</td>\n",
              "      <td>1.000000</td>\n",
              "      <td>0.438687</td>\n",
              "      <td>0.396362</td>\n",
              "      <td>0.263990</td>\n",
              "      <td>0.381240</td>\n",
              "      <td>0.051451</td>\n",
              "      <td>0.345408</td>\n",
              "    </tr>\n",
              "    <tr>\n",
              "      <th>Defense</th>\n",
              "      <td>0.239622</td>\n",
              "      <td>0.438687</td>\n",
              "      <td>1.000000</td>\n",
              "      <td>0.223549</td>\n",
              "      <td>0.510747</td>\n",
              "      <td>0.015227</td>\n",
              "      <td>0.042419</td>\n",
              "      <td>0.246377</td>\n",
              "    </tr>\n",
              "    <tr>\n",
              "      <th>Sp. Atk</th>\n",
              "      <td>0.362380</td>\n",
              "      <td>0.396362</td>\n",
              "      <td>0.223549</td>\n",
              "      <td>1.000000</td>\n",
              "      <td>0.506121</td>\n",
              "      <td>0.473018</td>\n",
              "      <td>0.036437</td>\n",
              "      <td>0.448907</td>\n",
              "    </tr>\n",
              "    <tr>\n",
              "      <th>Sp. Def</th>\n",
              "      <td>0.378718</td>\n",
              "      <td>0.263990</td>\n",
              "      <td>0.510747</td>\n",
              "      <td>0.506121</td>\n",
              "      <td>1.000000</td>\n",
              "      <td>0.259133</td>\n",
              "      <td>0.028486</td>\n",
              "      <td>0.363937</td>\n",
              "    </tr>\n",
              "    <tr>\n",
              "      <th>Speed</th>\n",
              "      <td>0.175952</td>\n",
              "      <td>0.381240</td>\n",
              "      <td>0.015227</td>\n",
              "      <td>0.473018</td>\n",
              "      <td>0.259133</td>\n",
              "      <td>1.000000</td>\n",
              "      <td>-0.023121</td>\n",
              "      <td>0.326715</td>\n",
              "    </tr>\n",
              "    <tr>\n",
              "      <th>Generation</th>\n",
              "      <td>0.058683</td>\n",
              "      <td>0.051451</td>\n",
              "      <td>0.042419</td>\n",
              "      <td>0.036437</td>\n",
              "      <td>0.028486</td>\n",
              "      <td>-0.023121</td>\n",
              "      <td>1.000000</td>\n",
              "      <td>0.079794</td>\n",
              "    </tr>\n",
              "    <tr>\n",
              "      <th>Legendary</th>\n",
              "      <td>0.273620</td>\n",
              "      <td>0.345408</td>\n",
              "      <td>0.246377</td>\n",
              "      <td>0.448907</td>\n",
              "      <td>0.363937</td>\n",
              "      <td>0.326715</td>\n",
              "      <td>0.079794</td>\n",
              "      <td>1.000000</td>\n",
              "    </tr>\n",
              "  </tbody>\n",
              "</table>\n",
              "</div>"
            ],
            "text/plain": [
              "                  HP    Attack   Defense  ...     Speed  Generation  Legendary\n",
              "HP          1.000000  0.422386  0.239622  ...  0.175952    0.058683   0.273620\n",
              "Attack      0.422386  1.000000  0.438687  ...  0.381240    0.051451   0.345408\n",
              "Defense     0.239622  0.438687  1.000000  ...  0.015227    0.042419   0.246377\n",
              "Sp. Atk     0.362380  0.396362  0.223549  ...  0.473018    0.036437   0.448907\n",
              "Sp. Def     0.378718  0.263990  0.510747  ...  0.259133    0.028486   0.363937\n",
              "Speed       0.175952  0.381240  0.015227  ...  1.000000   -0.023121   0.326715\n",
              "Generation  0.058683  0.051451  0.042419  ... -0.023121    1.000000   0.079794\n",
              "Legendary   0.273620  0.345408  0.246377  ...  0.326715    0.079794   1.000000\n",
              "\n",
              "[8 rows x 8 columns]"
            ]
          },
          "metadata": {
            "tags": []
          },
          "execution_count": 14
        }
      ]
    },
    {
      "cell_type": "code",
      "metadata": {
        "colab": {
          "base_uri": "https://localhost:8080/",
          "height": 1000
        },
        "id": "_G_K8t-6XtD3",
        "outputId": "e0411f56-bfce-4c94-b53a-6fa0ede57802"
      },
      "source": [
        "f, ax = plt.subplots(figsize = (18, 18))\n",
        "sns.heatmap(pokemon.corr(), annot=True, linewidths=0.5, fmt='.1f', ax=ax)"
      ],
      "execution_count": 15,
      "outputs": [
        {
          "output_type": "execute_result",
          "data": {
            "text/plain": [
              "<matplotlib.axes._subplots.AxesSubplot at 0x7fb6c153d990>"
            ]
          },
          "metadata": {
            "tags": []
          },
          "execution_count": 15
        },
        {
          "output_type": "display_data",
          "data": {
            "image/png": "[encoded data removed]",
            "text/plain": [
              "<Figure size 1296x1296 with 2 Axes>"
            ]
          },
          "metadata": {
            "tags": [],
            "needs_background": "light"
          }
        }
      ]
    },
    {
      "cell_type": "markdown",
      "metadata": {
        "id": "ficI8vegX3st"
      },
      "source": [
        "TODO #7\n"
      ]
    },
    {
      "cell_type": "code",
      "metadata": {
        "colab": {
          "base_uri": "https://localhost:8080/",
          "height": 313
        },
        "id": "IglTK07TX5q8",
        "outputId": "4255fc87-56bb-42ce-a19b-e2a54279a683"
      },
      "source": [
        "plt.title(\"Line plot\")\n",
        "plt.plot(pokemon['Speed'], color=\"Red\")\n",
        "plt.plot(pokemon['Defense'], color=\"Green\")\n",
        "plt.legend([\"Speed\",\"Defense\"])\n",
        "plt.xlabel(\"Speed and Defense\")"
      ],
      "execution_count": 16,
      "outputs": [
        {
          "output_type": "execute_result",
          "data": {
            "text/plain": [
              "Text(0.5, 0, 'Speed and Defense')"
            ]
          },
          "metadata": {
            "tags": []
          },
          "execution_count": 16
        },
        {
          "output_type": "display_data",
          "data": {
            "image/png": "[encoded data removed]",
            "text/plain": [
              "<Figure size 432x288 with 1 Axes>"
            ]
          },
          "metadata": {
            "tags": [],
            "needs_background": "light"
          }
        }
      ]
    },
    {
      "cell_type": "markdown",
      "metadata": {
        "id": "-BPI8XW8YTeD"
      },
      "source": [
        "TODO #8"
      ]
    },
    {
      "cell_type": "code",
      "metadata": {
        "colab": {
          "base_uri": "https://localhost:8080/",
          "height": 313
        },
        "id": "28SwCPQ9Y8My",
        "outputId": "dc78f640-3883-4d8e-d2dc-debcf84119fb"
      },
      "source": [
        "sns.scatterplot(x='Attack',y='Defense',data=pokemon).set(Title=\"Attack Defense Scatter Plot\")\n"
      ],
      "execution_count": 17,
      "outputs": [
        {
          "output_type": "execute_result",
          "data": {
            "text/plain": [
              "[Text(0.5, 1.0, 'Attack Defense Scatter Plot')]"
            ]
          },
          "metadata": {
            "tags": []
          },
          "execution_count": 17
        },
        {
          "output_type": "display_data",
          "data": {
            "image/png": "[encoded data removed]",
            "text/plain": [
              "<Figure size 432x288 with 1 Axes>"
            ]
          },
          "metadata": {
            "tags": [],
            "needs_background": "light"
          }
        }
      ]
    },
    {
      "cell_type": "markdown",
      "metadata": {
        "id": "fHMGeg6jZBVF"
      },
      "source": [
        "TODO #9"
      ]
    },
    {
      "cell_type": "code",
      "metadata": {
        "colab": {
          "base_uri": "https://localhost:8080/",
          "height": 175
        },
        "id": "1yXodaLfZVJG",
        "outputId": "8be8a126-1963-4ad7-a3bb-252dba35ccae"
      },
      "source": [
        "pokemon[pokemon['Defense']>200]\n"
      ],
      "execution_count": 19,
      "outputs": [
        {
          "output_type": "execute_result",
          "data": {
            "text/html": [
              "<div>\n",
              "<style scoped>\n",
              "    .dataframe tbody tr th:only-of-type {\n",
              "        vertical-align: middle;\n",
              "    }\n",
              "\n",
              "    .dataframe tbody tr th {\n",
              "        vertical-align: top;\n",
              "    }\n",
              "\n",
              "    .dataframe thead th {\n",
              "        text-align: right;\n",
              "    }\n",
              "</style>\n",
              "<table border=\"1\" class=\"dataframe\">\n",
              "  <thead>\n",
              "    <tr style=\"text-align: right;\">\n",
              "      <th></th>\n",
              "      <th>Name</th>\n",
              "      <th>Type 1</th>\n",
              "      <th>Type 2</th>\n",
              "      <th>HP</th>\n",
              "      <th>Attack</th>\n",
              "      <th>Defense</th>\n",
              "      <th>Sp. Atk</th>\n",
              "      <th>Sp. Def</th>\n",
              "      <th>Speed</th>\n",
              "      <th>Generation</th>\n",
              "      <th>Legendary</th>\n",
              "    </tr>\n",
              "    <tr>\n",
              "      <th>#</th>\n",
              "      <th></th>\n",
              "      <th></th>\n",
              "      <th></th>\n",
              "      <th></th>\n",
              "      <th></th>\n",
              "      <th></th>\n",
              "      <th></th>\n",
              "      <th></th>\n",
              "      <th></th>\n",
              "      <th></th>\n",
              "      <th></th>\n",
              "    </tr>\n",
              "  </thead>\n",
              "  <tbody>\n",
              "    <tr>\n",
              "      <th>208</th>\n",
              "      <td>SteelixMega Steelix</td>\n",
              "      <td>Steel</td>\n",
              "      <td>Ground</td>\n",
              "      <td>75</td>\n",
              "      <td>125</td>\n",
              "      <td>230</td>\n",
              "      <td>55</td>\n",
              "      <td>95</td>\n",
              "      <td>30</td>\n",
              "      <td>2</td>\n",
              "      <td>False</td>\n",
              "    </tr>\n",
              "    <tr>\n",
              "      <th>213</th>\n",
              "      <td>Shuckle</td>\n",
              "      <td>Bug</td>\n",
              "      <td>Rock</td>\n",
              "      <td>20</td>\n",
              "      <td>10</td>\n",
              "      <td>230</td>\n",
              "      <td>10</td>\n",
              "      <td>230</td>\n",
              "      <td>5</td>\n",
              "      <td>2</td>\n",
              "      <td>False</td>\n",
              "    </tr>\n",
              "    <tr>\n",
              "      <th>306</th>\n",
              "      <td>AggronMega Aggron</td>\n",
              "      <td>Steel</td>\n",
              "      <td>NaN</td>\n",
              "      <td>70</td>\n",
              "      <td>140</td>\n",
              "      <td>230</td>\n",
              "      <td>60</td>\n",
              "      <td>80</td>\n",
              "      <td>50</td>\n",
              "      <td>3</td>\n",
              "      <td>False</td>\n",
              "    </tr>\n",
              "  </tbody>\n",
              "</table>\n",
              "</div>"
            ],
            "text/plain": [
              "                    Name Type 1  Type 2  ...  Speed  Generation  Legendary\n",
              "#                                        ...                              \n",
              "208  SteelixMega Steelix  Steel  Ground  ...     30           2      False\n",
              "213              Shuckle    Bug    Rock  ...      5           2      False\n",
              "306    AggronMega Aggron  Steel     NaN  ...     50           3      False\n",
              "\n",
              "[3 rows x 11 columns]"
            ]
          },
          "metadata": {
            "tags": []
          },
          "execution_count": 19
        }
      ]
    },
    {
      "cell_type": "markdown",
      "metadata": {
        "id": "hRZqCm6wZao4"
      },
      "source": [
        "TODO #10"
      ]
    },
    {
      "cell_type": "code",
      "metadata": {
        "colab": {
          "base_uri": "https://localhost:8080/",
          "height": 455
        },
        "id": "KpKzP_WeZdDC",
        "outputId": "f8310c4d-9ebc-4751-f6b7-b6d0a2fee2eb"
      },
      "source": [
        "pokemon[(pokemon['Attack'] > 100) & (pokemon['Defense'] < 150)]\n"
      ],
      "execution_count": 20,
      "outputs": [
        {
          "output_type": "execute_result",
          "data": {
            "text/html": [
              "<div>\n",
              "<style scoped>\n",
              "    .dataframe tbody tr th:only-of-type {\n",
              "        vertical-align: middle;\n",
              "    }\n",
              "\n",
              "    .dataframe tbody tr th {\n",
              "        vertical-align: top;\n",
              "    }\n",
              "\n",
              "    .dataframe thead th {\n",
              "        text-align: right;\n",
              "    }\n",
              "</style>\n",
              "<table border=\"1\" class=\"dataframe\">\n",
              "  <thead>\n",
              "    <tr style=\"text-align: right;\">\n",
              "      <th></th>\n",
              "      <th>Name</th>\n",
              "      <th>Type 1</th>\n",
              "      <th>Type 2</th>\n",
              "      <th>HP</th>\n",
              "      <th>Attack</th>\n",
              "      <th>Defense</th>\n",
              "      <th>Sp. Atk</th>\n",
              "      <th>Sp. Def</th>\n",
              "      <th>Speed</th>\n",
              "      <th>Generation</th>\n",
              "      <th>Legendary</th>\n",
              "    </tr>\n",
              "    <tr>\n",
              "      <th>#</th>\n",
              "      <th></th>\n",
              "      <th></th>\n",
              "      <th></th>\n",
              "      <th></th>\n",
              "      <th></th>\n",
              "      <th></th>\n",
              "      <th></th>\n",
              "      <th></th>\n",
              "      <th></th>\n",
              "      <th></th>\n",
              "      <th></th>\n",
              "    </tr>\n",
              "  </thead>\n",
              "  <tbody>\n",
              "    <tr>\n",
              "      <th>6</th>\n",
              "      <td>CharizardMega Charizard X</td>\n",
              "      <td>Fire</td>\n",
              "      <td>Dragon</td>\n",
              "      <td>78</td>\n",
              "      <td>130</td>\n",
              "      <td>111</td>\n",
              "      <td>130</td>\n",
              "      <td>85</td>\n",
              "      <td>100</td>\n",
              "      <td>1</td>\n",
              "      <td>False</td>\n",
              "    </tr>\n",
              "    <tr>\n",
              "      <th>6</th>\n",
              "      <td>CharizardMega Charizard Y</td>\n",
              "      <td>Fire</td>\n",
              "      <td>Flying</td>\n",
              "      <td>78</td>\n",
              "      <td>104</td>\n",
              "      <td>78</td>\n",
              "      <td>159</td>\n",
              "      <td>115</td>\n",
              "      <td>100</td>\n",
              "      <td>1</td>\n",
              "      <td>False</td>\n",
              "    </tr>\n",
              "    <tr>\n",
              "      <th>9</th>\n",
              "      <td>BlastoiseMega Blastoise</td>\n",
              "      <td>Water</td>\n",
              "      <td>NaN</td>\n",
              "      <td>79</td>\n",
              "      <td>103</td>\n",
              "      <td>120</td>\n",
              "      <td>135</td>\n",
              "      <td>115</td>\n",
              "      <td>78</td>\n",
              "      <td>1</td>\n",
              "      <td>False</td>\n",
              "    </tr>\n",
              "    <tr>\n",
              "      <th>15</th>\n",
              "      <td>BeedrillMega Beedrill</td>\n",
              "      <td>Bug</td>\n",
              "      <td>Poison</td>\n",
              "      <td>65</td>\n",
              "      <td>150</td>\n",
              "      <td>40</td>\n",
              "      <td>15</td>\n",
              "      <td>80</td>\n",
              "      <td>145</td>\n",
              "      <td>1</td>\n",
              "      <td>False</td>\n",
              "    </tr>\n",
              "    <tr>\n",
              "      <th>34</th>\n",
              "      <td>Nidoking</td>\n",
              "      <td>Poison</td>\n",
              "      <td>Ground</td>\n",
              "      <td>81</td>\n",
              "      <td>102</td>\n",
              "      <td>77</td>\n",
              "      <td>85</td>\n",
              "      <td>75</td>\n",
              "      <td>85</td>\n",
              "      <td>1</td>\n",
              "      <td>False</td>\n",
              "    </tr>\n",
              "    <tr>\n",
              "      <th>...</th>\n",
              "      <td>...</td>\n",
              "      <td>...</td>\n",
              "      <td>...</td>\n",
              "      <td>...</td>\n",
              "      <td>...</td>\n",
              "      <td>...</td>\n",
              "      <td>...</td>\n",
              "      <td>...</td>\n",
              "      <td>...</td>\n",
              "      <td>...</td>\n",
              "      <td>...</td>\n",
              "    </tr>\n",
              "    <tr>\n",
              "      <th>717</th>\n",
              "      <td>Yveltal</td>\n",
              "      <td>Dark</td>\n",
              "      <td>Flying</td>\n",
              "      <td>126</td>\n",
              "      <td>131</td>\n",
              "      <td>95</td>\n",
              "      <td>131</td>\n",
              "      <td>98</td>\n",
              "      <td>99</td>\n",
              "      <td>6</td>\n",
              "      <td>True</td>\n",
              "    </tr>\n",
              "    <tr>\n",
              "      <th>719</th>\n",
              "      <td>DiancieMega Diancie</td>\n",
              "      <td>Rock</td>\n",
              "      <td>Fairy</td>\n",
              "      <td>50</td>\n",
              "      <td>160</td>\n",
              "      <td>110</td>\n",
              "      <td>160</td>\n",
              "      <td>110</td>\n",
              "      <td>110</td>\n",
              "      <td>6</td>\n",
              "      <td>True</td>\n",
              "    </tr>\n",
              "    <tr>\n",
              "      <th>720</th>\n",
              "      <td>HoopaHoopa Confined</td>\n",
              "      <td>Psychic</td>\n",
              "      <td>Ghost</td>\n",
              "      <td>80</td>\n",
              "      <td>110</td>\n",
              "      <td>60</td>\n",
              "      <td>150</td>\n",
              "      <td>130</td>\n",
              "      <td>70</td>\n",
              "      <td>6</td>\n",
              "      <td>True</td>\n",
              "    </tr>\n",
              "    <tr>\n",
              "      <th>720</th>\n",
              "      <td>HoopaHoopa Unbound</td>\n",
              "      <td>Psychic</td>\n",
              "      <td>Dark</td>\n",
              "      <td>80</td>\n",
              "      <td>160</td>\n",
              "      <td>60</td>\n",
              "      <td>170</td>\n",
              "      <td>130</td>\n",
              "      <td>80</td>\n",
              "      <td>6</td>\n",
              "      <td>True</td>\n",
              "    </tr>\n",
              "    <tr>\n",
              "      <th>721</th>\n",
              "      <td>Volcanion</td>\n",
              "      <td>Fire</td>\n",
              "      <td>Water</td>\n",
              "      <td>80</td>\n",
              "      <td>110</td>\n",
              "      <td>120</td>\n",
              "      <td>130</td>\n",
              "      <td>90</td>\n",
              "      <td>70</td>\n",
              "      <td>6</td>\n",
              "      <td>True</td>\n",
              "    </tr>\n",
              "  </tbody>\n",
              "</table>\n",
              "<p>162 rows × 11 columns</p>\n",
              "</div>"
            ],
            "text/plain": [
              "                          Name   Type 1  Type 2  ...  Speed  Generation  Legendary\n",
              "#                                                ...                              \n",
              "6    CharizardMega Charizard X     Fire  Dragon  ...    100           1      False\n",
              "6    CharizardMega Charizard Y     Fire  Flying  ...    100           1      False\n",
              "9      BlastoiseMega Blastoise    Water     NaN  ...     78           1      False\n",
              "15       BeedrillMega Beedrill      Bug  Poison  ...    145           1      False\n",
              "34                    Nidoking   Poison  Ground  ...     85           1      False\n",
              "..                         ...      ...     ...  ...    ...         ...        ...\n",
              "717                    Yveltal     Dark  Flying  ...     99           6       True\n",
              "719        DiancieMega Diancie     Rock   Fairy  ...    110           6       True\n",
              "720        HoopaHoopa Confined  Psychic   Ghost  ...     70           6       True\n",
              "720         HoopaHoopa Unbound  Psychic    Dark  ...     80           6       True\n",
              "721                  Volcanion     Fire   Water  ...     70           6       True\n",
              "\n",
              "[162 rows x 11 columns]"
            ]
          },
          "metadata": {
            "tags": []
          },
          "execution_count": 20
        }
      ]
    },
    {
      "cell_type": "code",
      "metadata": {
        "colab": {
          "resources": {
            "http://localhost:8080/nbextensions/google.colab/files.js": {
              "data": "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",
              "ok": true,
              "headers": [
                [
                  "content-type",
                  "application/javascript"
                ]
              ],
              "status": 200,
              "status_text": ""
            }
          },
          "base_uri": "https://localhost:8080/",
          "height": 111
        },
        "id": "n27KrcNrZly2",
        "outputId": "565f1382-ec4a-4738-adc5-a2375cde57e0"
      },
      "source": [
        "from google.colab import files\n",
        "files.upload()"
      ],
      "execution_count": 21,
      "outputs": [
        {
          "output_type": "display_data",
          "data": {
            "text/html": [
              "\n",
              "     <input type=\"file\" id=\"files-fcfc1638-8ba4-4d55-9993-4833b61ff092\" name=\"files[]\" multiple disabled\n",
              "        style=\"border:none\" />\n",
              "     <output id=\"result-fcfc1638-8ba4-4d55-9993-4833b61ff092\">\n",
              "      Upload widget is only available when the cell has been executed in the\n",
              "      current browser session. Please rerun this cell to enable.\n",
              "      </output>\n",
              "      <script src=\"/nbextensions/google.colab/files.js\"></script> "
            ],
            "text/plain": [
              "<IPython.core.display.HTML object>"
            ]
          },
          "metadata": {
            "tags": []
          }
        },
        {
          "output_type": "stream",
          "text": [
            "Saving pokemon_data.csv to pokemon_data (1).csv\n"
          ],
          "name": "stdout"
        },
        {
          "output_type": "execute_result",
          "data": {
            "text/plain": [
              "{'pokemon_data.csv': b\"#,Name,Type 1,Type 2,HP,Attack,Defense,Sp. Atk,Sp. Def,Speed,Generation,Legendary\\n1,Bulbasaur,Grass,Poison,45,49,49,65,65,45,1,FALSE\\n2,Ivysaur,Grass,Poison,60,62,63,80,80,60,1,FALSE\\n3,Venusaur,Grass,Poison,80,82,83,100,100,80,1,FALSE\\n3,VenusaurMega Venusaur,Grass,Poison,80,100,123,122,120,80,1,FALSE\\n4,Charmander,Fire,,39,52,43,60,50,65,1,FALSE\\n5,Charmeleon,Fire,,58,64,58,80,65,80,1,FALSE\\n6,Charizard,Fire,Flying,78,84,78,109,85,100,1,FALSE\\n6,CharizardMega Charizard X,Fire,Dragon,78,130,111,130,85,100,1,FALSE\\n6,CharizardMega Charizard Y,Fire,Flying,78,104,78,159,115,100,1,FALSE\\n7,Squirtle,Water,,44,48,65,50,64,43,1,FALSE\\n8,Wartortle,Water,,59,63,80,65,80,58,1,FALSE\\n9,Blastoise,Water,,79,83,100,85,105,78,1,FALSE\\n9,BlastoiseMega Blastoise,Water,,79,103,120,135,115,78,1,FALSE\\n10,Caterpie,Bug,,45,30,35,20,20,45,1,FALSE\\n11,Metapod,Bug,,50,20,55,25,25,30,1,FALSE\\n12,Butterfree,Bug,Flying,60,45,50,90,80,70,1,FALSE\\n13,Weedle,Bug,Poison,40,35,30,20,20,50,1,FALSE\\n14,Kakuna,Bug,Poison,45,25,50,25,25,35,1,FALSE\\n15,Beedrill,Bug,Poison,65,90,40,45,80,75,1,FALSE\\n15,BeedrillMega Beedrill,Bug,Poison,65,150,40,15,80,145,1,FALSE\\n16,Pidgey,Normal,Flying,40,45,40,35,35,56,1,FALSE\\n17,Pidgeotto,Normal,Flying,63,60,55,50,50,71,1,FALSE\\n18,Pidgeot,Normal,Flying,83,80,75,70,70,101,1,FALSE\\n18,PidgeotMega Pidgeot,Normal,Flying,83,80,80,135,80,121,1,FALSE\\n19,Rattata,Normal,,30,56,35,25,35,72,1,FALSE\\n20,Raticate,Normal,,55,81,60,50,70,97,1,FALSE\\n21,Spearow,Normal,Flying,40,60,30,31,31,70,1,FALSE\\n22,Fearow,Normal,Flying,65,90,65,61,61,100,1,FALSE\\n23,Ekans,Poison,,35,60,44,40,54,55,1,FALSE\\n24,Arbok,Poison,,60,85,69,65,79,80,1,FALSE\\n25,Pikachu,Electric,,35,55,40,50,50,90,1,FALSE\\n26,Raichu,Electric,,60,90,55,90,80,110,1,FALSE\\n27,Sandshrew,Ground,,50,75,85,20,30,40,1,FALSE\\n28,Sandslash,Ground,,75,100,110,45,55,65,1,FALSE\\n29,Nidoran (Female),Poison,,55,47,52,40,40,41,1,FALSE\\n30,Nidorina,Poison,,70,62,67,55,55,56,1,FALSE\\n31,Nidoqueen,Poison,Ground,90,92,87,75,85,76,1,FALSE\\n32,Nidoran (Male),Poison,,46,57,40,40,40,50,1,FALSE\\n33,Nidorino,Poison,,61,72,57,55,55,65,1,FALSE\\n34,Nidoking,Poison,Ground,81,102,77,85,75,85,1,FALSE\\n35,Clefairy,Fairy,,70,45,48,60,65,35,1,FALSE\\n36,Clefable,Fairy,,95,70,73,95,90,60,1,FALSE\\n37,Vulpix,Fire,,38,41,40,50,65,65,1,FALSE\\n38,Ninetales,Fire,,73,76,75,81,100,100,1,FALSE\\n39,Jigglypuff,Normal,Fairy,115,45,20,45,25,20,1,FALSE\\n40,Wigglytuff,Normal,Fairy,140,70,45,85,50,45,1,FALSE\\n41,Zubat,Poison,Flying,40,45,35,30,40,55,1,FALSE\\n42,Golbat,Poison,Flying,75,80,70,65,75,90,1,FALSE\\n43,Oddish,Grass,Poison,45,50,55,75,65,30,1,FALSE\\n44,Gloom,Grass,Poison,60,65,70,85,75,40,1,FALSE\\n45,Vileplume,Grass,Poison,75,80,85,110,90,50,1,FALSE\\n46,Paras,Bug,Grass,35,70,55,45,55,25,1,FALSE\\n47,Parasect,Bug,Grass,60,95,80,60,80,30,1,FALSE\\n48,Venonat,Bug,Poison,60,55,50,40,55,45,1,FALSE\\n49,Venomoth,Bug,Poison,70,65,60,90,75,90,1,FALSE\\n50,Diglett,Ground,,10,55,25,35,45,95,1,FALSE\\n51,Dugtrio,Ground,,35,80,50,50,70,120,1,FALSE\\n52,Meowth,Normal,,40,45,35,40,40,90,1,FALSE\\n53,Persian,Normal,,65,70,60,65,65,115,1,FALSE\\n54,Psyduck,Water,,50,52,48,65,50,55,1,FALSE\\n55,Golduck,Water,,80,82,78,95,80,85,1,FALSE\\n56,Mankey,Fighting,,40,80,35,35,45,70,1,FALSE\\n57,Primeape,Fighting,,65,105,60,60,70,95,1,FALSE\\n58,Growlithe,Fire,,55,70,45,70,50,60,1,FALSE\\n59,Arcanine,Fire,,90,110,80,100,80,95,1,FALSE\\n60,Poliwag,Water,,40,50,40,40,40,90,1,FALSE\\n61,Poliwhirl,Water,,65,65,65,50,50,90,1,FALSE\\n62,Poliwrath,Water,Fighting,90,95,95,70,90,70,1,FALSE\\n63,Abra,Psychic,,25,20,15,105,55,90,1,FALSE\\n64,Kadabra,Psychic,,40,35,30,120,70,105,1,FALSE\\n65,Alakazam,Psychic,,55,50,45,135,95,120,1,FALSE\\n65,AlakazamMega Alakazam,Psychic,,55,50,65,175,95,150,1,FALSE\\n66,Machop,Fighting,,70,80,50,35,35,35,1,FALSE\\n67,Machoke,Fighting,,80,100,70,50,60,45,1,FALSE\\n68,Machamp,Fighting,,90,130,80,65,85,55,1,FALSE\\n69,Bellsprout,Grass,Poison,50,75,35,70,30,40,1,FALSE\\n70,Weepinbell,Grass,Poison,65,90,50,85,45,55,1,FALSE\\n71,Victreebel,Grass,Poison,80,105,65,100,70,70,1,FALSE\\n72,Tentacool,Water,Poison,40,40,35,50,100,70,1,FALSE\\n73,Tentacruel,Water,Poison,80,70,65,80,120,100,1,FALSE\\n74,Geodude,Rock,Ground,40,80,100,30,30,20,1,FALSE\\n75,Graveler,Rock,Ground,55,95,115,45,45,35,1,FALSE\\n76,Golem,Rock,Ground,80,120,130,55,65,45,1,FALSE\\n77,Ponyta,Fire,,50,85,55,65,65,90,1,FALSE\\n78,Rapidash,Fire,,65,100,70,80,80,105,1,FALSE\\n79,Slowpoke,Water,Psychic,90,65,65,40,40,15,1,FALSE\\n80,Slowbro,Water,Psychic,95,75,110,100,80,30,1,FALSE\\n80,SlowbroMega Slowbro,Water,Psychic,95,75,180,130,80,30,1,FALSE\\n81,Magnemite,Electric,Steel,25,35,70,95,55,45,1,FALSE\\n82,Magneton,Electric,Steel,50,60,95,120,70,70,1,FALSE\\n83,Farfetch'd,Normal,Flying,52,65,55,58,62,60,1,FALSE\\n84,Doduo,Normal,Flying,35,85,45,35,35,75,1,FALSE\\n85,Dodrio,Normal,Flying,60,110,70,60,60,100,1,FALSE\\n86,Seel,Water,,65,45,55,45,70,45,1,FALSE\\n87,Dewgong,Water,Ice,90,70,80,70,95,70,1,FALSE\\n88,Grimer,Poison,,80,80,50,40,50,25,1,FALSE\\n89,Muk,Poison,,105,105,75,65,100,50,1,FALSE\\n90,Shellder,Water,,30,65,100,45,25,40,1,FALSE\\n91,Cloyster,Water,Ice,50,95,180,85,45,70,1,FALSE\\n92,Gastly,Ghost,Poison,30,35,30,100,35,80,1,FALSE\\n93,Haunter,Ghost,Poison,45,50,45,115,55,95,1,FALSE\\n94,Gengar,Ghost,Poison,60,65,60,130,75,110,1,FALSE\\n94,GengarMega Gengar,Ghost,Poison,60,65,80,170,95,130,1,FALSE\\n95,Onix,Rock,Ground,35,45,160,30,45,70,1,FALSE\\n96,Drowzee,Psychic,,60,48,45,43,90,42,1,FALSE\\n97,Hypno,Psychic,,85,73,70,73,115,67,1,FALSE\\n98,Krabby,Water,,30,105,90,25,25,50,1,FALSE\\n99,Kingler,Water,,55,130,115,50,50,75,1,FALSE\\n100,Voltorb,Electric,,40,30,50,55,55,100,1,FALSE\\n101,Electrode,Electric,,60,50,70,80,80,140,1,FALSE\\n102,Exeggcute,Grass,Psychic,60,40,80,60,45,40,1,FALSE\\n103,Exeggutor,Grass,Psychic,95,95,85,125,65,55,1,FALSE\\n104,Cubone,Ground,,50,50,95,40,50,35,1,FALSE\\n105,Marowak,Ground,,60,80,110,50,80,45,1,FALSE\\n106,Hitmonlee,Fighting,,50,120,53,35,110,87,1,FALSE\\n107,Hitmonchan,Fighting,,50,105,79,35,110,76,1,FALSE\\n108,Lickitung,Normal,,90,55,75,60,75,30,1,FALSE\\n109,Koffing,Poison,,40,65,95,60,45,35,1,FALSE\\n110,Weezing,Poison,,65,90,120,85,70,60,1,FALSE\\n111,Rhyhorn,Ground,Rock,80,85,95,30,30,25,1,FALSE\\n112,Rhydon,Ground,Rock,105,130,120,45,45,40,1,FALSE\\n113,Chansey,Normal,,250,5,5,35,105,50,1,FALSE\\n114,Tangela,Grass,,65,55,115,100,40,60,1,FALSE\\n115,Kangaskhan,Normal,,105,95,80,40,80,90,1,FALSE\\n115,KangaskhanMega Kangaskhan,Normal,,105,125,100,60,100,100,1,FALSE\\n116,Horsea,Water,,30,40,70,70,25,60,1,FALSE\\n117,Seadra,Water,,55,65,95,95,45,85,1,FALSE\\n118,Goldeen,Water,,45,67,60,35,50,63,1,FALSE\\n119,Seaking,Water,,80,92,65,65,80,68,1,FALSE\\n120,Staryu,Water,,30,45,55,70,55,85,1,FALSE\\n121,Starmie,Water,Psychic,60,75,85,100,85,115,1,FALSE\\n122,Mr. Mime,Psychic,Fairy,40,45,65,100,120,90,1,FALSE\\n123,Scyther,Bug,Flying,70,110,80,55,80,105,1,FALSE\\n124,Jynx,Ice,Psychic,65,50,35,115,95,95,1,FALSE\\n125,Electabuzz,Electric,,65,83,57,95,85,105,1,FALSE\\n126,Magmar,Fire,,65,95,57,100,85,93,1,FALSE\\n127,Pinsir,Bug,,65,125,100,55,70,85,1,FALSE\\n127,PinsirMega Pinsir,Bug,Flying,65,155,120,65,90,105,1,FALSE\\n128,Tauros,Normal,,75,100,95,40,70,110,1,FALSE\\n129,Magikarp,Water,,20,10,55,15,20,80,1,FALSE\\n130,Gyarados,Water,Flying,95,125,79,60,100,81,1,FALSE\\n130,GyaradosMega Gyarados,Water,Dark,95,155,109,70,130,81,1,FALSE\\n131,Lapras,Water,Ice,130,85,80,85,95,60,1,FALSE\\n132,Ditto,Normal,,48,48,48,48,48,48,1,FALSE\\n133,Eevee,Normal,,55,55,50,45,65,55,1,FALSE\\n134,Vaporeon,Water,,130,65,60,110,95,65,1,FALSE\\n135,Jolteon,Electric,,65,65,60,110,95,130,1,FALSE\\n136,Flareon,Fire,,65,130,60,95,110,65,1,FALSE\\n137,Porygon,Normal,,65,60,70,85,75,40,1,FALSE\\n138,Omanyte,Rock,Water,35,40,100,90,55,35,1,FALSE\\n139,Omastar,Rock,Water,70,60,125,115,70,55,1,FALSE\\n140,Kabuto,Rock,Water,30,80,90,55,45,55,1,FALSE\\n141,Kabutops,Rock,Water,60,115,105,65,70,80,1,FALSE\\n142,Aerodactyl,Rock,Flying,80,105,65,60,75,130,1,FALSE\\n142,AerodactylMega Aerodactyl,Rock,Flying,80,135,85,70,95,150,1,FALSE\\n143,Snorlax,Normal,,160,110,65,65,110,30,1,FALSE\\n144,Articuno,Ice,Flying,90,85,100,95,125,85,1,TRUE\\n145,Zapdos,Electric,Flying,90,90,85,125,90,100,1,TRUE\\n146,Moltres,Fire,Flying,90,100,90,125,85,90,1,TRUE\\n147,Dratini,Dragon,,41,64,45,50,50,50,1,FALSE\\n148,Dragonair,Dragon,,61,84,65,70,70,70,1,FALSE\\n149,Dragonite,Dragon,Flying,91,134,95,100,100,80,1,FALSE\\n150,Mewtwo,Psychic,,106,110,90,154,90,130,1,TRUE\\n150,MewtwoMega Mewtwo X,Psychic,Fighting,106,190,100,154,100,130,1,TRUE\\n150,MewtwoMega Mewtwo Y,Psychic,,106,150,70,194,120,140,1,TRUE\\n151,Mew,Psychic,,100,100,100,100,100,100,1,FALSE\\n152,Chikorita,Grass,,45,49,65,49,65,45,2,FALSE\\n153,Bayleef,Grass,,60,62,80,63,80,60,2,FALSE\\n154,Meganium,Grass,,80,82,100,83,100,80,2,FALSE\\n155,Cyndaquil,Fire,,39,52,43,60,50,65,2,FALSE\\n156,Quilava,Fire,,58,64,58,80,65,80,2,FALSE\\n157,Typhlosion,Fire,,78,84,78,109,85,100,2,FALSE\\n158,Totodile,Water,,50,65,64,44,48,43,2,FALSE\\n159,Croconaw,Water,,65,80,80,59,63,58,2,FALSE\\n160,Feraligatr,Water,,85,105,100,79,83,78,2,FALSE\\n161,Sentret,Normal,,35,46,34,35,45,20,2,FALSE\\n162,Furret,Normal,,85,76,64,45,55,90,2,FALSE\\n163,Hoothoot,Normal,Flying,60,30,30,36,56,50,2,FALSE\\n164,Noctowl,Normal,Flying,100,50,50,76,96,70,2,FALSE\\n165,Ledyba,Bug,Flying,40,20,30,40,80,55,2,FALSE\\n166,Ledian,Bug,Flying,55,35,50,55,110,85,2,FALSE\\n167,Spinarak,Bug,Poison,40,60,40,40,40,30,2,FALSE\\n168,Ariados,Bug,Poison,70,90,70,60,60,40,2,FALSE\\n169,Crobat,Poison,Flying,85,90,80,70,80,130,2,FALSE\\n170,Chinchou,Water,Electric,75,38,38,56,56,67,2,FALSE\\n171,Lanturn,Water,Electric,125,58,58,76,76,67,2,FALSE\\n172,Pichu,Electric,,20,40,15,35,35,60,2,FALSE\\n173,Cleffa,Fairy,,50,25,28,45,55,15,2,FALSE\\n174,Igglybuff,Normal,Fairy,90,30,15,40,20,15,2,FALSE\\n175,Togepi,Fairy,,35,20,65,40,65,20,2,FALSE\\n176,Togetic,Fairy,Flying,55,40,85,80,105,40,2,FALSE\\n177,Natu,Psychic,Flying,40,50,45,70,45,70,2,FALSE\\n178,Xatu,Psychic,Flying,65,75,70,95,70,95,2,FALSE\\n179,Mareep,Electric,,55,40,40,65,45,35,2,FALSE\\n180,Flaaffy,Electric,,70,55,55,80,60,45,2,FALSE\\n181,Ampharos,Electric,,90,75,85,115,90,55,2,FALSE\\n181,AmpharosMega Ampharos,Electric,Dragon,90,95,105,165,110,45,2,FALSE\\n182,Bellossom,Grass,,75,80,95,90,100,50,2,FALSE\\n183,Marill,Water,Fairy,70,20,50,20,50,40,2,FALSE\\n184,Azumarill,Water,Fairy,100,50,80,60,80,50,2,FALSE\\n185,Sudowoodo,Rock,,70,100,115,30,65,30,2,FALSE\\n186,Politoed,Water,,90,75,75,90,100,70,2,FALSE\\n187,Hoppip,Grass,Flying,35,35,40,35,55,50,2,FALSE\\n188,Skiploom,Grass,Flying,55,45,50,45,65,80,2,FALSE\\n189,Jumpluff,Grass,Flying,75,55,70,55,95,110,2,FALSE\\n190,Aipom,Normal,,55,70,55,40,55,85,2,FALSE\\n191,Sunkern,Grass,,30,30,30,30,30,30,2,FALSE\\n192,Sunflora,Grass,,75,75,55,105,85,30,2,FALSE\\n193,Yanma,Bug,Flying,65,65,45,75,45,95,2,FALSE\\n194,Wooper,Water,Ground,55,45,45,25,25,15,2,FALSE\\n195,Quagsire,Water,Ground,95,85,85,65,65,35,2,FALSE\\n196,Espeon,Psychic,,65,65,60,130,95,110,2,FALSE\\n197,Umbreon,Dark,,95,65,110,60,130,65,2,FALSE\\n198,Murkrow,Dark,Flying,60,85,42,85,42,91,2,FALSE\\n199,Slowking,Water,Psychic,95,75,80,100,110,30,2,FALSE\\n200,Misdreavus,Ghost,,60,60,60,85,85,85,2,FALSE\\n201,Unown,Psychic,,48,72,48,72,48,48,2,FALSE\\n202,Wobbuffet,Psychic,,190,33,58,33,58,33,2,FALSE\\n203,Girafarig,Normal,Psychic,70,80,65,90,65,85,2,FALSE\\n204,Pineco,Bug,,50,65,90,35,35,15,2,FALSE\\n205,Forretress,Bug,Steel,75,90,140,60,60,40,2,FALSE\\n206,Dunsparce,Normal,,100,70,70,65,65,45,2,FALSE\\n207,Gligar,Ground,Flying,65,75,105,35,65,85,2,FALSE\\n208,Steelix,Steel,Ground,75,85,200,55,65,30,2,FALSE\\n208,SteelixMega Steelix,Steel,Ground,75,125,230,55,95,30,2,FALSE\\n209,Snubbull,Fairy,,60,80,50,40,40,30,2,FALSE\\n210,Granbull,Fairy,,90,120,75,60,60,45,2,FALSE\\n211,Qwilfish,Water,Poison,65,95,75,55,55,85,2,FALSE\\n212,Scizor,Bug,Steel,70,130,100,55,80,65,2,FALSE\\n212,ScizorMega Scizor,Bug,Steel,70,150,140,65,100,75,2,FALSE\\n213,Shuckle,Bug,Rock,20,10,230,10,230,5,2,FALSE\\n214,Heracross,Bug,Fighting,80,125,75,40,95,85,2,FALSE\\n214,HeracrossMega Heracross,Bug,Fighting,80,185,115,40,105,75,2,FALSE\\n215,Sneasel,Dark,Ice,55,95,55,35,75,115,2,FALSE\\n216,Teddiursa,Normal,,60,80,50,50,50,40,2,FALSE\\n217,Ursaring,Normal,,90,130,75,75,75,55,2,FALSE\\n218,Slugma,Fire,,40,40,40,70,40,20,2,FALSE\\n219,Magcargo,Fire,Rock,50,50,120,80,80,30,2,FALSE\\n220,Swinub,Ice,Ground,50,50,40,30,30,50,2,FALSE\\n221,Piloswine,Ice,Ground,100,100,80,60,60,50,2,FALSE\\n222,Corsola,Water,Rock,55,55,85,65,85,35,2,FALSE\\n223,Remoraid,Water,,35,65,35,65,35,65,2,FALSE\\n224,Octillery,Water,,75,105,75,105,75,45,2,FALSE\\n225,Delibird,Ice,Flying,45,55,45,65,45,75,2,FALSE\\n226,Mantine,Water,Flying,65,40,70,80,140,70,2,FALSE\\n227,Skarmory,Steel,Flying,65,80,140,40,70,70,2,FALSE\\n228,Houndour,Dark,Fire,45,60,30,80,50,65,2,FALSE\\n229,Houndoom,Dark,Fire,75,90,50,110,80,95,2,FALSE\\n229,HoundoomMega Houndoom,Dark,Fire,75,90,90,140,90,115,2,FALSE\\n230,Kingdra,Water,Dragon,75,95,95,95,95,85,2,FALSE\\n231,Phanpy,Ground,,90,60,60,40,40,40,2,FALSE\\n232,Donphan,Ground,,90,120,120,60,60,50,2,FALSE\\n233,Porygon2,Normal,,85,80,90,105,95,60,2,FALSE\\n234,Stantler,Normal,,73,95,62,85,65,85,2,FALSE\\n235,Smeargle,Normal,,55,20,35,20,45,75,2,FALSE\\n236,Tyrogue,Fighting,,35,35,35,35,35,35,2,FALSE\\n237,Hitmontop,Fighting,,50,95,95,35,110,70,2,FALSE\\n238,Smoochum,Ice,Psychic,45,30,15,85,65,65,2,FALSE\\n239,Elekid,Electric,,45,63,37,65,55,95,2,FALSE\\n240,Magby,Fire,,45,75,37,70,55,83,2,FALSE\\n241,Miltank,Normal,,95,80,105,40,70,100,2,FALSE\\n242,Blissey,Normal,,255,10,10,75,135,55,2,FALSE\\n243,Raikou,Electric,,90,85,75,115,100,115,2,TRUE\\n244,Entei,Fire,,115,115,85,90,75,100,2,TRUE\\n245,Suicune,Water,,100,75,115,90,115,85,2,TRUE\\n246,Larvitar,Rock,Ground,50,64,50,45,50,41,2,FALSE\\n247,Pupitar,Rock,Ground,70,84,70,65,70,51,2,FALSE\\n248,Tyranitar,Rock,Dark,100,134,110,95,100,61,2,FALSE\\n248,TyranitarMega Tyranitar,Rock,Dark,100,164,150,95,120,71,2,FALSE\\n249,Lugia,Psychic,Flying,106,90,130,90,154,110,2,TRUE\\n250,Ho-oh,Fire,Flying,106,130,90,110,154,90,2,TRUE\\n251,Celebi,Psychic,Grass,100,100,100,100,100,100,2,FALSE\\n252,Treecko,Grass,,40,45,35,65,55,70,3,FALSE\\n253,Grovyle,Grass,,50,65,45,85,65,95,3,FALSE\\n254,Sceptile,Grass,,70,85,65,105,85,120,3,FALSE\\n254,SceptileMega Sceptile,Grass,Dragon,70,110,75,145,85,145,3,FALSE\\n255,Torchic,Fire,,45,60,40,70,50,45,3,FALSE\\n256,Combusken,Fire,Fighting,60,85,60,85,60,55,3,FALSE\\n257,Blaziken,Fire,Fighting,80,120,70,110,70,80,3,FALSE\\n257,BlazikenMega Blaziken,Fire,Fighting,80,160,80,130,80,100,3,FALSE\\n258,Mudkip,Water,,50,70,50,50,50,40,3,FALSE\\n259,Marshtomp,Water,Ground,70,85,70,60,70,50,3,FALSE\\n260,Swampert,Water,Ground,100,110,90,85,90,60,3,FALSE\\n260,SwampertMega Swampert,Water,Ground,100,150,110,95,110,70,3,FALSE\\n261,Poochyena,Dark,,35,55,35,30,30,35,3,FALSE\\n262,Mightyena,Dark,,70,90,70,60,60,70,3,FALSE\\n263,Zigzagoon,Normal,,38,30,41,30,41,60,3,FALSE\\n264,Linoone,Normal,,78,70,61,50,61,100,3,FALSE\\n265,Wurmple,Bug,,45,45,35,20,30,20,3,FALSE\\n266,Silcoon,Bug,,50,35,55,25,25,15,3,FALSE\\n267,Beautifly,Bug,Flying,60,70,50,100,50,65,3,FALSE\\n268,Cascoon,Bug,,50,35,55,25,25,15,3,FALSE\\n269,Dustox,Bug,Poison,60,50,70,50,90,65,3,FALSE\\n270,Lotad,Water,Grass,40,30,30,40,50,30,3,FALSE\\n271,Lombre,Water,Grass,60,50,50,60,70,50,3,FALSE\\n272,Ludicolo,Water,Grass,80,70,70,90,100,70,3,FALSE\\n273,Seedot,Grass,,40,40,50,30,30,30,3,FALSE\\n274,Nuzleaf,Grass,Dark,70,70,40,60,40,60,3,FALSE\\n275,Shiftry,Grass,Dark,90,100,60,90,60,80,3,FALSE\\n276,Taillow,Normal,Flying,40,55,30,30,30,85,3,FALSE\\n277,Swellow,Normal,Flying,60,85,60,50,50,125,3,FALSE\\n278,Wingull,Water,Flying,40,30,30,55,30,85,3,FALSE\\n279,Pelipper,Water,Flying,60,50,100,85,70,65,3,FALSE\\n280,Ralts,Psychic,Fairy,28,25,25,45,35,40,3,FALSE\\n281,Kirlia,Psychic,Fairy,38,35,35,65,55,50,3,FALSE\\n282,Gardevoir,Psychic,Fairy,68,65,65,125,115,80,3,FALSE\\n282,GardevoirMega Gardevoir,Psychic,Fairy,68,85,65,165,135,100,3,FALSE\\n283,Surskit,Bug,Water,40,30,32,50,52,65,3,FALSE\\n284,Masquerain,Bug,Flying,70,60,62,80,82,60,3,FALSE\\n285,Shroomish,Grass,,60,40,60,40,60,35,3,FALSE\\n286,Breloom,Grass,Fighting,60,130,80,60,60,70,3,FALSE\\n287,Slakoth,Normal,,60,60,60,35,35,30,3,FALSE\\n288,Vigoroth,Normal,,80,80,80,55,55,90,3,FALSE\\n289,Slaking,Normal,,150,160,100,95,65,100,3,FALSE\\n290,Nincada,Bug,Ground,31,45,90,30,30,40,3,FALSE\\n291,Ninjask,Bug,Flying,61,90,45,50,50,160,3,FALSE\\n292,Shedinja,Bug,Ghost,1,90,45,30,30,40,3,FALSE\\n293,Whismur,Normal,,64,51,23,51,23,28,3,FALSE\\n294,Loudred,Normal,,84,71,43,71,43,48,3,FALSE\\n295,Exploud,Normal,,104,91,63,91,73,68,3,FALSE\\n296,Makuhita,Fighting,,72,60,30,20,30,25,3,FALSE\\n297,Hariyama,Fighting,,144,120,60,40,60,50,3,FALSE\\n298,Azurill,Normal,Fairy,50,20,40,20,40,20,3,FALSE\\n299,Nosepass,Rock,,30,45,135,45,90,30,3,FALSE\\n300,Skitty,Normal,,50,45,45,35,35,50,3,FALSE\\n301,Delcatty,Normal,,70,65,65,55,55,70,3,FALSE\\n302,Sableye,Dark,Ghost,50,75,75,65,65,50,3,FALSE\\n302,SableyeMega Sableye,Dark,Ghost,50,85,125,85,115,20,3,FALSE\\n303,Mawile,Steel,Fairy,50,85,85,55,55,50,3,FALSE\\n303,MawileMega Mawile,Steel,Fairy,50,105,125,55,95,50,3,FALSE\\n304,Aron,Steel,Rock,50,70,100,40,40,30,3,FALSE\\n305,Lairon,Steel,Rock,60,90,140,50,50,40,3,FALSE\\n306,Aggron,Steel,Rock,70,110,180,60,60,50,3,FALSE\\n306,AggronMega Aggron,Steel,,70,140,230,60,80,50,3,FALSE\\n307,Meditite,Fighting,Psychic,30,40,55,40,55,60,3,FALSE\\n308,Medicham,Fighting,Psychic,60,60,75,60,75,80,3,FALSE\\n308,MedichamMega Medicham,Fighting,Psychic,60,100,85,80,85,100,3,FALSE\\n309,Electrike,Electric,,40,45,40,65,40,65,3,FALSE\\n310,Manectric,Electric,,70,75,60,105,60,105,3,FALSE\\n310,ManectricMega Manectric,Electric,,70,75,80,135,80,135,3,FALSE\\n311,Plusle,Electric,,60,50,40,85,75,95,3,FALSE\\n312,Minun,Electric,,60,40,50,75,85,95,3,FALSE\\n313,Volbeat,Bug,,65,73,55,47,75,85,3,FALSE\\n314,Illumise,Bug,,65,47,55,73,75,85,3,FALSE\\n315,Roselia,Grass,Poison,50,60,45,100,80,65,3,FALSE\\n316,Gulpin,Poison,,70,43,53,43,53,40,3,FALSE\\n317,Swalot,Poison,,100,73,83,73,83,55,3,FALSE\\n318,Carvanha,Water,Dark,45,90,20,65,20,65,3,FALSE\\n319,Sharpedo,Water,Dark,70,120,40,95,40,95,3,FALSE\\n319,SharpedoMega Sharpedo,Water,Dark,70,140,70,110,65,105,3,FALSE\\n320,Wailmer,Water,,130,70,35,70,35,60,3,FALSE\\n321,Wailord,Water,,170,90,45,90,45,60,3,FALSE\\n322,Numel,Fire,Ground,60,60,40,65,45,35,3,FALSE\\n323,Camerupt,Fire,Ground,70,100,70,105,75,40,3,FALSE\\n323,CameruptMega Camerupt,Fire,Ground,70,120,100,145,105,20,3,FALSE\\n324,Torkoal,Fire,,70,85,140,85,70,20,3,FALSE\\n325,Spoink,Psychic,,60,25,35,70,80,60,3,FALSE\\n326,Grumpig,Psychic,,80,45,65,90,110,80,3,FALSE\\n327,Spinda,Normal,,60,60,60,60,60,60,3,FALSE\\n328,Trapinch,Ground,,45,100,45,45,45,10,3,FALSE\\n329,Vibrava,Ground,Dragon,50,70,50,50,50,70,3,FALSE\\n330,Flygon,Ground,Dragon,80,100,80,80,80,100,3,FALSE\\n331,Cacnea,Grass,,50,85,40,85,40,35,3,FALSE\\n332,Cacturne,Grass,Dark,70,115,60,115,60,55,3,FALSE\\n333,Swablu,Normal,Flying,45,40,60,40,75,50,3,FALSE\\n334,Altaria,Dragon,Flying,75,70,90,70,105,80,3,FALSE\\n334,AltariaMega Altaria,Dragon,Fairy,75,110,110,110,105,80,3,FALSE\\n335,Zangoose,Normal,,73,115,60,60,60,90,3,FALSE\\n336,Seviper,Poison,,73,100,60,100,60,65,3,FALSE\\n337,Lunatone,Rock,Psychic,70,55,65,95,85,70,3,FALSE\\n338,Solrock,Rock,Psychic,70,95,85,55,65,70,3,FALSE\\n339,Barboach,Water,Ground,50,48,43,46,41,60,3,FALSE\\n340,Whiscash,Water,Ground,110,78,73,76,71,60,3,FALSE\\n341,Corphish,Water,,43,80,65,50,35,35,3,FALSE\\n342,Crawdaunt,Water,Dark,63,120,85,90,55,55,3,FALSE\\n343,Baltoy,Ground,Psychic,40,40,55,40,70,55,3,FALSE\\n344,Claydol,Ground,Psychic,60,70,105,70,120,75,3,FALSE\\n345,Lileep,Rock,Grass,66,41,77,61,87,23,3,FALSE\\n346,Cradily,Rock,Grass,86,81,97,81,107,43,3,FALSE\\n347,Anorith,Rock,Bug,45,95,50,40,50,75,3,FALSE\\n348,Armaldo,Rock,Bug,75,125,100,70,80,45,3,FALSE\\n349,Feebas,Water,,20,15,20,10,55,80,3,FALSE\\n350,Milotic,Water,,95,60,79,100,125,81,3,FALSE\\n351,Castform,Normal,,70,70,70,70,70,70,3,FALSE\\n352,Kecleon,Normal,,60,90,70,60,120,40,3,FALSE\\n353,Shuppet,Ghost,,44,75,35,63,33,45,3,FALSE\\n354,Banette,Ghost,,64,115,65,83,63,65,3,FALSE\\n354,BanetteMega Banette,Ghost,,64,165,75,93,83,75,3,FALSE\\n355,Duskull,Ghost,,20,40,90,30,90,25,3,FALSE\\n356,Dusclops,Ghost,,40,70,130,60,130,25,3,FALSE\\n357,Tropius,Grass,Flying,99,68,83,72,87,51,3,FALSE\\n358,Chimecho,Psychic,,65,50,70,95,80,65,3,FALSE\\n359,Absol,Dark,,65,130,60,75,60,75,3,FALSE\\n359,AbsolMega Absol,Dark,,65,150,60,115,60,115,3,FALSE\\n360,Wynaut,Psychic,,95,23,48,23,48,23,3,FALSE\\n361,Snorunt,Ice,,50,50,50,50,50,50,3,FALSE\\n362,Glalie,Ice,,80,80,80,80,80,80,3,FALSE\\n362,GlalieMega Glalie,Ice,,80,120,80,120,80,100,3,FALSE\\n363,Spheal,Ice,Water,70,40,50,55,50,25,3,FALSE\\n364,Sealeo,Ice,Water,90,60,70,75,70,45,3,FALSE\\n365,Walrein,Ice,Water,110,80,90,95,90,65,3,FALSE\\n366,Clamperl,Water,,35,64,85,74,55,32,3,FALSE\\n367,Huntail,Water,,55,104,105,94,75,52,3,FALSE\\n368,Gorebyss,Water,,55,84,105,114,75,52,3,FALSE\\n369,Relicanth,Water,Rock,100,90,130,45,65,55,3,FALSE\\n370,Luvdisc,Water,,43,30,55,40,65,97,3,FALSE\\n371,Bagon,Dragon,,45,75,60,40,30,50,3,FALSE\\n372,Shelgon,Dragon,,65,95,100,60,50,50,3,FALSE\\n373,Salamence,Dragon,Flying,95,135,80,110,80,100,3,FALSE\\n373,SalamenceMega Salamence,Dragon,Flying,95,145,130,120,90,120,3,FALSE\\n374,Beldum,Steel,Psychic,40,55,80,35,60,30,3,FALSE\\n375,Metang,Steel,Psychic,60,75,100,55,80,50,3,FALSE\\n376,Metagross,Steel,Psychic,80,135,130,95,90,70,3,FALSE\\n376,MetagrossMega Metagross,Steel,Psychic,80,145,150,105,110,110,3,FALSE\\n377,Regirock,Rock,,80,100,200,50,100,50,3,TRUE\\n378,Regice,Ice,,80,50,100,100,200,50,3,TRUE\\n379,Registeel,Steel,,80,75,150,75,150,50,3,TRUE\\n380,Latias,Dragon,Psychic,80,80,90,110,130,110,3,TRUE\\n380,LatiasMega Latias,Dragon,Psychic,80,100,120,140,150,110,3,TRUE\\n381,Latios,Dragon,Psychic,80,90,80,130,110,110,3,TRUE\\n381,LatiosMega Latios,Dragon,Psychic,80,130,100,160,120,110,3,TRUE\\n382,Kyogre,Water,,100,100,90,150,140,90,3,TRUE\\n382,KyogrePrimal Kyogre,Water,,100,150,90,180,160,90,3,TRUE\\n383,Groudon,Ground,,100,150,140,100,90,90,3,TRUE\\n383,GroudonPrimal Groudon,Ground,Fire,100,180,160,150,90,90,3,TRUE\\n384,Rayquaza,Dragon,Flying,105,150,90,150,90,95,3,TRUE\\n384,RayquazaMega Rayquaza,Dragon,Flying,105,180,100,180,100,115,3,TRUE\\n385,Jirachi,Steel,Psychic,100,100,100,100,100,100,3,TRUE\\n386,DeoxysNormal Forme,Psychic,,50,150,50,150,50,150,3,TRUE\\n386,DeoxysAttack Forme,Psychic,,50,180,20,180,20,150,3,TRUE\\n386,DeoxysDefense Forme,Psychic,,50,70,160,70,160,90,3,TRUE\\n386,DeoxysSpeed Forme,Psychic,,50,95,90,95,90,180,3,TRUE\\n387,Turtwig,Grass,,55,68,64,45,55,31,4,FALSE\\n388,Grotle,Grass,,75,89,85,55,65,36,4,FALSE\\n389,Torterra,Grass,Ground,95,109,105,75,85,56,4,FALSE\\n390,Chimchar,Fire,,44,58,44,58,44,61,4,FALSE\\n391,Monferno,Fire,Fighting,64,78,52,78,52,81,4,FALSE\\n392,Infernape,Fire,Fighting,76,104,71,104,71,108,4,FALSE\\n393,Piplup,Water,,53,51,53,61,56,40,4,FALSE\\n394,Prinplup,Water,,64,66,68,81,76,50,4,FALSE\\n395,Empoleon,Water,Steel,84,86,88,111,101,60,4,FALSE\\n396,Starly,Normal,Flying,40,55,30,30,30,60,4,FALSE\\n397,Staravia,Normal,Flying,55,75,50,40,40,80,4,FALSE\\n398,Staraptor,Normal,Flying,85,120,70,50,60,100,4,FALSE\\n399,Bidoof,Normal,,59,45,40,35,40,31,4,FALSE\\n400,Bibarel,Normal,Water,79,85,60,55,60,71,4,FALSE\\n401,Kricketot,Bug,,37,25,41,25,41,25,4,FALSE\\n402,Kricketune,Bug,,77,85,51,55,51,65,4,FALSE\\n403,Shinx,Electric,,45,65,34,40,34,45,4,FALSE\\n404,Luxio,Electric,,60,85,49,60,49,60,4,FALSE\\n405,Luxray,Electric,,80,120,79,95,79,70,4,FALSE\\n406,Budew,Grass,Poison,40,30,35,50,70,55,4,FALSE\\n407,Roserade,Grass,Poison,60,70,65,125,105,90,4,FALSE\\n408,Cranidos,Rock,,67,125,40,30,30,58,4,FALSE\\n409,Rampardos,Rock,,97,165,60,65,50,58,4,FALSE\\n410,Shieldon,Rock,Steel,30,42,118,42,88,30,4,FALSE\\n411,Bastiodon,Rock,Steel,60,52,168,47,138,30,4,FALSE\\n412,Burmy,Bug,,40,29,45,29,45,36,4,FALSE\\n413,WormadamPlant Cloak,Bug,Grass,60,59,85,79,105,36,4,FALSE\\n413,WormadamSandy Cloak,Bug,Ground,60,79,105,59,85,36,4,FALSE\\n413,WormadamTrash Cloak,Bug,Steel,60,69,95,69,95,36,4,FALSE\\n414,Mothim,Bug,Flying,70,94,50,94,50,66,4,FALSE\\n415,Combee,Bug,Flying,30,30,42,30,42,70,4,FALSE\\n416,Vespiquen,Bug,Flying,70,80,102,80,102,40,4,FALSE\\n417,Pachirisu,Electric,,60,45,70,45,90,95,4,FALSE\\n418,Buizel,Water,,55,65,35,60,30,85,4,FALSE\\n419,Floatzel,Water,,85,105,55,85,50,115,4,FALSE\\n420,Cherubi,Grass,,45,35,45,62,53,35,4,FALSE\\n421,Cherrim,Grass,,70,60,70,87,78,85,4,FALSE\\n422,Shellos,Water,,76,48,48,57,62,34,4,FALSE\\n423,Gastrodon,Water,Ground,111,83,68,92,82,39,4,FALSE\\n424,Ambipom,Normal,,75,100,66,60,66,115,4,FALSE\\n425,Drifloon,Ghost,Flying,90,50,34,60,44,70,4,FALSE\\n426,Drifblim,Ghost,Flying,150,80,44,90,54,80,4,FALSE\\n427,Buneary,Normal,,55,66,44,44,56,85,4,FALSE\\n428,Lopunny,Normal,,65,76,84,54,96,105,4,FALSE\\n428,LopunnyMega Lopunny,Normal,Fighting,65,136,94,54,96,135,4,FALSE\\n429,Mismagius,Ghost,,60,60,60,105,105,105,4,FALSE\\n430,Honchkrow,Dark,Flying,100,125,52,105,52,71,4,FALSE\\n431,Glameow,Normal,,49,55,42,42,37,85,4,FALSE\\n432,Purugly,Normal,,71,82,64,64,59,112,4,FALSE\\n433,Chingling,Psychic,,45,30,50,65,50,45,4,FALSE\\n434,Stunky,Poison,Dark,63,63,47,41,41,74,4,FALSE\\n435,Skuntank,Poison,Dark,103,93,67,71,61,84,4,FALSE\\n436,Bronzor,Steel,Psychic,57,24,86,24,86,23,4,FALSE\\n437,Bronzong,Steel,Psychic,67,89,116,79,116,33,4,FALSE\\n438,Bonsly,Rock,,50,80,95,10,45,10,4,FALSE\\n439,Mime Jr.,Psychic,Fairy,20,25,45,70,90,60,4,FALSE\\n440,Happiny,Normal,,100,5,5,15,65,30,4,FALSE\\n441,Chatot,Normal,Flying,76,65,45,92,42,91,4,FALSE\\n442,Spiritomb,Ghost,Dark,50,92,108,92,108,35,4,FALSE\\n443,Gible,Dragon,Ground,58,70,45,40,45,42,4,FALSE\\n444,Gabite,Dragon,Ground,68,90,65,50,55,82,4,FALSE\\n445,Garchomp,Dragon,Ground,108,130,95,80,85,102,4,FALSE\\n445,GarchompMega Garchomp,Dragon,Ground,108,170,115,120,95,92,4,FALSE\\n446,Munchlax,Normal,,135,85,40,40,85,5,4,FALSE\\n447,Riolu,Fighting,,40,70,40,35,40,60,4,FALSE\\n448,Lucario,Fighting,Steel,70,110,70,115,70,90,4,FALSE\\n448,LucarioMega Lucario,Fighting,Steel,70,145,88,140,70,112,4,FALSE\\n449,Hippopotas,Ground,,68,72,78,38,42,32,4,FALSE\\n450,Hippowdon,Ground,,108,112,118,68,72,47,4,FALSE\\n451,Skorupi,Poison,Bug,40,50,90,30,55,65,4,FALSE\\n452,Drapion,Poison,Dark,70,90,110,60,75,95,4,FALSE\\n453,Croagunk,Poison,Fighting,48,61,40,61,40,50,4,FALSE\\n454,Toxicroak,Poison,Fighting,83,106,65,86,65,85,4,FALSE\\n455,Carnivine,Grass,,74,100,72,90,72,46,4,FALSE\\n456,Finneon,Water,,49,49,56,49,61,66,4,FALSE\\n457,Lumineon,Water,,69,69,76,69,86,91,4,FALSE\\n458,Mantyke,Water,Flying,45,20,50,60,120,50,4,FALSE\\n459,Snover,Grass,Ice,60,62,50,62,60,40,4,FALSE\\n460,Abomasnow,Grass,Ice,90,92,75,92,85,60,4,FALSE\\n460,AbomasnowMega Abomasnow,Grass,Ice,90,132,105,132,105,30,4,FALSE\\n461,Weavile,Dark,Ice,70,120,65,45,85,125,4,FALSE\\n462,Magnezone,Electric,Steel,70,70,115,130,90,60,4,FALSE\\n463,Lickilicky,Normal,,110,85,95,80,95,50,4,FALSE\\n464,Rhyperior,Ground,Rock,115,140,130,55,55,40,4,FALSE\\n465,Tangrowth,Grass,,100,100,125,110,50,50,4,FALSE\\n466,Electivire,Electric,,75,123,67,95,85,95,4,FALSE\\n467,Magmortar,Fire,,75,95,67,125,95,83,4,FALSE\\n468,Togekiss,Fairy,Flying,85,50,95,120,115,80,4,FALSE\\n469,Yanmega,Bug,Flying,86,76,86,116,56,95,4,FALSE\\n470,Leafeon,Grass,,65,110,130,60,65,95,4,FALSE\\n471,Glaceon,Ice,,65,60,110,130,95,65,4,FALSE\\n472,Gliscor,Ground,Flying,75,95,125,45,75,95,4,FALSE\\n473,Mamoswine,Ice,Ground,110,130,80,70,60,80,4,FALSE\\n474,Porygon-Z,Normal,,85,80,70,135,75,90,4,FALSE\\n475,Gallade,Psychic,Fighting,68,125,65,65,115,80,4,FALSE\\n475,GalladeMega Gallade,Psychic,Fighting,68,165,95,65,115,110,4,FALSE\\n476,Probopass,Rock,Steel,60,55,145,75,150,40,4,FALSE\\n477,Dusknoir,Ghost,,45,100,135,65,135,45,4,FALSE\\n478,Froslass,Ice,Ghost,70,80,70,80,70,110,4,FALSE\\n479,Rotom,Electric,Ghost,50,50,77,95,77,91,4,FALSE\\n479,RotomHeat Rotom,Electric,Fire,50,65,107,105,107,86,4,FALSE\\n479,RotomWash Rotom,Electric,Water,50,65,107,105,107,86,4,FALSE\\n479,RotomFrost Rotom,Electric,Ice,50,65,107,105,107,86,4,FALSE\\n479,RotomFan Rotom,Electric,Flying,50,65,107,105,107,86,4,FALSE\\n479,RotomMow Rotom,Electric,Grass,50,65,107,105,107,86,4,FALSE\\n480,Uxie,Psychic,,75,75,130,75,130,95,4,TRUE\\n481,Mesprit,Psychic,,80,105,105,105,105,80,4,TRUE\\n482,Azelf,Psychic,,75,125,70,125,70,115,4,TRUE\\n483,Dialga,Steel,Dragon,100,120,120,150,100,90,4,TRUE\\n484,Palkia,Water,Dragon,90,120,100,150,120,100,4,TRUE\\n485,Heatran,Fire,Steel,91,90,106,130,106,77,4,TRUE\\n486,Regigigas,Normal,,110,160,110,80,110,100,4,TRUE\\n487,GiratinaAltered Forme,Ghost,Dragon,150,100,120,100,120,90,4,TRUE\\n487,GiratinaOrigin Forme,Ghost,Dragon,150,120,100,120,100,90,4,TRUE\\n488,Cresselia,Psychic,,120,70,120,75,130,85,4,FALSE\\n489,Phione,Water,,80,80,80,80,80,80,4,FALSE\\n490,Manaphy,Water,,100,100,100,100,100,100,4,FALSE\\n491,Darkrai,Dark,,70,90,90,135,90,125,4,TRUE\\n492,ShayminLand Forme,Grass,,100,100,100,100,100,100,4,TRUE\\n492,ShayminSky Forme,Grass,Flying,100,103,75,120,75,127,4,TRUE\\n493,Arceus,Normal,,120,120,120,120,120,120,4,TRUE\\n494,Victini,Psychic,Fire,100,100,100,100,100,100,5,TRUE\\n495,Snivy,Grass,,45,45,55,45,55,63,5,FALSE\\n496,Servine,Grass,,60,60,75,60,75,83,5,FALSE\\n497,Serperior,Grass,,75,75,95,75,95,113,5,FALSE\\n498,Tepig,Fire,,65,63,45,45,45,45,5,FALSE\\n499,Pignite,Fire,Fighting,90,93,55,70,55,55,5,FALSE\\n500,Emboar,Fire,Fighting,110,123,65,100,65,65,5,FALSE\\n501,Oshawott,Water,,55,55,45,63,45,45,5,FALSE\\n502,Dewott,Water,,75,75,60,83,60,60,5,FALSE\\n503,Samurott,Water,,95,100,85,108,70,70,5,FALSE\\n504,Patrat,Normal,,45,55,39,35,39,42,5,FALSE\\n505,Watchog,Normal,,60,85,69,60,69,77,5,FALSE\\n506,Lillipup,Normal,,45,60,45,25,45,55,5,FALSE\\n507,Herdier,Normal,,65,80,65,35,65,60,5,FALSE\\n508,Stoutland,Normal,,85,110,90,45,90,80,5,FALSE\\n509,Purrloin,Dark,,41,50,37,50,37,66,5,FALSE\\n510,Liepard,Dark,,64,88,50,88,50,106,5,FALSE\\n511,Pansage,Grass,,50,53,48,53,48,64,5,FALSE\\n512,Simisage,Grass,,75,98,63,98,63,101,5,FALSE\\n513,Pansear,Fire,,50,53,48,53,48,64,5,FALSE\\n514,Simisear,Fire,,75,98,63,98,63,101,5,FALSE\\n515,Panpour,Water,,50,53,48,53,48,64,5,FALSE\\n516,Simipour,Water,,75,98,63,98,63,101,5,FALSE\\n517,Munna,Psychic,,76,25,45,67,55,24,5,FALSE\\n518,Musharna,Psychic,,116,55,85,107,95,29,5,FALSE\\n519,Pidove,Normal,Flying,50,55,50,36,30,43,5,FALSE\\n520,Tranquill,Normal,Flying,62,77,62,50,42,65,5,FALSE\\n521,Unfezant,Normal,Flying,80,115,80,65,55,93,5,FALSE\\n522,Blitzle,Electric,,45,60,32,50,32,76,5,FALSE\\n523,Zebstrika,Electric,,75,100,63,80,63,116,5,FALSE\\n524,Roggenrola,Rock,,55,75,85,25,25,15,5,FALSE\\n525,Boldore,Rock,,70,105,105,50,40,20,5,FALSE\\n526,Gigalith,Rock,,85,135,130,60,80,25,5,FALSE\\n527,Woobat,Psychic,Flying,55,45,43,55,43,72,5,FALSE\\n528,Swoobat,Psychic,Flying,67,57,55,77,55,114,5,FALSE\\n529,Drilbur,Ground,,60,85,40,30,45,68,5,FALSE\\n530,Excadrill,Ground,Steel,110,135,60,50,65,88,5,FALSE\\n531,Audino,Normal,,103,60,86,60,86,50,5,FALSE\\n531,AudinoMega Audino,Normal,Fairy,103,60,126,80,126,50,5,FALSE\\n532,Timburr,Fighting,,75,80,55,25,35,35,5,FALSE\\n533,Gurdurr,Fighting,,85,105,85,40,50,40,5,FALSE\\n534,Conkeldurr,Fighting,,105,140,95,55,65,45,5,FALSE\\n535,Tympole,Water,,50,50,40,50,40,64,5,FALSE\\n536,Palpitoad,Water,Ground,75,65,55,65,55,69,5,FALSE\\n537,Seismitoad,Water,Ground,105,95,75,85,75,74,5,FALSE\\n538,Throh,Fighting,,120,100,85,30,85,45,5,FALSE\\n539,Sawk,Fighting,,75,125,75,30,75,85,5,FALSE\\n540,Sewaddle,Bug,Grass,45,53,70,40,60,42,5,FALSE\\n541,Swadloon,Bug,Grass,55,63,90,50,80,42,5,FALSE\\n542,Leavanny,Bug,Grass,75,103,80,70,80,92,5,FALSE\\n543,Venipede,Bug,Poison,30,45,59,30,39,57,5,FALSE\\n544,Whirlipede,Bug,Poison,40,55,99,40,79,47,5,FALSE\\n545,Scolipede,Bug,Poison,60,100,89,55,69,112,5,FALSE\\n546,Cottonee,Grass,Fairy,40,27,60,37,50,66,5,FALSE\\n547,Whimsicott,Grass,Fairy,60,67,85,77,75,116,5,FALSE\\n548,Petilil,Grass,,45,35,50,70,50,30,5,FALSE\\n549,Lilligant,Grass,,70,60,75,110,75,90,5,FALSE\\n550,Basculin,Water,,70,92,65,80,55,98,5,FALSE\\n551,Sandile,Ground,Dark,50,72,35,35,35,65,5,FALSE\\n552,Krokorok,Ground,Dark,60,82,45,45,45,74,5,FALSE\\n553,Krookodile,Ground,Dark,95,117,80,65,70,92,5,FALSE\\n554,Darumaka,Fire,,70,90,45,15,45,50,5,FALSE\\n555,DarmanitanStandard Mode,Fire,,105,140,55,30,55,95,5,FALSE\\n555,DarmanitanZen Mode,Fire,Psychic,105,30,105,140,105,55,5,FALSE\\n556,Maractus,Grass,,75,86,67,106,67,60,5,FALSE\\n557,Dwebble,Bug,Rock,50,65,85,35,35,55,5,FALSE\\n558,Crustle,Bug,Rock,70,95,125,65,75,45,5,FALSE\\n559,Scraggy,Dark,Fighting,50,75,70,35,70,48,5,FALSE\\n560,Scrafty,Dark,Fighting,65,90,115,45,115,58,5,FALSE\\n561,Sigilyph,Psychic,Flying,72,58,80,103,80,97,5,FALSE\\n562,Yamask,Ghost,,38,30,85,55,65,30,5,FALSE\\n563,Cofagrigus,Ghost,,58,50,145,95,105,30,5,FALSE\\n564,Tirtouga,Water,Rock,54,78,103,53,45,22,5,FALSE\\n565,Carracosta,Water,Rock,74,108,133,83,65,32,5,FALSE\\n566,Archen,Rock,Flying,55,112,45,74,45,70,5,FALSE\\n567,Archeops,Rock,Flying,75,140,65,112,65,110,5,FALSE\\n568,Trubbish,Poison,,50,50,62,40,62,65,5,FALSE\\n569,Garbodor,Poison,,80,95,82,60,82,75,5,FALSE\\n570,Zorua,Dark,,40,65,40,80,40,65,5,FALSE\\n571,Zoroark,Dark,,60,105,60,120,60,105,5,FALSE\\n572,Minccino,Normal,,55,50,40,40,40,75,5,FALSE\\n573,Cinccino,Normal,,75,95,60,65,60,115,5,FALSE\\n574,Gothita,Psychic,,45,30,50,55,65,45,5,FALSE\\n575,Gothorita,Psychic,,60,45,70,75,85,55,5,FALSE\\n576,Gothitelle,Psychic,,70,55,95,95,110,65,5,FALSE\\n577,Solosis,Psychic,,45,30,40,105,50,20,5,FALSE\\n578,Duosion,Psychic,,65,40,50,125,60,30,5,FALSE\\n579,Reuniclus,Psychic,,110,65,75,125,85,30,5,FALSE\\n580,Ducklett,Water,Flying,62,44,50,44,50,55,5,FALSE\\n581,Swanna,Water,Flying,75,87,63,87,63,98,5,FALSE\\n582,Vanillite,Ice,,36,50,50,65,60,44,5,FALSE\\n583,Vanillish,Ice,,51,65,65,80,75,59,5,FALSE\\n584,Vanilluxe,Ice,,71,95,85,110,95,79,5,FALSE\\n585,Deerling,Normal,Grass,60,60,50,40,50,75,5,FALSE\\n586,Sawsbuck,Normal,Grass,80,100,70,60,70,95,5,FALSE\\n587,Emolga,Electric,Flying,55,75,60,75,60,103,5,FALSE\\n588,Karrablast,Bug,,50,75,45,40,45,60,5,FALSE\\n589,Escavalier,Bug,Steel,70,135,105,60,105,20,5,FALSE\\n590,Foongus,Grass,Poison,69,55,45,55,55,15,5,FALSE\\n591,Amoonguss,Grass,Poison,114,85,70,85,80,30,5,FALSE\\n592,Frillish,Water,Ghost,55,40,50,65,85,40,5,FALSE\\n593,Jellicent,Water,Ghost,100,60,70,85,105,60,5,FALSE\\n594,Alomomola,Water,,165,75,80,40,45,65,5,FALSE\\n595,Joltik,Bug,Electric,50,47,50,57,50,65,5,FALSE\\n596,Galvantula,Bug,Electric,70,77,60,97,60,108,5,FALSE\\n597,Ferroseed,Grass,Steel,44,50,91,24,86,10,5,FALSE\\n598,Ferrothorn,Grass,Steel,74,94,131,54,116,20,5,FALSE\\n599,Klink,Steel,,40,55,70,45,60,30,5,FALSE\\n600,Klang,Steel,,60,80,95,70,85,50,5,FALSE\\n601,Klinklang,Steel,,60,100,115,70,85,90,5,FALSE\\n602,Tynamo,Electric,,35,55,40,45,40,60,5,FALSE\\n603,Eelektrik,Electric,,65,85,70,75,70,40,5,FALSE\\n604,Eelektross,Electric,,85,115,80,105,80,50,5,FALSE\\n605,Elgyem,Psychic,,55,55,55,85,55,30,5,FALSE\\n606,Beheeyem,Psychic,,75,75,75,125,95,40,5,FALSE\\n607,Litwick,Ghost,Fire,50,30,55,65,55,20,5,FALSE\\n608,Lampent,Ghost,Fire,60,40,60,95,60,55,5,FALSE\\n609,Chandelure,Ghost,Fire,60,55,90,145,90,80,5,FALSE\\n610,Axew,Dragon,,46,87,60,30,40,57,5,FALSE\\n611,Fraxure,Dragon,,66,117,70,40,50,67,5,FALSE\\n612,Haxorus,Dragon,,76,147,90,60,70,97,5,FALSE\\n613,Cubchoo,Ice,,55,70,40,60,40,40,5,FALSE\\n614,Beartic,Ice,,95,110,80,70,80,50,5,FALSE\\n615,Cryogonal,Ice,,70,50,30,95,135,105,5,FALSE\\n616,Shelmet,Bug,,50,40,85,40,65,25,5,FALSE\\n617,Accelgor,Bug,,80,70,40,100,60,145,5,FALSE\\n618,Stunfisk,Ground,Electric,109,66,84,81,99,32,5,FALSE\\n619,Mienfoo,Fighting,,45,85,50,55,50,65,5,FALSE\\n620,Mienshao,Fighting,,65,125,60,95,60,105,5,FALSE\\n621,Druddigon,Dragon,,77,120,90,60,90,48,5,FALSE\\n622,Golett,Ground,Ghost,59,74,50,35,50,35,5,FALSE\\n623,Golurk,Ground,Ghost,89,124,80,55,80,55,5,FALSE\\n624,Pawniard,Dark,Steel,45,85,70,40,40,60,5,FALSE\\n625,Bisharp,Dark,Steel,65,125,100,60,70,70,5,FALSE\\n626,Bouffalant,Normal,,95,110,95,40,95,55,5,FALSE\\n627,Rufflet,Normal,Flying,70,83,50,37,50,60,5,FALSE\\n628,Braviary,Normal,Flying,100,123,75,57,75,80,5,FALSE\\n629,Vullaby,Dark,Flying,70,55,75,45,65,60,5,FALSE\\n630,Mandibuzz,Dark,Flying,110,65,105,55,95,80,5,FALSE\\n631,Heatmor,Fire,,85,97,66,105,66,65,5,FALSE\\n632,Durant,Bug,Steel,58,109,112,48,48,109,5,FALSE\\n633,Deino,Dark,Dragon,52,65,50,45,50,38,5,FALSE\\n634,Zweilous,Dark,Dragon,72,85,70,65,70,58,5,FALSE\\n635,Hydreigon,Dark,Dragon,92,105,90,125,90,98,5,FALSE\\n636,Larvesta,Bug,Fire,55,85,55,50,55,60,5,FALSE\\n637,Volcarona,Bug,Fire,85,60,65,135,105,100,5,FALSE\\n638,Cobalion,Steel,Fighting,91,90,129,90,72,108,5,TRUE\\n639,Terrakion,Rock,Fighting,91,129,90,72,90,108,5,TRUE\\n640,Virizion,Grass,Fighting,91,90,72,90,129,108,5,TRUE\\n641,TornadusIncarnate Forme,Flying,,79,115,70,125,80,111,5,TRUE\\n641,TornadusTherian Forme,Flying,,79,100,80,110,90,121,5,TRUE\\n642,ThundurusIncarnate Forme,Electric,Flying,79,115,70,125,80,111,5,TRUE\\n642,ThundurusTherian Forme,Electric,Flying,79,105,70,145,80,101,5,TRUE\\n643,Reshiram,Dragon,Fire,100,120,100,150,120,90,5,TRUE\\n644,Zekrom,Dragon,Electric,100,150,120,120,100,90,5,TRUE\\n645,LandorusIncarnate Forme,Ground,Flying,89,125,90,115,80,101,5,TRUE\\n645,LandorusTherian Forme,Ground,Flying,89,145,90,105,80,91,5,TRUE\\n646,Kyurem,Dragon,Ice,125,130,90,130,90,95,5,TRUE\\n646,KyuremBlack Kyurem,Dragon,Ice,125,170,100,120,90,95,5,TRUE\\n646,KyuremWhite Kyurem,Dragon,Ice,125,120,90,170,100,95,5,TRUE\\n647,KeldeoOrdinary Forme,Water,Fighting,91,72,90,129,90,108,5,FALSE\\n647,KeldeoResolute Forme,Water,Fighting,91,72,90,129,90,108,5,FALSE\\n648,MeloettaAria Forme,Normal,Psychic,100,77,77,128,128,90,5,FALSE\\n648,MeloettaPirouette Forme,Normal,Fighting,100,128,90,77,77,128,5,FALSE\\n649,Genesect,Bug,Steel,71,120,95,120,95,99,5,FALSE\\n650,Chespin,Grass,,56,61,65,48,45,38,6,FALSE\\n651,Quilladin,Grass,,61,78,95,56,58,57,6,FALSE\\n652,Chesnaught,Grass,Fighting,88,107,122,74,75,64,6,FALSE\\n653,Fennekin,Fire,,40,45,40,62,60,60,6,FALSE\\n654,Braixen,Fire,,59,59,58,90,70,73,6,FALSE\\n655,Delphox,Fire,Psychic,75,69,72,114,100,104,6,FALSE\\n656,Froakie,Water,,41,56,40,62,44,71,6,FALSE\\n657,Frogadier,Water,,54,63,52,83,56,97,6,FALSE\\n658,Greninja,Water,Dark,72,95,67,103,71,122,6,FALSE\\n659,Bunnelby,Normal,,38,36,38,32,36,57,6,FALSE\\n660,Diggersby,Normal,Ground,85,56,77,50,77,78,6,FALSE\\n661,Fletchling,Normal,Flying,45,50,43,40,38,62,6,FALSE\\n662,Fletchinder,Fire,Flying,62,73,55,56,52,84,6,FALSE\\n663,Talonflame,Fire,Flying,78,81,71,74,69,126,6,FALSE\\n664,Scatterbug,Bug,,38,35,40,27,25,35,6,FALSE\\n665,Spewpa,Bug,,45,22,60,27,30,29,6,FALSE\\n666,Vivillon,Bug,Flying,80,52,50,90,50,89,6,FALSE\\n667,Litleo,Fire,Normal,62,50,58,73,54,72,6,FALSE\\n668,Pyroar,Fire,Normal,86,68,72,109,66,106,6,FALSE\\n669,Flab\\xc3\\xa9b\\xc3\\xa9,Fairy,,44,38,39,61,79,42,6,FALSE\\n670,Floette,Fairy,,54,45,47,75,98,52,6,FALSE\\n671,Florges,Fairy,,78,65,68,112,154,75,6,FALSE\\n672,Skiddo,Grass,,66,65,48,62,57,52,6,FALSE\\n673,Gogoat,Grass,,123,100,62,97,81,68,6,FALSE\\n674,Pancham,Fighting,,67,82,62,46,48,43,6,FALSE\\n675,Pangoro,Fighting,Dark,95,124,78,69,71,58,6,FALSE\\n676,Furfrou,Normal,,75,80,60,65,90,102,6,FALSE\\n677,Espurr,Psychic,,62,48,54,63,60,68,6,FALSE\\n678,MeowsticMale,Psychic,,74,48,76,83,81,104,6,FALSE\\n678,MeowsticFemale,Psychic,,74,48,76,83,81,104,6,FALSE\\n679,Honedge,Steel,Ghost,45,80,100,35,37,28,6,FALSE\\n680,Doublade,Steel,Ghost,59,110,150,45,49,35,6,FALSE\\n681,AegislashBlade Forme,Steel,Ghost,60,150,50,150,50,60,6,FALSE\\n681,AegislashShield Forme,Steel,Ghost,60,50,150,50,150,60,6,FALSE\\n682,Spritzee,Fairy,,78,52,60,63,65,23,6,FALSE\\n683,Aromatisse,Fairy,,101,72,72,99,89,29,6,FALSE\\n684,Swirlix,Fairy,,62,48,66,59,57,49,6,FALSE\\n685,Slurpuff,Fairy,,82,80,86,85,75,72,6,FALSE\\n686,Inkay,Dark,Psychic,53,54,53,37,46,45,6,FALSE\\n687,Malamar,Dark,Psychic,86,92,88,68,75,73,6,FALSE\\n688,Binacle,Rock,Water,42,52,67,39,56,50,6,FALSE\\n689,Barbaracle,Rock,Water,72,105,115,54,86,68,6,FALSE\\n690,Skrelp,Poison,Water,50,60,60,60,60,30,6,FALSE\\n691,Dragalge,Poison,Dragon,65,75,90,97,123,44,6,FALSE\\n692,Clauncher,Water,,50,53,62,58,63,44,6,FALSE\\n693,Clawitzer,Water,,71,73,88,120,89,59,6,FALSE\\n694,Helioptile,Electric,Normal,44,38,33,61,43,70,6,FALSE\\n695,Heliolisk,Electric,Normal,62,55,52,109,94,109,6,FALSE\\n696,Tyrunt,Rock,Dragon,58,89,77,45,45,48,6,FALSE\\n697,Tyrantrum,Rock,Dragon,82,121,119,69,59,71,6,FALSE\\n698,Amaura,Rock,Ice,77,59,50,67,63,46,6,FALSE\\n699,Aurorus,Rock,Ice,123,77,72,99,92,58,6,FALSE\\n700,Sylveon,Fairy,,95,65,65,110,130,60,6,FALSE\\n701,Hawlucha,Fighting,Flying,78,92,75,74,63,118,6,FALSE\\n702,Dedenne,Electric,Fairy,67,58,57,81,67,101,6,FALSE\\n703,Carbink,Rock,Fairy,50,50,150,50,150,50,6,FALSE\\n704,Goomy,Dragon,,45,50,35,55,75,40,6,FALSE\\n705,Sliggoo,Dragon,,68,75,53,83,113,60,6,FALSE\\n706,Goodra,Dragon,,90,100,70,110,150,80,6,FALSE\\n707,Klefki,Steel,Fairy,57,80,91,80,87,75,6,FALSE\\n708,Phantump,Ghost,Grass,43,70,48,50,60,38,6,FALSE\\n709,Trevenant,Ghost,Grass,85,110,76,65,82,56,6,FALSE\\n710,PumpkabooAverage Size,Ghost,Grass,49,66,70,44,55,51,6,FALSE\\n710,PumpkabooSmall Size,Ghost,Grass,44,66,70,44,55,56,6,FALSE\\n710,PumpkabooLarge Size,Ghost,Grass,54,66,70,44,55,46,6,FALSE\\n710,PumpkabooSuper Size,Ghost,Grass,59,66,70,44,55,41,6,FALSE\\n711,GourgeistAverage Size,Ghost,Grass,65,90,122,58,75,84,6,FALSE\\n711,GourgeistSmall Size,Ghost,Grass,55,85,122,58,75,99,6,FALSE\\n711,GourgeistLarge Size,Ghost,Grass,75,95,122,58,75,69,6,FALSE\\n711,GourgeistSuper Size,Ghost,Grass,85,100,122,58,75,54,6,FALSE\\n712,Bergmite,Ice,,55,69,85,32,35,28,6,FALSE\\n713,Avalugg,Ice,,95,117,184,44,46,28,6,FALSE\\n714,Noibat,Flying,Dragon,40,30,35,45,40,55,6,FALSE\\n715,Noivern,Flying,Dragon,85,70,80,97,80,123,6,FALSE\\n716,Xerneas,Fairy,,126,131,95,131,98,99,6,TRUE\\n717,Yveltal,Dark,Flying,126,131,95,131,98,99,6,TRUE\\n718,Zygarde50% Forme,Dragon,Ground,108,100,121,81,95,95,6,TRUE\\n719,Diancie,Rock,Fairy,50,100,150,100,150,50,6,TRUE\\n719,DiancieMega Diancie,Rock,Fairy,50,160,110,160,110,110,6,TRUE\\n720,HoopaHoopa Confined,Psychic,Ghost,80,110,60,150,130,70,6,TRUE\\n720,HoopaHoopa Unbound,Psychic,Dark,80,160,60,170,130,80,6,TRUE\\n721,Volcanion,Fire,Water,80,110,120,130,90,70,6,TRUE\\n\"}"
            ]
          },
          "metadata": {
            "tags": []
          },
          "execution_count": 21
        }
      ]
    },
    {
      "cell_type": "code",
      "metadata": {
        "colab": {
          "base_uri": "https://localhost:8080/",
          "height": 206
        },
        "id": "6ZI3Hirva7Ev",
        "outputId": "53949524-97a0-4e94-a110-aaf283ce4d38"
      },
      "source": [
        "data = pd.read_csv('pokemon_data.csv')\n",
        "data.head()"
      ],
      "execution_count": 22,
      "outputs": [
        {
          "output_type": "execute_result",
          "data": {
            "text/html": [
              "<div>\n",
              "<style scoped>\n",
              "    .dataframe tbody tr th:only-of-type {\n",
              "        vertical-align: middle;\n",
              "    }\n",
              "\n",
              "    .dataframe tbody tr th {\n",
              "        vertical-align: top;\n",
              "    }\n",
              "\n",
              "    .dataframe thead th {\n",
              "        text-align: right;\n",
              "    }\n",
              "</style>\n",
              "<table border=\"1\" class=\"dataframe\">\n",
              "  <thead>\n",
              "    <tr style=\"text-align: right;\">\n",
              "      <th></th>\n",
              "      <th>#</th>\n",
              "      <th>Name</th>\n",
              "      <th>Type 1</th>\n",
              "      <th>Type 2</th>\n",
              "      <th>HP</th>\n",
              "      <th>Attack</th>\n",
              "      <th>Defense</th>\n",
              "      <th>Sp. Atk</th>\n",
              "      <th>Sp. Def</th>\n",
              "      <th>Speed</th>\n",
              "      <th>Generation</th>\n",
              "      <th>Legendary</th>\n",
              "    </tr>\n",
              "  </thead>\n",
              "  <tbody>\n",
              "    <tr>\n",
              "      <th>0</th>\n",
              "      <td>1</td>\n",
              "      <td>Bulbasaur</td>\n",
              "      <td>Grass</td>\n",
              "      <td>Poison</td>\n",
              "      <td>45</td>\n",
              "      <td>49</td>\n",
              "      <td>49</td>\n",
              "      <td>65</td>\n",
              "      <td>65</td>\n",
              "      <td>45</td>\n",
              "      <td>1</td>\n",
              "      <td>False</td>\n",
              "    </tr>\n",
              "    <tr>\n",
              "      <th>1</th>\n",
              "      <td>2</td>\n",
              "      <td>Ivysaur</td>\n",
              "      <td>Grass</td>\n",
              "      <td>Poison</td>\n",
              "      <td>60</td>\n",
              "      <td>62</td>\n",
              "      <td>63</td>\n",
              "      <td>80</td>\n",
              "      <td>80</td>\n",
              "      <td>60</td>\n",
              "      <td>1</td>\n",
              "      <td>False</td>\n",
              "    </tr>\n",
              "    <tr>\n",
              "      <th>2</th>\n",
              "      <td>3</td>\n",
              "      <td>Venusaur</td>\n",
              "      <td>Grass</td>\n",
              "      <td>Poison</td>\n",
              "      <td>80</td>\n",
              "      <td>82</td>\n",
              "      <td>83</td>\n",
              "      <td>100</td>\n",
              "      <td>100</td>\n",
              "      <td>80</td>\n",
              "      <td>1</td>\n",
              "      <td>False</td>\n",
              "    </tr>\n",
              "    <tr>\n",
              "      <th>3</th>\n",
              "      <td>3</td>\n",
              "      <td>VenusaurMega Venusaur</td>\n",
              "      <td>Grass</td>\n",
              "      <td>Poison</td>\n",
              "      <td>80</td>\n",
              "      <td>100</td>\n",
              "      <td>123</td>\n",
              "      <td>122</td>\n",
              "      <td>120</td>\n",
              "      <td>80</td>\n",
              "      <td>1</td>\n",
              "      <td>False</td>\n",
              "    </tr>\n",
              "    <tr>\n",
              "      <th>4</th>\n",
              "      <td>4</td>\n",
              "      <td>Charmander</td>\n",
              "      <td>Fire</td>\n",
              "      <td>NaN</td>\n",
              "      <td>39</td>\n",
              "      <td>52</td>\n",
              "      <td>43</td>\n",
              "      <td>60</td>\n",
              "      <td>50</td>\n",
              "      <td>65</td>\n",
              "      <td>1</td>\n",
              "      <td>False</td>\n",
              "    </tr>\n",
              "  </tbody>\n",
              "</table>\n",
              "</div>"
            ],
            "text/plain": [
              "   #                   Name Type 1  ... Speed  Generation  Legendary\n",
              "0  1              Bulbasaur  Grass  ...    45           1      False\n",
              "1  2                Ivysaur  Grass  ...    60           1      False\n",
              "2  3               Venusaur  Grass  ...    80           1      False\n",
              "3  3  VenusaurMega Venusaur  Grass  ...    80           1      False\n",
              "4  4             Charmander   Fire  ...    65           1      False\n",
              "\n",
              "[5 rows x 12 columns]"
            ]
          },
          "metadata": {
            "tags": []
          },
          "execution_count": 22
        }
      ]
    },
    {
      "cell_type": "code",
      "metadata": {
        "colab": {
          "base_uri": "https://localhost:8080/"
        },
        "id": "z73yoZVkbBA6",
        "outputId": "945165e0-c05e-4427-a5f7-a6484a69a1a4"
      },
      "source": [
        "data.info()\n"
      ],
      "execution_count": 23,
      "outputs": [
        {
          "output_type": "stream",
          "text": [
            "<class 'pandas.core.frame.DataFrame'>\n",
            "RangeIndex: 800 entries, 0 to 799\n",
            "Data columns (total 12 columns):\n",
            " #   Column      Non-Null Count  Dtype \n",
            "---  ------      --------------  ----- \n",
            " 0   #           800 non-null    int64 \n",
            " 1   Name        800 non-null    object\n",
            " 2   Type 1      800 non-null    object\n",
            " 3   Type 2      414 non-null    object\n",
            " 4   HP          800 non-null    int64 \n",
            " 5   Attack      800 non-null    int64 \n",
            " 6   Defense     800 non-null    int64 \n",
            " 7   Sp. Atk     800 non-null    int64 \n",
            " 8   Sp. Def     800 non-null    int64 \n",
            " 9   Speed       800 non-null    int64 \n",
            " 10  Generation  800 non-null    int64 \n",
            " 11  Legendary   800 non-null    bool  \n",
            "dtypes: bool(1), int64(8), object(3)\n",
            "memory usage: 69.7+ KB\n"
          ],
          "name": "stdout"
        }
      ]
    },
    {
      "cell_type": "code",
      "metadata": {
        "colab": {
          "base_uri": "https://localhost:8080/",
          "height": 300
        },
        "id": "U5DxCdXxbEVW",
        "outputId": "b261f650-a263-4387-fa0f-9e65acbed468"
      },
      "source": [
        "data.describe()"
      ],
      "execution_count": 24,
      "outputs": [
        {
          "output_type": "execute_result",
          "data": {
            "text/html": [
              "<div>\n",
              "<style scoped>\n",
              "    .dataframe tbody tr th:only-of-type {\n",
              "        vertical-align: middle;\n",
              "    }\n",
              "\n",
              "    .dataframe tbody tr th {\n",
              "        vertical-align: top;\n",
              "    }\n",
              "\n",
              "    .dataframe thead th {\n",
              "        text-align: right;\n",
              "    }\n",
              "</style>\n",
              "<table border=\"1\" class=\"dataframe\">\n",
              "  <thead>\n",
              "    <tr style=\"text-align: right;\">\n",
              "      <th></th>\n",
              "      <th>#</th>\n",
              "      <th>HP</th>\n",
              "      <th>Attack</th>\n",
              "      <th>Defense</th>\n",
              "      <th>Sp. Atk</th>\n",
              "      <th>Sp. Def</th>\n",
              "      <th>Speed</th>\n",
              "      <th>Generation</th>\n",
              "    </tr>\n",
              "  </thead>\n",
              "  <tbody>\n",
              "    <tr>\n",
              "      <th>count</th>\n",
              "      <td>800.000000</td>\n",
              "      <td>800.000000</td>\n",
              "      <td>800.000000</td>\n",
              "      <td>800.000000</td>\n",
              "      <td>800.000000</td>\n",
              "      <td>800.000000</td>\n",
              "      <td>800.000000</td>\n",
              "      <td>800.00000</td>\n",
              "    </tr>\n",
              "    <tr>\n",
              "      <th>mean</th>\n",
              "      <td>362.813750</td>\n",
              "      <td>69.258750</td>\n",
              "      <td>79.001250</td>\n",
              "      <td>73.842500</td>\n",
              "      <td>72.820000</td>\n",
              "      <td>71.902500</td>\n",
              "      <td>68.277500</td>\n",
              "      <td>3.32375</td>\n",
              "    </tr>\n",
              "    <tr>\n",
              "      <th>std</th>\n",
              "      <td>208.343798</td>\n",
              "      <td>25.534669</td>\n",
              "      <td>32.457366</td>\n",
              "      <td>31.183501</td>\n",
              "      <td>32.722294</td>\n",
              "      <td>27.828916</td>\n",
              "      <td>29.060474</td>\n",
              "      <td>1.66129</td>\n",
              "    </tr>\n",
              "    <tr>\n",
              "      <th>min</th>\n",
              "      <td>1.000000</td>\n",
              "      <td>1.000000</td>\n",
              "      <td>5.000000</td>\n",
              "      <td>5.000000</td>\n",
              "      <td>10.000000</td>\n",
              "      <td>20.000000</td>\n",
              "      <td>5.000000</td>\n",
              "      <td>1.00000</td>\n",
              "    </tr>\n",
              "    <tr>\n",
              "      <th>25%</th>\n",
              "      <td>184.750000</td>\n",
              "      <td>50.000000</td>\n",
              "      <td>55.000000</td>\n",
              "      <td>50.000000</td>\n",
              "      <td>49.750000</td>\n",
              "      <td>50.000000</td>\n",
              "      <td>45.000000</td>\n",
              "      <td>2.00000</td>\n",
              "    </tr>\n",
              "    <tr>\n",
              "      <th>50%</th>\n",
              "      <td>364.500000</td>\n",
              "      <td>65.000000</td>\n",
              "      <td>75.000000</td>\n",
              "      <td>70.000000</td>\n",
              "      <td>65.000000</td>\n",
              "      <td>70.000000</td>\n",
              "      <td>65.000000</td>\n",
              "      <td>3.00000</td>\n",
              "    </tr>\n",
              "    <tr>\n",
              "      <th>75%</th>\n",
              "      <td>539.250000</td>\n",
              "      <td>80.000000</td>\n",
              "      <td>100.000000</td>\n",
              "      <td>90.000000</td>\n",
              "      <td>95.000000</td>\n",
              "      <td>90.000000</td>\n",
              "      <td>90.000000</td>\n",
              "      <td>5.00000</td>\n",
              "    </tr>\n",
              "    <tr>\n",
              "      <th>max</th>\n",
              "      <td>721.000000</td>\n",
              "      <td>255.000000</td>\n",
              "      <td>190.000000</td>\n",
              "      <td>230.000000</td>\n",
              "      <td>194.000000</td>\n",
              "      <td>230.000000</td>\n",
              "      <td>180.000000</td>\n",
              "      <td>6.00000</td>\n",
              "    </tr>\n",
              "  </tbody>\n",
              "</table>\n",
              "</div>"
            ],
            "text/plain": [
              "                #          HP      Attack  ...     Sp. Def       Speed  Generation\n",
              "count  800.000000  800.000000  800.000000  ...  800.000000  800.000000   800.00000\n",
              "mean   362.813750   69.258750   79.001250  ...   71.902500   68.277500     3.32375\n",
              "std    208.343798   25.534669   32.457366  ...   27.828916   29.060474     1.66129\n",
              "min      1.000000    1.000000    5.000000  ...   20.000000    5.000000     1.00000\n",
              "25%    184.750000   50.000000   55.000000  ...   50.000000   45.000000     2.00000\n",
              "50%    364.500000   65.000000   75.000000  ...   70.000000   65.000000     3.00000\n",
              "75%    539.250000   80.000000  100.000000  ...   90.000000   90.000000     5.00000\n",
              "max    721.000000  255.000000  190.000000  ...  230.000000  180.000000     6.00000\n",
              "\n",
              "[8 rows x 8 columns]"
            ]
          },
          "metadata": {
            "tags": []
          },
          "execution_count": 24
        }
      ]
    },
    {
      "cell_type": "markdown",
      "metadata": {
        "id": "NU2JgDwbZknB"
      },
      "source": [
        "TODO #11"
      ]
    },
    {
      "cell_type": "code",
      "metadata": {
        "colab": {
          "base_uri": "https://localhost:8080/",
          "height": 455
        },
        "id": "ZNnivIjhbJaR",
        "outputId": "f47482b5-a74a-4995-ef10-73786331664d"
      },
      "source": [
        "pokemon.dropna(inplace=False)"
      ],
      "execution_count": 25,
      "outputs": [
        {
          "output_type": "execute_result",
          "data": {
            "text/html": [
              "<div>\n",
              "<style scoped>\n",
              "    .dataframe tbody tr th:only-of-type {\n",
              "        vertical-align: middle;\n",
              "    }\n",
              "\n",
              "    .dataframe tbody tr th {\n",
              "        vertical-align: top;\n",
              "    }\n",
              "\n",
              "    .dataframe thead th {\n",
              "        text-align: right;\n",
              "    }\n",
              "</style>\n",
              "<table border=\"1\" class=\"dataframe\">\n",
              "  <thead>\n",
              "    <tr style=\"text-align: right;\">\n",
              "      <th></th>\n",
              "      <th>Name</th>\n",
              "      <th>Type 1</th>\n",
              "      <th>Type 2</th>\n",
              "      <th>HP</th>\n",
              "      <th>Attack</th>\n",
              "      <th>Defense</th>\n",
              "      <th>Sp. Atk</th>\n",
              "      <th>Sp. Def</th>\n",
              "      <th>Speed</th>\n",
              "      <th>Generation</th>\n",
              "      <th>Legendary</th>\n",
              "    </tr>\n",
              "    <tr>\n",
              "      <th>#</th>\n",
              "      <th></th>\n",
              "      <th></th>\n",
              "      <th></th>\n",
              "      <th></th>\n",
              "      <th></th>\n",
              "      <th></th>\n",
              "      <th></th>\n",
              "      <th></th>\n",
              "      <th></th>\n",
              "      <th></th>\n",
              "      <th></th>\n",
              "    </tr>\n",
              "  </thead>\n",
              "  <tbody>\n",
              "    <tr>\n",
              "      <th>1</th>\n",
              "      <td>Bulbasaur</td>\n",
              "      <td>Grass</td>\n",
              "      <td>Poison</td>\n",
              "      <td>45</td>\n",
              "      <td>49</td>\n",
              "      <td>49</td>\n",
              "      <td>65</td>\n",
              "      <td>65</td>\n",
              "      <td>45</td>\n",
              "      <td>1</td>\n",
              "      <td>False</td>\n",
              "    </tr>\n",
              "    <tr>\n",
              "      <th>2</th>\n",
              "      <td>Ivysaur</td>\n",
              "      <td>Grass</td>\n",
              "      <td>Poison</td>\n",
              "      <td>60</td>\n",
              "      <td>62</td>\n",
              "      <td>63</td>\n",
              "      <td>80</td>\n",
              "      <td>80</td>\n",
              "      <td>60</td>\n",
              "      <td>1</td>\n",
              "      <td>False</td>\n",
              "    </tr>\n",
              "    <tr>\n",
              "      <th>3</th>\n",
              "      <td>Venusaur</td>\n",
              "      <td>Grass</td>\n",
              "      <td>Poison</td>\n",
              "      <td>80</td>\n",
              "      <td>82</td>\n",
              "      <td>83</td>\n",
              "      <td>100</td>\n",
              "      <td>100</td>\n",
              "      <td>80</td>\n",
              "      <td>1</td>\n",
              "      <td>False</td>\n",
              "    </tr>\n",
              "    <tr>\n",
              "      <th>3</th>\n",
              "      <td>VenusaurMega Venusaur</td>\n",
              "      <td>Grass</td>\n",
              "      <td>Poison</td>\n",
              "      <td>80</td>\n",
              "      <td>100</td>\n",
              "      <td>123</td>\n",
              "      <td>122</td>\n",
              "      <td>120</td>\n",
              "      <td>80</td>\n",
              "      <td>1</td>\n",
              "      <td>False</td>\n",
              "    </tr>\n",
              "    <tr>\n",
              "      <th>6</th>\n",
              "      <td>Charizard</td>\n",
              "      <td>Fire</td>\n",
              "      <td>Flying</td>\n",
              "      <td>78</td>\n",
              "      <td>84</td>\n",
              "      <td>78</td>\n",
              "      <td>109</td>\n",
              "      <td>85</td>\n",
              "      <td>100</td>\n",
              "      <td>1</td>\n",
              "      <td>False</td>\n",
              "    </tr>\n",
              "    <tr>\n",
              "      <th>...</th>\n",
              "      <td>...</td>\n",
              "      <td>...</td>\n",
              "      <td>...</td>\n",
              "      <td>...</td>\n",
              "      <td>...</td>\n",
              "      <td>...</td>\n",
              "      <td>...</td>\n",
              "      <td>...</td>\n",
              "      <td>...</td>\n",
              "      <td>...</td>\n",
              "      <td>...</td>\n",
              "    </tr>\n",
              "    <tr>\n",
              "      <th>719</th>\n",
              "      <td>Diancie</td>\n",
              "      <td>Rock</td>\n",
              "      <td>Fairy</td>\n",
              "      <td>50</td>\n",
              "      <td>100</td>\n",
              "      <td>150</td>\n",
              "      <td>100</td>\n",
              "      <td>150</td>\n",
              "      <td>50</td>\n",
              "      <td>6</td>\n",
              "      <td>True</td>\n",
              "    </tr>\n",
              "    <tr>\n",
              "      <th>719</th>\n",
              "      <td>DiancieMega Diancie</td>\n",
              "      <td>Rock</td>\n",
              "      <td>Fairy</td>\n",
              "      <td>50</td>\n",
              "      <td>160</td>\n",
              "      <td>110</td>\n",
              "      <td>160</td>\n",
              "      <td>110</td>\n",
              "      <td>110</td>\n",
              "      <td>6</td>\n",
              "      <td>True</td>\n",
              "    </tr>\n",
              "    <tr>\n",
              "      <th>720</th>\n",
              "      <td>HoopaHoopa Confined</td>\n",
              "      <td>Psychic</td>\n",
              "      <td>Ghost</td>\n",
              "      <td>80</td>\n",
              "      <td>110</td>\n",
              "      <td>60</td>\n",
              "      <td>150</td>\n",
              "      <td>130</td>\n",
              "      <td>70</td>\n",
              "      <td>6</td>\n",
              "      <td>True</td>\n",
              "    </tr>\n",
              "    <tr>\n",
              "      <th>720</th>\n",
              "      <td>HoopaHoopa Unbound</td>\n",
              "      <td>Psychic</td>\n",
              "      <td>Dark</td>\n",
              "      <td>80</td>\n",
              "      <td>160</td>\n",
              "      <td>60</td>\n",
              "      <td>170</td>\n",
              "      <td>130</td>\n",
              "      <td>80</td>\n",
              "      <td>6</td>\n",
              "      <td>True</td>\n",
              "    </tr>\n",
              "    <tr>\n",
              "      <th>721</th>\n",
              "      <td>Volcanion</td>\n",
              "      <td>Fire</td>\n",
              "      <td>Water</td>\n",
              "      <td>80</td>\n",
              "      <td>110</td>\n",
              "      <td>120</td>\n",
              "      <td>130</td>\n",
              "      <td>90</td>\n",
              "      <td>70</td>\n",
              "      <td>6</td>\n",
              "      <td>True</td>\n",
              "    </tr>\n",
              "  </tbody>\n",
              "</table>\n",
              "<p>414 rows × 11 columns</p>\n",
              "</div>"
            ],
            "text/plain": [
              "                      Name   Type 1  Type 2  ...  Speed  Generation  Legendary\n",
              "#                                            ...                              \n",
              "1                Bulbasaur    Grass  Poison  ...     45           1      False\n",
              "2                  Ivysaur    Grass  Poison  ...     60           1      False\n",
              "3                 Venusaur    Grass  Poison  ...     80           1      False\n",
              "3    VenusaurMega Venusaur    Grass  Poison  ...     80           1      False\n",
              "6                Charizard     Fire  Flying  ...    100           1      False\n",
              "..                     ...      ...     ...  ...    ...         ...        ...\n",
              "719                Diancie     Rock   Fairy  ...     50           6       True\n",
              "719    DiancieMega Diancie     Rock   Fairy  ...    110           6       True\n",
              "720    HoopaHoopa Confined  Psychic   Ghost  ...     70           6       True\n",
              "720     HoopaHoopa Unbound  Psychic    Dark  ...     80           6       True\n",
              "721              Volcanion     Fire   Water  ...     70           6       True\n",
              "\n",
              "[414 rows x 11 columns]"
            ]
          },
          "metadata": {
            "tags": []
          },
          "execution_count": 25
        }
      ]
    },
    {
      "cell_type": "markdown",
      "metadata": {
        "id": "ATM3FH09bO5e"
      },
      "source": [
        "TODO #12"
      ]
    },
    {
      "cell_type": "code",
      "metadata": {
        "colab": {
          "base_uri": "https://localhost:8080/",
          "height": 313
        },
        "id": "QB5nw_0obQla",
        "outputId": "58e0da5e-baa9-4a8b-ae0b-19780e4c85e9"
      },
      "source": [
        "sns.boxplot(x=pokemon['Legendary'], y=pokemon['Attack']).set(Title=\"Box Plot grouped by Legendary\")"
      ],
      "execution_count": 26,
      "outputs": [
        {
          "output_type": "execute_result",
          "data": {
            "text/plain": [
              "[Text(0.5, 1.0, 'Box Plot grouped by Legendary')]"
            ]
          },
          "metadata": {
            "tags": []
          },
          "execution_count": 26
        },
        {
          "output_type": "display_data",
          "data": {
            "image/png": "[encoded data removed]",
            "text/plain": [
              "<Figure size 432x288 with 1 Axes>"
            ]
          },
          "metadata": {
            "tags": [],
            "needs_background": "light"
          }
        }
      ]
    },
    {
      "cell_type": "markdown",
      "metadata": {
        "id": "PvIBKjtMbXwH"
      },
      "source": [
        "TODO #13"
      ]
    },
    {
      "cell_type": "code",
      "metadata": {
        "colab": {
          "base_uri": "https://localhost:8080/",
          "height": 455
        },
        "id": "1arEHLN6bZX1",
        "outputId": "3cdab4b3-0cf6-4554-8b24-75ec6b25172d"
      },
      "source": [
        "pokemon.sort_values(by='Name', inplace= True)\n",
        "pokemon"
      ],
      "execution_count": 27,
      "outputs": [
        {
          "output_type": "execute_result",
          "data": {
            "text/html": [
              "<div>\n",
              "<style scoped>\n",
              "    .dataframe tbody tr th:only-of-type {\n",
              "        vertical-align: middle;\n",
              "    }\n",
              "\n",
              "    .dataframe tbody tr th {\n",
              "        vertical-align: top;\n",
              "    }\n",
              "\n",
              "    .dataframe thead th {\n",
              "        text-align: right;\n",
              "    }\n",
              "</style>\n",
              "<table border=\"1\" class=\"dataframe\">\n",
              "  <thead>\n",
              "    <tr style=\"text-align: right;\">\n",
              "      <th></th>\n",
              "      <th>Name</th>\n",
              "      <th>Type 1</th>\n",
              "      <th>Type 2</th>\n",
              "      <th>HP</th>\n",
              "      <th>Attack</th>\n",
              "      <th>Defense</th>\n",
              "      <th>Sp. Atk</th>\n",
              "      <th>Sp. Def</th>\n",
              "      <th>Speed</th>\n",
              "      <th>Generation</th>\n",
              "      <th>Legendary</th>\n",
              "    </tr>\n",
              "    <tr>\n",
              "      <th>#</th>\n",
              "      <th></th>\n",
              "      <th></th>\n",
              "      <th></th>\n",
              "      <th></th>\n",
              "      <th></th>\n",
              "      <th></th>\n",
              "      <th></th>\n",
              "      <th></th>\n",
              "      <th></th>\n",
              "      <th></th>\n",
              "      <th></th>\n",
              "    </tr>\n",
              "  </thead>\n",
              "  <tbody>\n",
              "    <tr>\n",
              "      <th>460</th>\n",
              "      <td>Abomasnow</td>\n",
              "      <td>Grass</td>\n",
              "      <td>Ice</td>\n",
              "      <td>90</td>\n",
              "      <td>92</td>\n",
              "      <td>75</td>\n",
              "      <td>92</td>\n",
              "      <td>85</td>\n",
              "      <td>60</td>\n",
              "      <td>4</td>\n",
              "      <td>False</td>\n",
              "    </tr>\n",
              "    <tr>\n",
              "      <th>460</th>\n",
              "      <td>AbomasnowMega Abomasnow</td>\n",
              "      <td>Grass</td>\n",
              "      <td>Ice</td>\n",
              "      <td>90</td>\n",
              "      <td>132</td>\n",
              "      <td>105</td>\n",
              "      <td>132</td>\n",
              "      <td>105</td>\n",
              "      <td>30</td>\n",
              "      <td>4</td>\n",
              "      <td>False</td>\n",
              "    </tr>\n",
              "    <tr>\n",
              "      <th>63</th>\n",
              "      <td>Abra</td>\n",
              "      <td>Psychic</td>\n",
              "      <td>NaN</td>\n",
              "      <td>25</td>\n",
              "      <td>20</td>\n",
              "      <td>15</td>\n",
              "      <td>105</td>\n",
              "      <td>55</td>\n",
              "      <td>90</td>\n",
              "      <td>1</td>\n",
              "      <td>False</td>\n",
              "    </tr>\n",
              "    <tr>\n",
              "      <th>359</th>\n",
              "      <td>Absol</td>\n",
              "      <td>Dark</td>\n",
              "      <td>NaN</td>\n",
              "      <td>65</td>\n",
              "      <td>130</td>\n",
              "      <td>60</td>\n",
              "      <td>75</td>\n",
              "      <td>60</td>\n",
              "      <td>75</td>\n",
              "      <td>3</td>\n",
              "      <td>False</td>\n",
              "    </tr>\n",
              "    <tr>\n",
              "      <th>359</th>\n",
              "      <td>AbsolMega Absol</td>\n",
              "      <td>Dark</td>\n",
              "      <td>NaN</td>\n",
              "      <td>65</td>\n",
              "      <td>150</td>\n",
              "      <td>60</td>\n",
              "      <td>115</td>\n",
              "      <td>60</td>\n",
              "      <td>115</td>\n",
              "      <td>3</td>\n",
              "      <td>False</td>\n",
              "    </tr>\n",
              "    <tr>\n",
              "      <th>...</th>\n",
              "      <td>...</td>\n",
              "      <td>...</td>\n",
              "      <td>...</td>\n",
              "      <td>...</td>\n",
              "      <td>...</td>\n",
              "      <td>...</td>\n",
              "      <td>...</td>\n",
              "      <td>...</td>\n",
              "      <td>...</td>\n",
              "      <td>...</td>\n",
              "      <td>...</td>\n",
              "    </tr>\n",
              "    <tr>\n",
              "      <th>571</th>\n",
              "      <td>Zoroark</td>\n",
              "      <td>Dark</td>\n",
              "      <td>NaN</td>\n",
              "      <td>60</td>\n",
              "      <td>105</td>\n",
              "      <td>60</td>\n",
              "      <td>120</td>\n",
              "      <td>60</td>\n",
              "      <td>105</td>\n",
              "      <td>5</td>\n",
              "      <td>False</td>\n",
              "    </tr>\n",
              "    <tr>\n",
              "      <th>570</th>\n",
              "      <td>Zorua</td>\n",
              "      <td>Dark</td>\n",
              "      <td>NaN</td>\n",
              "      <td>40</td>\n",
              "      <td>65</td>\n",
              "      <td>40</td>\n",
              "      <td>80</td>\n",
              "      <td>40</td>\n",
              "      <td>65</td>\n",
              "      <td>5</td>\n",
              "      <td>False</td>\n",
              "    </tr>\n",
              "    <tr>\n",
              "      <th>41</th>\n",
              "      <td>Zubat</td>\n",
              "      <td>Poison</td>\n",
              "      <td>Flying</td>\n",
              "      <td>40</td>\n",
              "      <td>45</td>\n",
              "      <td>35</td>\n",
              "      <td>30</td>\n",
              "      <td>40</td>\n",
              "      <td>55</td>\n",
              "      <td>1</td>\n",
              "      <td>False</td>\n",
              "    </tr>\n",
              "    <tr>\n",
              "      <th>634</th>\n",
              "      <td>Zweilous</td>\n",
              "      <td>Dark</td>\n",
              "      <td>Dragon</td>\n",
              "      <td>72</td>\n",
              "      <td>85</td>\n",
              "      <td>70</td>\n",
              "      <td>65</td>\n",
              "      <td>70</td>\n",
              "      <td>58</td>\n",
              "      <td>5</td>\n",
              "      <td>False</td>\n",
              "    </tr>\n",
              "    <tr>\n",
              "      <th>718</th>\n",
              "      <td>Zygarde50% Forme</td>\n",
              "      <td>Dragon</td>\n",
              "      <td>Ground</td>\n",
              "      <td>108</td>\n",
              "      <td>100</td>\n",
              "      <td>121</td>\n",
              "      <td>81</td>\n",
              "      <td>95</td>\n",
              "      <td>95</td>\n",
              "      <td>6</td>\n",
              "      <td>True</td>\n",
              "    </tr>\n",
              "  </tbody>\n",
              "</table>\n",
              "<p>800 rows × 11 columns</p>\n",
              "</div>"
            ],
            "text/plain": [
              "                        Name   Type 1  Type 2  ...  Speed  Generation  Legendary\n",
              "#                                              ...                              \n",
              "460                Abomasnow    Grass     Ice  ...     60           4      False\n",
              "460  AbomasnowMega Abomasnow    Grass     Ice  ...     30           4      False\n",
              "63                      Abra  Psychic     NaN  ...     90           1      False\n",
              "359                    Absol     Dark     NaN  ...     75           3      False\n",
              "359          AbsolMega Absol     Dark     NaN  ...    115           3      False\n",
              "..                       ...      ...     ...  ...    ...         ...        ...\n",
              "571                  Zoroark     Dark     NaN  ...    105           5      False\n",
              "570                    Zorua     Dark     NaN  ...     65           5      False\n",
              "41                     Zubat   Poison  Flying  ...     55           1      False\n",
              "634                 Zweilous     Dark  Dragon  ...     58           5      False\n",
              "718         Zygarde50% Forme   Dragon  Ground  ...     95           6       True\n",
              "\n",
              "[800 rows x 11 columns]"
            ]
          },
          "metadata": {
            "tags": []
          },
          "execution_count": 27
        }
      ]
    },
    {
      "cell_type": "code",
      "metadata": {
        "colab": {
          "resources": {
            "http://localhost:8080/nbextensions/google.colab/files.js": {
              "data": "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",
              "ok": true,
              "headers": [
                [
                  "content-type",
                  "application/javascript"
                ]
              ],
              "status": 200,
              "status_text": ""
            }
          },
          "base_uri": "https://localhost:8080/",
          "height": 111
        },
        "id": "zDfucaHsbiJ7",
        "outputId": "4dfc26b5-ec45-4563-fafb-869134ef9a2c"
      },
      "source": [
        "from google.colab import files\n",
        "files.upload()"
      ],
      "execution_count": 28,
      "outputs": [
        {
          "output_type": "display_data",
          "data": {
            "text/html": [
              "\n",
              "     <input type=\"file\" id=\"files-1ee8d44a-7cef-4223-a81e-2bbcd51dbc9a\" name=\"files[]\" multiple disabled\n",
              "        style=\"border:none\" />\n",
              "     <output id=\"result-1ee8d44a-7cef-4223-a81e-2bbcd51dbc9a\">\n",
              "      Upload widget is only available when the cell has been executed in the\n",
              "      current browser session. Please rerun this cell to enable.\n",
              "      </output>\n",
              "      <script src=\"/nbextensions/google.colab/files.js\"></script> "
            ],
            "text/plain": [
              "<IPython.core.display.HTML object>"
            ]
          },
          "metadata": {
            "tags": []
          }
        },
        {
          "output_type": "stream",
          "text": [
            "Saving pokemon_data.csv to pokemon_data (2).csv\n"
          ],
          "name": "stdout"
        },
        {
          "output_type": "execute_result",
          "data": {
            "text/plain": [
              "{'pokemon_data.csv': b\"#,Name,Type 1,Type 2,HP,Attack,Defense,Sp. Atk,Sp. Def,Speed,Generation,Legendary\\n1,Bulbasaur,Grass,Poison,45,49,49,65,65,45,1,FALSE\\n2,Ivysaur,Grass,Poison,60,62,63,80,80,60,1,FALSE\\n3,Venusaur,Grass,Poison,80,82,83,100,100,80,1,FALSE\\n3,VenusaurMega Venusaur,Grass,Poison,80,100,123,122,120,80,1,FALSE\\n4,Charmander,Fire,,39,52,43,60,50,65,1,FALSE\\n5,Charmeleon,Fire,,58,64,58,80,65,80,1,FALSE\\n6,Charizard,Fire,Flying,78,84,78,109,85,100,1,FALSE\\n6,CharizardMega Charizard X,Fire,Dragon,78,130,111,130,85,100,1,FALSE\\n6,CharizardMega Charizard Y,Fire,Flying,78,104,78,159,115,100,1,FALSE\\n7,Squirtle,Water,,44,48,65,50,64,43,1,FALSE\\n8,Wartortle,Water,,59,63,80,65,80,58,1,FALSE\\n9,Blastoise,Water,,79,83,100,85,105,78,1,FALSE\\n9,BlastoiseMega Blastoise,Water,,79,103,120,135,115,78,1,FALSE\\n10,Caterpie,Bug,,45,30,35,20,20,45,1,FALSE\\n11,Metapod,Bug,,50,20,55,25,25,30,1,FALSE\\n12,Butterfree,Bug,Flying,60,45,50,90,80,70,1,FALSE\\n13,Weedle,Bug,Poison,40,35,30,20,20,50,1,FALSE\\n14,Kakuna,Bug,Poison,45,25,50,25,25,35,1,FALSE\\n15,Beedrill,Bug,Poison,65,90,40,45,80,75,1,FALSE\\n15,BeedrillMega Beedrill,Bug,Poison,65,150,40,15,80,145,1,FALSE\\n16,Pidgey,Normal,Flying,40,45,40,35,35,56,1,FALSE\\n17,Pidgeotto,Normal,Flying,63,60,55,50,50,71,1,FALSE\\n18,Pidgeot,Normal,Flying,83,80,75,70,70,101,1,FALSE\\n18,PidgeotMega Pidgeot,Normal,Flying,83,80,80,135,80,121,1,FALSE\\n19,Rattata,Normal,,30,56,35,25,35,72,1,FALSE\\n20,Raticate,Normal,,55,81,60,50,70,97,1,FALSE\\n21,Spearow,Normal,Flying,40,60,30,31,31,70,1,FALSE\\n22,Fearow,Normal,Flying,65,90,65,61,61,100,1,FALSE\\n23,Ekans,Poison,,35,60,44,40,54,55,1,FALSE\\n24,Arbok,Poison,,60,85,69,65,79,80,1,FALSE\\n25,Pikachu,Electric,,35,55,40,50,50,90,1,FALSE\\n26,Raichu,Electric,,60,90,55,90,80,110,1,FALSE\\n27,Sandshrew,Ground,,50,75,85,20,30,40,1,FALSE\\n28,Sandslash,Ground,,75,100,110,45,55,65,1,FALSE\\n29,Nidoran (Female),Poison,,55,47,52,40,40,41,1,FALSE\\n30,Nidorina,Poison,,70,62,67,55,55,56,1,FALSE\\n31,Nidoqueen,Poison,Ground,90,92,87,75,85,76,1,FALSE\\n32,Nidoran (Male),Poison,,46,57,40,40,40,50,1,FALSE\\n33,Nidorino,Poison,,61,72,57,55,55,65,1,FALSE\\n34,Nidoking,Poison,Ground,81,102,77,85,75,85,1,FALSE\\n35,Clefairy,Fairy,,70,45,48,60,65,35,1,FALSE\\n36,Clefable,Fairy,,95,70,73,95,90,60,1,FALSE\\n37,Vulpix,Fire,,38,41,40,50,65,65,1,FALSE\\n38,Ninetales,Fire,,73,76,75,81,100,100,1,FALSE\\n39,Jigglypuff,Normal,Fairy,115,45,20,45,25,20,1,FALSE\\n40,Wigglytuff,Normal,Fairy,140,70,45,85,50,45,1,FALSE\\n41,Zubat,Poison,Flying,40,45,35,30,40,55,1,FALSE\\n42,Golbat,Poison,Flying,75,80,70,65,75,90,1,FALSE\\n43,Oddish,Grass,Poison,45,50,55,75,65,30,1,FALSE\\n44,Gloom,Grass,Poison,60,65,70,85,75,40,1,FALSE\\n45,Vileplume,Grass,Poison,75,80,85,110,90,50,1,FALSE\\n46,Paras,Bug,Grass,35,70,55,45,55,25,1,FALSE\\n47,Parasect,Bug,Grass,60,95,80,60,80,30,1,FALSE\\n48,Venonat,Bug,Poison,60,55,50,40,55,45,1,FALSE\\n49,Venomoth,Bug,Poison,70,65,60,90,75,90,1,FALSE\\n50,Diglett,Ground,,10,55,25,35,45,95,1,FALSE\\n51,Dugtrio,Ground,,35,80,50,50,70,120,1,FALSE\\n52,Meowth,Normal,,40,45,35,40,40,90,1,FALSE\\n53,Persian,Normal,,65,70,60,65,65,115,1,FALSE\\n54,Psyduck,Water,,50,52,48,65,50,55,1,FALSE\\n55,Golduck,Water,,80,82,78,95,80,85,1,FALSE\\n56,Mankey,Fighting,,40,80,35,35,45,70,1,FALSE\\n57,Primeape,Fighting,,65,105,60,60,70,95,1,FALSE\\n58,Growlithe,Fire,,55,70,45,70,50,60,1,FALSE\\n59,Arcanine,Fire,,90,110,80,100,80,95,1,FALSE\\n60,Poliwag,Water,,40,50,40,40,40,90,1,FALSE\\n61,Poliwhirl,Water,,65,65,65,50,50,90,1,FALSE\\n62,Poliwrath,Water,Fighting,90,95,95,70,90,70,1,FALSE\\n63,Abra,Psychic,,25,20,15,105,55,90,1,FALSE\\n64,Kadabra,Psychic,,40,35,30,120,70,105,1,FALSE\\n65,Alakazam,Psychic,,55,50,45,135,95,120,1,FALSE\\n65,AlakazamMega Alakazam,Psychic,,55,50,65,175,95,150,1,FALSE\\n66,Machop,Fighting,,70,80,50,35,35,35,1,FALSE\\n67,Machoke,Fighting,,80,100,70,50,60,45,1,FALSE\\n68,Machamp,Fighting,,90,130,80,65,85,55,1,FALSE\\n69,Bellsprout,Grass,Poison,50,75,35,70,30,40,1,FALSE\\n70,Weepinbell,Grass,Poison,65,90,50,85,45,55,1,FALSE\\n71,Victreebel,Grass,Poison,80,105,65,100,70,70,1,FALSE\\n72,Tentacool,Water,Poison,40,40,35,50,100,70,1,FALSE\\n73,Tentacruel,Water,Poison,80,70,65,80,120,100,1,FALSE\\n74,Geodude,Rock,Ground,40,80,100,30,30,20,1,FALSE\\n75,Graveler,Rock,Ground,55,95,115,45,45,35,1,FALSE\\n76,Golem,Rock,Ground,80,120,130,55,65,45,1,FALSE\\n77,Ponyta,Fire,,50,85,55,65,65,90,1,FALSE\\n78,Rapidash,Fire,,65,100,70,80,80,105,1,FALSE\\n79,Slowpoke,Water,Psychic,90,65,65,40,40,15,1,FALSE\\n80,Slowbro,Water,Psychic,95,75,110,100,80,30,1,FALSE\\n80,SlowbroMega Slowbro,Water,Psychic,95,75,180,130,80,30,1,FALSE\\n81,Magnemite,Electric,Steel,25,35,70,95,55,45,1,FALSE\\n82,Magneton,Electric,Steel,50,60,95,120,70,70,1,FALSE\\n83,Farfetch'd,Normal,Flying,52,65,55,58,62,60,1,FALSE\\n84,Doduo,Normal,Flying,35,85,45,35,35,75,1,FALSE\\n85,Dodrio,Normal,Flying,60,110,70,60,60,100,1,FALSE\\n86,Seel,Water,,65,45,55,45,70,45,1,FALSE\\n87,Dewgong,Water,Ice,90,70,80,70,95,70,1,FALSE\\n88,Grimer,Poison,,80,80,50,40,50,25,1,FALSE\\n89,Muk,Poison,,105,105,75,65,100,50,1,FALSE\\n90,Shellder,Water,,30,65,100,45,25,40,1,FALSE\\n91,Cloyster,Water,Ice,50,95,180,85,45,70,1,FALSE\\n92,Gastly,Ghost,Poison,30,35,30,100,35,80,1,FALSE\\n93,Haunter,Ghost,Poison,45,50,45,115,55,95,1,FALSE\\n94,Gengar,Ghost,Poison,60,65,60,130,75,110,1,FALSE\\n94,GengarMega Gengar,Ghost,Poison,60,65,80,170,95,130,1,FALSE\\n95,Onix,Rock,Ground,35,45,160,30,45,70,1,FALSE\\n96,Drowzee,Psychic,,60,48,45,43,90,42,1,FALSE\\n97,Hypno,Psychic,,85,73,70,73,115,67,1,FALSE\\n98,Krabby,Water,,30,105,90,25,25,50,1,FALSE\\n99,Kingler,Water,,55,130,115,50,50,75,1,FALSE\\n100,Voltorb,Electric,,40,30,50,55,55,100,1,FALSE\\n101,Electrode,Electric,,60,50,70,80,80,140,1,FALSE\\n102,Exeggcute,Grass,Psychic,60,40,80,60,45,40,1,FALSE\\n103,Exeggutor,Grass,Psychic,95,95,85,125,65,55,1,FALSE\\n104,Cubone,Ground,,50,50,95,40,50,35,1,FALSE\\n105,Marowak,Ground,,60,80,110,50,80,45,1,FALSE\\n106,Hitmonlee,Fighting,,50,120,53,35,110,87,1,FALSE\\n107,Hitmonchan,Fighting,,50,105,79,35,110,76,1,FALSE\\n108,Lickitung,Normal,,90,55,75,60,75,30,1,FALSE\\n109,Koffing,Poison,,40,65,95,60,45,35,1,FALSE\\n110,Weezing,Poison,,65,90,120,85,70,60,1,FALSE\\n111,Rhyhorn,Ground,Rock,80,85,95,30,30,25,1,FALSE\\n112,Rhydon,Ground,Rock,105,130,120,45,45,40,1,FALSE\\n113,Chansey,Normal,,250,5,5,35,105,50,1,FALSE\\n114,Tangela,Grass,,65,55,115,100,40,60,1,FALSE\\n115,Kangaskhan,Normal,,105,95,80,40,80,90,1,FALSE\\n115,KangaskhanMega Kangaskhan,Normal,,105,125,100,60,100,100,1,FALSE\\n116,Horsea,Water,,30,40,70,70,25,60,1,FALSE\\n117,Seadra,Water,,55,65,95,95,45,85,1,FALSE\\n118,Goldeen,Water,,45,67,60,35,50,63,1,FALSE\\n119,Seaking,Water,,80,92,65,65,80,68,1,FALSE\\n120,Staryu,Water,,30,45,55,70,55,85,1,FALSE\\n121,Starmie,Water,Psychic,60,75,85,100,85,115,1,FALSE\\n122,Mr. Mime,Psychic,Fairy,40,45,65,100,120,90,1,FALSE\\n123,Scyther,Bug,Flying,70,110,80,55,80,105,1,FALSE\\n124,Jynx,Ice,Psychic,65,50,35,115,95,95,1,FALSE\\n125,Electabuzz,Electric,,65,83,57,95,85,105,1,FALSE\\n126,Magmar,Fire,,65,95,57,100,85,93,1,FALSE\\n127,Pinsir,Bug,,65,125,100,55,70,85,1,FALSE\\n127,PinsirMega Pinsir,Bug,Flying,65,155,120,65,90,105,1,FALSE\\n128,Tauros,Normal,,75,100,95,40,70,110,1,FALSE\\n129,Magikarp,Water,,20,10,55,15,20,80,1,FALSE\\n130,Gyarados,Water,Flying,95,125,79,60,100,81,1,FALSE\\n130,GyaradosMega Gyarados,Water,Dark,95,155,109,70,130,81,1,FALSE\\n131,Lapras,Water,Ice,130,85,80,85,95,60,1,FALSE\\n132,Ditto,Normal,,48,48,48,48,48,48,1,FALSE\\n133,Eevee,Normal,,55,55,50,45,65,55,1,FALSE\\n134,Vaporeon,Water,,130,65,60,110,95,65,1,FALSE\\n135,Jolteon,Electric,,65,65,60,110,95,130,1,FALSE\\n136,Flareon,Fire,,65,130,60,95,110,65,1,FALSE\\n137,Porygon,Normal,,65,60,70,85,75,40,1,FALSE\\n138,Omanyte,Rock,Water,35,40,100,90,55,35,1,FALSE\\n139,Omastar,Rock,Water,70,60,125,115,70,55,1,FALSE\\n140,Kabuto,Rock,Water,30,80,90,55,45,55,1,FALSE\\n141,Kabutops,Rock,Water,60,115,105,65,70,80,1,FALSE\\n142,Aerodactyl,Rock,Flying,80,105,65,60,75,130,1,FALSE\\n142,AerodactylMega Aerodactyl,Rock,Flying,80,135,85,70,95,150,1,FALSE\\n143,Snorlax,Normal,,160,110,65,65,110,30,1,FALSE\\n144,Articuno,Ice,Flying,90,85,100,95,125,85,1,TRUE\\n145,Zapdos,Electric,Flying,90,90,85,125,90,100,1,TRUE\\n146,Moltres,Fire,Flying,90,100,90,125,85,90,1,TRUE\\n147,Dratini,Dragon,,41,64,45,50,50,50,1,FALSE\\n148,Dragonair,Dragon,,61,84,65,70,70,70,1,FALSE\\n149,Dragonite,Dragon,Flying,91,134,95,100,100,80,1,FALSE\\n150,Mewtwo,Psychic,,106,110,90,154,90,130,1,TRUE\\n150,MewtwoMega Mewtwo X,Psychic,Fighting,106,190,100,154,100,130,1,TRUE\\n150,MewtwoMega Mewtwo Y,Psychic,,106,150,70,194,120,140,1,TRUE\\n151,Mew,Psychic,,100,100,100,100,100,100,1,FALSE\\n152,Chikorita,Grass,,45,49,65,49,65,45,2,FALSE\\n153,Bayleef,Grass,,60,62,80,63,80,60,2,FALSE\\n154,Meganium,Grass,,80,82,100,83,100,80,2,FALSE\\n155,Cyndaquil,Fire,,39,52,43,60,50,65,2,FALSE\\n156,Quilava,Fire,,58,64,58,80,65,80,2,FALSE\\n157,Typhlosion,Fire,,78,84,78,109,85,100,2,FALSE\\n158,Totodile,Water,,50,65,64,44,48,43,2,FALSE\\n159,Croconaw,Water,,65,80,80,59,63,58,2,FALSE\\n160,Feraligatr,Water,,85,105,100,79,83,78,2,FALSE\\n161,Sentret,Normal,,35,46,34,35,45,20,2,FALSE\\n162,Furret,Normal,,85,76,64,45,55,90,2,FALSE\\n163,Hoothoot,Normal,Flying,60,30,30,36,56,50,2,FALSE\\n164,Noctowl,Normal,Flying,100,50,50,76,96,70,2,FALSE\\n165,Ledyba,Bug,Flying,40,20,30,40,80,55,2,FALSE\\n166,Ledian,Bug,Flying,55,35,50,55,110,85,2,FALSE\\n167,Spinarak,Bug,Poison,40,60,40,40,40,30,2,FALSE\\n168,Ariados,Bug,Poison,70,90,70,60,60,40,2,FALSE\\n169,Crobat,Poison,Flying,85,90,80,70,80,130,2,FALSE\\n170,Chinchou,Water,Electric,75,38,38,56,56,67,2,FALSE\\n171,Lanturn,Water,Electric,125,58,58,76,76,67,2,FALSE\\n172,Pichu,Electric,,20,40,15,35,35,60,2,FALSE\\n173,Cleffa,Fairy,,50,25,28,45,55,15,2,FALSE\\n174,Igglybuff,Normal,Fairy,90,30,15,40,20,15,2,FALSE\\n175,Togepi,Fairy,,35,20,65,40,65,20,2,FALSE\\n176,Togetic,Fairy,Flying,55,40,85,80,105,40,2,FALSE\\n177,Natu,Psychic,Flying,40,50,45,70,45,70,2,FALSE\\n178,Xatu,Psychic,Flying,65,75,70,95,70,95,2,FALSE\\n179,Mareep,Electric,,55,40,40,65,45,35,2,FALSE\\n180,Flaaffy,Electric,,70,55,55,80,60,45,2,FALSE\\n181,Ampharos,Electric,,90,75,85,115,90,55,2,FALSE\\n181,AmpharosMega Ampharos,Electric,Dragon,90,95,105,165,110,45,2,FALSE\\n182,Bellossom,Grass,,75,80,95,90,100,50,2,FALSE\\n183,Marill,Water,Fairy,70,20,50,20,50,40,2,FALSE\\n184,Azumarill,Water,Fairy,100,50,80,60,80,50,2,FALSE\\n185,Sudowoodo,Rock,,70,100,115,30,65,30,2,FALSE\\n186,Politoed,Water,,90,75,75,90,100,70,2,FALSE\\n187,Hoppip,Grass,Flying,35,35,40,35,55,50,2,FALSE\\n188,Skiploom,Grass,Flying,55,45,50,45,65,80,2,FALSE\\n189,Jumpluff,Grass,Flying,75,55,70,55,95,110,2,FALSE\\n190,Aipom,Normal,,55,70,55,40,55,85,2,FALSE\\n191,Sunkern,Grass,,30,30,30,30,30,30,2,FALSE\\n192,Sunflora,Grass,,75,75,55,105,85,30,2,FALSE\\n193,Yanma,Bug,Flying,65,65,45,75,45,95,2,FALSE\\n194,Wooper,Water,Ground,55,45,45,25,25,15,2,FALSE\\n195,Quagsire,Water,Ground,95,85,85,65,65,35,2,FALSE\\n196,Espeon,Psychic,,65,65,60,130,95,110,2,FALSE\\n197,Umbreon,Dark,,95,65,110,60,130,65,2,FALSE\\n198,Murkrow,Dark,Flying,60,85,42,85,42,91,2,FALSE\\n199,Slowking,Water,Psychic,95,75,80,100,110,30,2,FALSE\\n200,Misdreavus,Ghost,,60,60,60,85,85,85,2,FALSE\\n201,Unown,Psychic,,48,72,48,72,48,48,2,FALSE\\n202,Wobbuffet,Psychic,,190,33,58,33,58,33,2,FALSE\\n203,Girafarig,Normal,Psychic,70,80,65,90,65,85,2,FALSE\\n204,Pineco,Bug,,50,65,90,35,35,15,2,FALSE\\n205,Forretress,Bug,Steel,75,90,140,60,60,40,2,FALSE\\n206,Dunsparce,Normal,,100,70,70,65,65,45,2,FALSE\\n207,Gligar,Ground,Flying,65,75,105,35,65,85,2,FALSE\\n208,Steelix,Steel,Ground,75,85,200,55,65,30,2,FALSE\\n208,SteelixMega Steelix,Steel,Ground,75,125,230,55,95,30,2,FALSE\\n209,Snubbull,Fairy,,60,80,50,40,40,30,2,FALSE\\n210,Granbull,Fairy,,90,120,75,60,60,45,2,FALSE\\n211,Qwilfish,Water,Poison,65,95,75,55,55,85,2,FALSE\\n212,Scizor,Bug,Steel,70,130,100,55,80,65,2,FALSE\\n212,ScizorMega Scizor,Bug,Steel,70,150,140,65,100,75,2,FALSE\\n213,Shuckle,Bug,Rock,20,10,230,10,230,5,2,FALSE\\n214,Heracross,Bug,Fighting,80,125,75,40,95,85,2,FALSE\\n214,HeracrossMega Heracross,Bug,Fighting,80,185,115,40,105,75,2,FALSE\\n215,Sneasel,Dark,Ice,55,95,55,35,75,115,2,FALSE\\n216,Teddiursa,Normal,,60,80,50,50,50,40,2,FALSE\\n217,Ursaring,Normal,,90,130,75,75,75,55,2,FALSE\\n218,Slugma,Fire,,40,40,40,70,40,20,2,FALSE\\n219,Magcargo,Fire,Rock,50,50,120,80,80,30,2,FALSE\\n220,Swinub,Ice,Ground,50,50,40,30,30,50,2,FALSE\\n221,Piloswine,Ice,Ground,100,100,80,60,60,50,2,FALSE\\n222,Corsola,Water,Rock,55,55,85,65,85,35,2,FALSE\\n223,Remoraid,Water,,35,65,35,65,35,65,2,FALSE\\n224,Octillery,Water,,75,105,75,105,75,45,2,FALSE\\n225,Delibird,Ice,Flying,45,55,45,65,45,75,2,FALSE\\n226,Mantine,Water,Flying,65,40,70,80,140,70,2,FALSE\\n227,Skarmory,Steel,Flying,65,80,140,40,70,70,2,FALSE\\n228,Houndour,Dark,Fire,45,60,30,80,50,65,2,FALSE\\n229,Houndoom,Dark,Fire,75,90,50,110,80,95,2,FALSE\\n229,HoundoomMega Houndoom,Dark,Fire,75,90,90,140,90,115,2,FALSE\\n230,Kingdra,Water,Dragon,75,95,95,95,95,85,2,FALSE\\n231,Phanpy,Ground,,90,60,60,40,40,40,2,FALSE\\n232,Donphan,Ground,,90,120,120,60,60,50,2,FALSE\\n233,Porygon2,Normal,,85,80,90,105,95,60,2,FALSE\\n234,Stantler,Normal,,73,95,62,85,65,85,2,FALSE\\n235,Smeargle,Normal,,55,20,35,20,45,75,2,FALSE\\n236,Tyrogue,Fighting,,35,35,35,35,35,35,2,FALSE\\n237,Hitmontop,Fighting,,50,95,95,35,110,70,2,FALSE\\n238,Smoochum,Ice,Psychic,45,30,15,85,65,65,2,FALSE\\n239,Elekid,Electric,,45,63,37,65,55,95,2,FALSE\\n240,Magby,Fire,,45,75,37,70,55,83,2,FALSE\\n241,Miltank,Normal,,95,80,105,40,70,100,2,FALSE\\n242,Blissey,Normal,,255,10,10,75,135,55,2,FALSE\\n243,Raikou,Electric,,90,85,75,115,100,115,2,TRUE\\n244,Entei,Fire,,115,115,85,90,75,100,2,TRUE\\n245,Suicune,Water,,100,75,115,90,115,85,2,TRUE\\n246,Larvitar,Rock,Ground,50,64,50,45,50,41,2,FALSE\\n247,Pupitar,Rock,Ground,70,84,70,65,70,51,2,FALSE\\n248,Tyranitar,Rock,Dark,100,134,110,95,100,61,2,FALSE\\n248,TyranitarMega Tyranitar,Rock,Dark,100,164,150,95,120,71,2,FALSE\\n249,Lugia,Psychic,Flying,106,90,130,90,154,110,2,TRUE\\n250,Ho-oh,Fire,Flying,106,130,90,110,154,90,2,TRUE\\n251,Celebi,Psychic,Grass,100,100,100,100,100,100,2,FALSE\\n252,Treecko,Grass,,40,45,35,65,55,70,3,FALSE\\n253,Grovyle,Grass,,50,65,45,85,65,95,3,FALSE\\n254,Sceptile,Grass,,70,85,65,105,85,120,3,FALSE\\n254,SceptileMega Sceptile,Grass,Dragon,70,110,75,145,85,145,3,FALSE\\n255,Torchic,Fire,,45,60,40,70,50,45,3,FALSE\\n256,Combusken,Fire,Fighting,60,85,60,85,60,55,3,FALSE\\n257,Blaziken,Fire,Fighting,80,120,70,110,70,80,3,FALSE\\n257,BlazikenMega Blaziken,Fire,Fighting,80,160,80,130,80,100,3,FALSE\\n258,Mudkip,Water,,50,70,50,50,50,40,3,FALSE\\n259,Marshtomp,Water,Ground,70,85,70,60,70,50,3,FALSE\\n260,Swampert,Water,Ground,100,110,90,85,90,60,3,FALSE\\n260,SwampertMega Swampert,Water,Ground,100,150,110,95,110,70,3,FALSE\\n261,Poochyena,Dark,,35,55,35,30,30,35,3,FALSE\\n262,Mightyena,Dark,,70,90,70,60,60,70,3,FALSE\\n263,Zigzagoon,Normal,,38,30,41,30,41,60,3,FALSE\\n264,Linoone,Normal,,78,70,61,50,61,100,3,FALSE\\n265,Wurmple,Bug,,45,45,35,20,30,20,3,FALSE\\n266,Silcoon,Bug,,50,35,55,25,25,15,3,FALSE\\n267,Beautifly,Bug,Flying,60,70,50,100,50,65,3,FALSE\\n268,Cascoon,Bug,,50,35,55,25,25,15,3,FALSE\\n269,Dustox,Bug,Poison,60,50,70,50,90,65,3,FALSE\\n270,Lotad,Water,Grass,40,30,30,40,50,30,3,FALSE\\n271,Lombre,Water,Grass,60,50,50,60,70,50,3,FALSE\\n272,Ludicolo,Water,Grass,80,70,70,90,100,70,3,FALSE\\n273,Seedot,Grass,,40,40,50,30,30,30,3,FALSE\\n274,Nuzleaf,Grass,Dark,70,70,40,60,40,60,3,FALSE\\n275,Shiftry,Grass,Dark,90,100,60,90,60,80,3,FALSE\\n276,Taillow,Normal,Flying,40,55,30,30,30,85,3,FALSE\\n277,Swellow,Normal,Flying,60,85,60,50,50,125,3,FALSE\\n278,Wingull,Water,Flying,40,30,30,55,30,85,3,FALSE\\n279,Pelipper,Water,Flying,60,50,100,85,70,65,3,FALSE\\n280,Ralts,Psychic,Fairy,28,25,25,45,35,40,3,FALSE\\n281,Kirlia,Psychic,Fairy,38,35,35,65,55,50,3,FALSE\\n282,Gardevoir,Psychic,Fairy,68,65,65,125,115,80,3,FALSE\\n282,GardevoirMega Gardevoir,Psychic,Fairy,68,85,65,165,135,100,3,FALSE\\n283,Surskit,Bug,Water,40,30,32,50,52,65,3,FALSE\\n284,Masquerain,Bug,Flying,70,60,62,80,82,60,3,FALSE\\n285,Shroomish,Grass,,60,40,60,40,60,35,3,FALSE\\n286,Breloom,Grass,Fighting,60,130,80,60,60,70,3,FALSE\\n287,Slakoth,Normal,,60,60,60,35,35,30,3,FALSE\\n288,Vigoroth,Normal,,80,80,80,55,55,90,3,FALSE\\n289,Slaking,Normal,,150,160,100,95,65,100,3,FALSE\\n290,Nincada,Bug,Ground,31,45,90,30,30,40,3,FALSE\\n291,Ninjask,Bug,Flying,61,90,45,50,50,160,3,FALSE\\n292,Shedinja,Bug,Ghost,1,90,45,30,30,40,3,FALSE\\n293,Whismur,Normal,,64,51,23,51,23,28,3,FALSE\\n294,Loudred,Normal,,84,71,43,71,43,48,3,FALSE\\n295,Exploud,Normal,,104,91,63,91,73,68,3,FALSE\\n296,Makuhita,Fighting,,72,60,30,20,30,25,3,FALSE\\n297,Hariyama,Fighting,,144,120,60,40,60,50,3,FALSE\\n298,Azurill,Normal,Fairy,50,20,40,20,40,20,3,FALSE\\n299,Nosepass,Rock,,30,45,135,45,90,30,3,FALSE\\n300,Skitty,Normal,,50,45,45,35,35,50,3,FALSE\\n301,Delcatty,Normal,,70,65,65,55,55,70,3,FALSE\\n302,Sableye,Dark,Ghost,50,75,75,65,65,50,3,FALSE\\n302,SableyeMega Sableye,Dark,Ghost,50,85,125,85,115,20,3,FALSE\\n303,Mawile,Steel,Fairy,50,85,85,55,55,50,3,FALSE\\n303,MawileMega Mawile,Steel,Fairy,50,105,125,55,95,50,3,FALSE\\n304,Aron,Steel,Rock,50,70,100,40,40,30,3,FALSE\\n305,Lairon,Steel,Rock,60,90,140,50,50,40,3,FALSE\\n306,Aggron,Steel,Rock,70,110,180,60,60,50,3,FALSE\\n306,AggronMega Aggron,Steel,,70,140,230,60,80,50,3,FALSE\\n307,Meditite,Fighting,Psychic,30,40,55,40,55,60,3,FALSE\\n308,Medicham,Fighting,Psychic,60,60,75,60,75,80,3,FALSE\\n308,MedichamMega Medicham,Fighting,Psychic,60,100,85,80,85,100,3,FALSE\\n309,Electrike,Electric,,40,45,40,65,40,65,3,FALSE\\n310,Manectric,Electric,,70,75,60,105,60,105,3,FALSE\\n310,ManectricMega Manectric,Electric,,70,75,80,135,80,135,3,FALSE\\n311,Plusle,Electric,,60,50,40,85,75,95,3,FALSE\\n312,Minun,Electric,,60,40,50,75,85,95,3,FALSE\\n313,Volbeat,Bug,,65,73,55,47,75,85,3,FALSE\\n314,Illumise,Bug,,65,47,55,73,75,85,3,FALSE\\n315,Roselia,Grass,Poison,50,60,45,100,80,65,3,FALSE\\n316,Gulpin,Poison,,70,43,53,43,53,40,3,FALSE\\n317,Swalot,Poison,,100,73,83,73,83,55,3,FALSE\\n318,Carvanha,Water,Dark,45,90,20,65,20,65,3,FALSE\\n319,Sharpedo,Water,Dark,70,120,40,95,40,95,3,FALSE\\n319,SharpedoMega Sharpedo,Water,Dark,70,140,70,110,65,105,3,FALSE\\n320,Wailmer,Water,,130,70,35,70,35,60,3,FALSE\\n321,Wailord,Water,,170,90,45,90,45,60,3,FALSE\\n322,Numel,Fire,Ground,60,60,40,65,45,35,3,FALSE\\n323,Camerupt,Fire,Ground,70,100,70,105,75,40,3,FALSE\\n323,CameruptMega Camerupt,Fire,Ground,70,120,100,145,105,20,3,FALSE\\n324,Torkoal,Fire,,70,85,140,85,70,20,3,FALSE\\n325,Spoink,Psychic,,60,25,35,70,80,60,3,FALSE\\n326,Grumpig,Psychic,,80,45,65,90,110,80,3,FALSE\\n327,Spinda,Normal,,60,60,60,60,60,60,3,FALSE\\n328,Trapinch,Ground,,45,100,45,45,45,10,3,FALSE\\n329,Vibrava,Ground,Dragon,50,70,50,50,50,70,3,FALSE\\n330,Flygon,Ground,Dragon,80,100,80,80,80,100,3,FALSE\\n331,Cacnea,Grass,,50,85,40,85,40,35,3,FALSE\\n332,Cacturne,Grass,Dark,70,115,60,115,60,55,3,FALSE\\n333,Swablu,Normal,Flying,45,40,60,40,75,50,3,FALSE\\n334,Altaria,Dragon,Flying,75,70,90,70,105,80,3,FALSE\\n334,AltariaMega Altaria,Dragon,Fairy,75,110,110,110,105,80,3,FALSE\\n335,Zangoose,Normal,,73,115,60,60,60,90,3,FALSE\\n336,Seviper,Poison,,73,100,60,100,60,65,3,FALSE\\n337,Lunatone,Rock,Psychic,70,55,65,95,85,70,3,FALSE\\n338,Solrock,Rock,Psychic,70,95,85,55,65,70,3,FALSE\\n339,Barboach,Water,Ground,50,48,43,46,41,60,3,FALSE\\n340,Whiscash,Water,Ground,110,78,73,76,71,60,3,FALSE\\n341,Corphish,Water,,43,80,65,50,35,35,3,FALSE\\n342,Crawdaunt,Water,Dark,63,120,85,90,55,55,3,FALSE\\n343,Baltoy,Ground,Psychic,40,40,55,40,70,55,3,FALSE\\n344,Claydol,Ground,Psychic,60,70,105,70,120,75,3,FALSE\\n345,Lileep,Rock,Grass,66,41,77,61,87,23,3,FALSE\\n346,Cradily,Rock,Grass,86,81,97,81,107,43,3,FALSE\\n347,Anorith,Rock,Bug,45,95,50,40,50,75,3,FALSE\\n348,Armaldo,Rock,Bug,75,125,100,70,80,45,3,FALSE\\n349,Feebas,Water,,20,15,20,10,55,80,3,FALSE\\n350,Milotic,Water,,95,60,79,100,125,81,3,FALSE\\n351,Castform,Normal,,70,70,70,70,70,70,3,FALSE\\n352,Kecleon,Normal,,60,90,70,60,120,40,3,FALSE\\n353,Shuppet,Ghost,,44,75,35,63,33,45,3,FALSE\\n354,Banette,Ghost,,64,115,65,83,63,65,3,FALSE\\n354,BanetteMega Banette,Ghost,,64,165,75,93,83,75,3,FALSE\\n355,Duskull,Ghost,,20,40,90,30,90,25,3,FALSE\\n356,Dusclops,Ghost,,40,70,130,60,130,25,3,FALSE\\n357,Tropius,Grass,Flying,99,68,83,72,87,51,3,FALSE\\n358,Chimecho,Psychic,,65,50,70,95,80,65,3,FALSE\\n359,Absol,Dark,,65,130,60,75,60,75,3,FALSE\\n359,AbsolMega Absol,Dark,,65,150,60,115,60,115,3,FALSE\\n360,Wynaut,Psychic,,95,23,48,23,48,23,3,FALSE\\n361,Snorunt,Ice,,50,50,50,50,50,50,3,FALSE\\n362,Glalie,Ice,,80,80,80,80,80,80,3,FALSE\\n362,GlalieMega Glalie,Ice,,80,120,80,120,80,100,3,FALSE\\n363,Spheal,Ice,Water,70,40,50,55,50,25,3,FALSE\\n364,Sealeo,Ice,Water,90,60,70,75,70,45,3,FALSE\\n365,Walrein,Ice,Water,110,80,90,95,90,65,3,FALSE\\n366,Clamperl,Water,,35,64,85,74,55,32,3,FALSE\\n367,Huntail,Water,,55,104,105,94,75,52,3,FALSE\\n368,Gorebyss,Water,,55,84,105,114,75,52,3,FALSE\\n369,Relicanth,Water,Rock,100,90,130,45,65,55,3,FALSE\\n370,Luvdisc,Water,,43,30,55,40,65,97,3,FALSE\\n371,Bagon,Dragon,,45,75,60,40,30,50,3,FALSE\\n372,Shelgon,Dragon,,65,95,100,60,50,50,3,FALSE\\n373,Salamence,Dragon,Flying,95,135,80,110,80,100,3,FALSE\\n373,SalamenceMega Salamence,Dragon,Flying,95,145,130,120,90,120,3,FALSE\\n374,Beldum,Steel,Psychic,40,55,80,35,60,30,3,FALSE\\n375,Metang,Steel,Psychic,60,75,100,55,80,50,3,FALSE\\n376,Metagross,Steel,Psychic,80,135,130,95,90,70,3,FALSE\\n376,MetagrossMega Metagross,Steel,Psychic,80,145,150,105,110,110,3,FALSE\\n377,Regirock,Rock,,80,100,200,50,100,50,3,TRUE\\n378,Regice,Ice,,80,50,100,100,200,50,3,TRUE\\n379,Registeel,Steel,,80,75,150,75,150,50,3,TRUE\\n380,Latias,Dragon,Psychic,80,80,90,110,130,110,3,TRUE\\n380,LatiasMega Latias,Dragon,Psychic,80,100,120,140,150,110,3,TRUE\\n381,Latios,Dragon,Psychic,80,90,80,130,110,110,3,TRUE\\n381,LatiosMega Latios,Dragon,Psychic,80,130,100,160,120,110,3,TRUE\\n382,Kyogre,Water,,100,100,90,150,140,90,3,TRUE\\n382,KyogrePrimal Kyogre,Water,,100,150,90,180,160,90,3,TRUE\\n383,Groudon,Ground,,100,150,140,100,90,90,3,TRUE\\n383,GroudonPrimal Groudon,Ground,Fire,100,180,160,150,90,90,3,TRUE\\n384,Rayquaza,Dragon,Flying,105,150,90,150,90,95,3,TRUE\\n384,RayquazaMega Rayquaza,Dragon,Flying,105,180,100,180,100,115,3,TRUE\\n385,Jirachi,Steel,Psychic,100,100,100,100,100,100,3,TRUE\\n386,DeoxysNormal Forme,Psychic,,50,150,50,150,50,150,3,TRUE\\n386,DeoxysAttack Forme,Psychic,,50,180,20,180,20,150,3,TRUE\\n386,DeoxysDefense Forme,Psychic,,50,70,160,70,160,90,3,TRUE\\n386,DeoxysSpeed Forme,Psychic,,50,95,90,95,90,180,3,TRUE\\n387,Turtwig,Grass,,55,68,64,45,55,31,4,FALSE\\n388,Grotle,Grass,,75,89,85,55,65,36,4,FALSE\\n389,Torterra,Grass,Ground,95,109,105,75,85,56,4,FALSE\\n390,Chimchar,Fire,,44,58,44,58,44,61,4,FALSE\\n391,Monferno,Fire,Fighting,64,78,52,78,52,81,4,FALSE\\n392,Infernape,Fire,Fighting,76,104,71,104,71,108,4,FALSE\\n393,Piplup,Water,,53,51,53,61,56,40,4,FALSE\\n394,Prinplup,Water,,64,66,68,81,76,50,4,FALSE\\n395,Empoleon,Water,Steel,84,86,88,111,101,60,4,FALSE\\n396,Starly,Normal,Flying,40,55,30,30,30,60,4,FALSE\\n397,Staravia,Normal,Flying,55,75,50,40,40,80,4,FALSE\\n398,Staraptor,Normal,Flying,85,120,70,50,60,100,4,FALSE\\n399,Bidoof,Normal,,59,45,40,35,40,31,4,FALSE\\n400,Bibarel,Normal,Water,79,85,60,55,60,71,4,FALSE\\n401,Kricketot,Bug,,37,25,41,25,41,25,4,FALSE\\n402,Kricketune,Bug,,77,85,51,55,51,65,4,FALSE\\n403,Shinx,Electric,,45,65,34,40,34,45,4,FALSE\\n404,Luxio,Electric,,60,85,49,60,49,60,4,FALSE\\n405,Luxray,Electric,,80,120,79,95,79,70,4,FALSE\\n406,Budew,Grass,Poison,40,30,35,50,70,55,4,FALSE\\n407,Roserade,Grass,Poison,60,70,65,125,105,90,4,FALSE\\n408,Cranidos,Rock,,67,125,40,30,30,58,4,FALSE\\n409,Rampardos,Rock,,97,165,60,65,50,58,4,FALSE\\n410,Shieldon,Rock,Steel,30,42,118,42,88,30,4,FALSE\\n411,Bastiodon,Rock,Steel,60,52,168,47,138,30,4,FALSE\\n412,Burmy,Bug,,40,29,45,29,45,36,4,FALSE\\n413,WormadamPlant Cloak,Bug,Grass,60,59,85,79,105,36,4,FALSE\\n413,WormadamSandy Cloak,Bug,Ground,60,79,105,59,85,36,4,FALSE\\n413,WormadamTrash Cloak,Bug,Steel,60,69,95,69,95,36,4,FALSE\\n414,Mothim,Bug,Flying,70,94,50,94,50,66,4,FALSE\\n415,Combee,Bug,Flying,30,30,42,30,42,70,4,FALSE\\n416,Vespiquen,Bug,Flying,70,80,102,80,102,40,4,FALSE\\n417,Pachirisu,Electric,,60,45,70,45,90,95,4,FALSE\\n418,Buizel,Water,,55,65,35,60,30,85,4,FALSE\\n419,Floatzel,Water,,85,105,55,85,50,115,4,FALSE\\n420,Cherubi,Grass,,45,35,45,62,53,35,4,FALSE\\n421,Cherrim,Grass,,70,60,70,87,78,85,4,FALSE\\n422,Shellos,Water,,76,48,48,57,62,34,4,FALSE\\n423,Gastrodon,Water,Ground,111,83,68,92,82,39,4,FALSE\\n424,Ambipom,Normal,,75,100,66,60,66,115,4,FALSE\\n425,Drifloon,Ghost,Flying,90,50,34,60,44,70,4,FALSE\\n426,Drifblim,Ghost,Flying,150,80,44,90,54,80,4,FALSE\\n427,Buneary,Normal,,55,66,44,44,56,85,4,FALSE\\n428,Lopunny,Normal,,65,76,84,54,96,105,4,FALSE\\n428,LopunnyMega Lopunny,Normal,Fighting,65,136,94,54,96,135,4,FALSE\\n429,Mismagius,Ghost,,60,60,60,105,105,105,4,FALSE\\n430,Honchkrow,Dark,Flying,100,125,52,105,52,71,4,FALSE\\n431,Glameow,Normal,,49,55,42,42,37,85,4,FALSE\\n432,Purugly,Normal,,71,82,64,64,59,112,4,FALSE\\n433,Chingling,Psychic,,45,30,50,65,50,45,4,FALSE\\n434,Stunky,Poison,Dark,63,63,47,41,41,74,4,FALSE\\n435,Skuntank,Poison,Dark,103,93,67,71,61,84,4,FALSE\\n436,Bronzor,Steel,Psychic,57,24,86,24,86,23,4,FALSE\\n437,Bronzong,Steel,Psychic,67,89,116,79,116,33,4,FALSE\\n438,Bonsly,Rock,,50,80,95,10,45,10,4,FALSE\\n439,Mime Jr.,Psychic,Fairy,20,25,45,70,90,60,4,FALSE\\n440,Happiny,Normal,,100,5,5,15,65,30,4,FALSE\\n441,Chatot,Normal,Flying,76,65,45,92,42,91,4,FALSE\\n442,Spiritomb,Ghost,Dark,50,92,108,92,108,35,4,FALSE\\n443,Gible,Dragon,Ground,58,70,45,40,45,42,4,FALSE\\n444,Gabite,Dragon,Ground,68,90,65,50,55,82,4,FALSE\\n445,Garchomp,Dragon,Ground,108,130,95,80,85,102,4,FALSE\\n445,GarchompMega Garchomp,Dragon,Ground,108,170,115,120,95,92,4,FALSE\\n446,Munchlax,Normal,,135,85,40,40,85,5,4,FALSE\\n447,Riolu,Fighting,,40,70,40,35,40,60,4,FALSE\\n448,Lucario,Fighting,Steel,70,110,70,115,70,90,4,FALSE\\n448,LucarioMega Lucario,Fighting,Steel,70,145,88,140,70,112,4,FALSE\\n449,Hippopotas,Ground,,68,72,78,38,42,32,4,FALSE\\n450,Hippowdon,Ground,,108,112,118,68,72,47,4,FALSE\\n451,Skorupi,Poison,Bug,40,50,90,30,55,65,4,FALSE\\n452,Drapion,Poison,Dark,70,90,110,60,75,95,4,FALSE\\n453,Croagunk,Poison,Fighting,48,61,40,61,40,50,4,FALSE\\n454,Toxicroak,Poison,Fighting,83,106,65,86,65,85,4,FALSE\\n455,Carnivine,Grass,,74,100,72,90,72,46,4,FALSE\\n456,Finneon,Water,,49,49,56,49,61,66,4,FALSE\\n457,Lumineon,Water,,69,69,76,69,86,91,4,FALSE\\n458,Mantyke,Water,Flying,45,20,50,60,120,50,4,FALSE\\n459,Snover,Grass,Ice,60,62,50,62,60,40,4,FALSE\\n460,Abomasnow,Grass,Ice,90,92,75,92,85,60,4,FALSE\\n460,AbomasnowMega Abomasnow,Grass,Ice,90,132,105,132,105,30,4,FALSE\\n461,Weavile,Dark,Ice,70,120,65,45,85,125,4,FALSE\\n462,Magnezone,Electric,Steel,70,70,115,130,90,60,4,FALSE\\n463,Lickilicky,Normal,,110,85,95,80,95,50,4,FALSE\\n464,Rhyperior,Ground,Rock,115,140,130,55,55,40,4,FALSE\\n465,Tangrowth,Grass,,100,100,125,110,50,50,4,FALSE\\n466,Electivire,Electric,,75,123,67,95,85,95,4,FALSE\\n467,Magmortar,Fire,,75,95,67,125,95,83,4,FALSE\\n468,Togekiss,Fairy,Flying,85,50,95,120,115,80,4,FALSE\\n469,Yanmega,Bug,Flying,86,76,86,116,56,95,4,FALSE\\n470,Leafeon,Grass,,65,110,130,60,65,95,4,FALSE\\n471,Glaceon,Ice,,65,60,110,130,95,65,4,FALSE\\n472,Gliscor,Ground,Flying,75,95,125,45,75,95,4,FALSE\\n473,Mamoswine,Ice,Ground,110,130,80,70,60,80,4,FALSE\\n474,Porygon-Z,Normal,,85,80,70,135,75,90,4,FALSE\\n475,Gallade,Psychic,Fighting,68,125,65,65,115,80,4,FALSE\\n475,GalladeMega Gallade,Psychic,Fighting,68,165,95,65,115,110,4,FALSE\\n476,Probopass,Rock,Steel,60,55,145,75,150,40,4,FALSE\\n477,Dusknoir,Ghost,,45,100,135,65,135,45,4,FALSE\\n478,Froslass,Ice,Ghost,70,80,70,80,70,110,4,FALSE\\n479,Rotom,Electric,Ghost,50,50,77,95,77,91,4,FALSE\\n479,RotomHeat Rotom,Electric,Fire,50,65,107,105,107,86,4,FALSE\\n479,RotomWash Rotom,Electric,Water,50,65,107,105,107,86,4,FALSE\\n479,RotomFrost Rotom,Electric,Ice,50,65,107,105,107,86,4,FALSE\\n479,RotomFan Rotom,Electric,Flying,50,65,107,105,107,86,4,FALSE\\n479,RotomMow Rotom,Electric,Grass,50,65,107,105,107,86,4,FALSE\\n480,Uxie,Psychic,,75,75,130,75,130,95,4,TRUE\\n481,Mesprit,Psychic,,80,105,105,105,105,80,4,TRUE\\n482,Azelf,Psychic,,75,125,70,125,70,115,4,TRUE\\n483,Dialga,Steel,Dragon,100,120,120,150,100,90,4,TRUE\\n484,Palkia,Water,Dragon,90,120,100,150,120,100,4,TRUE\\n485,Heatran,Fire,Steel,91,90,106,130,106,77,4,TRUE\\n486,Regigigas,Normal,,110,160,110,80,110,100,4,TRUE\\n487,GiratinaAltered Forme,Ghost,Dragon,150,100,120,100,120,90,4,TRUE\\n487,GiratinaOrigin Forme,Ghost,Dragon,150,120,100,120,100,90,4,TRUE\\n488,Cresselia,Psychic,,120,70,120,75,130,85,4,FALSE\\n489,Phione,Water,,80,80,80,80,80,80,4,FALSE\\n490,Manaphy,Water,,100,100,100,100,100,100,4,FALSE\\n491,Darkrai,Dark,,70,90,90,135,90,125,4,TRUE\\n492,ShayminLand Forme,Grass,,100,100,100,100,100,100,4,TRUE\\n492,ShayminSky Forme,Grass,Flying,100,103,75,120,75,127,4,TRUE\\n493,Arceus,Normal,,120,120,120,120,120,120,4,TRUE\\n494,Victini,Psychic,Fire,100,100,100,100,100,100,5,TRUE\\n495,Snivy,Grass,,45,45,55,45,55,63,5,FALSE\\n496,Servine,Grass,,60,60,75,60,75,83,5,FALSE\\n497,Serperior,Grass,,75,75,95,75,95,113,5,FALSE\\n498,Tepig,Fire,,65,63,45,45,45,45,5,FALSE\\n499,Pignite,Fire,Fighting,90,93,55,70,55,55,5,FALSE\\n500,Emboar,Fire,Fighting,110,123,65,100,65,65,5,FALSE\\n501,Oshawott,Water,,55,55,45,63,45,45,5,FALSE\\n502,Dewott,Water,,75,75,60,83,60,60,5,FALSE\\n503,Samurott,Water,,95,100,85,108,70,70,5,FALSE\\n504,Patrat,Normal,,45,55,39,35,39,42,5,FALSE\\n505,Watchog,Normal,,60,85,69,60,69,77,5,FALSE\\n506,Lillipup,Normal,,45,60,45,25,45,55,5,FALSE\\n507,Herdier,Normal,,65,80,65,35,65,60,5,FALSE\\n508,Stoutland,Normal,,85,110,90,45,90,80,5,FALSE\\n509,Purrloin,Dark,,41,50,37,50,37,66,5,FALSE\\n510,Liepard,Dark,,64,88,50,88,50,106,5,FALSE\\n511,Pansage,Grass,,50,53,48,53,48,64,5,FALSE\\n512,Simisage,Grass,,75,98,63,98,63,101,5,FALSE\\n513,Pansear,Fire,,50,53,48,53,48,64,5,FALSE\\n514,Simisear,Fire,,75,98,63,98,63,101,5,FALSE\\n515,Panpour,Water,,50,53,48,53,48,64,5,FALSE\\n516,Simipour,Water,,75,98,63,98,63,101,5,FALSE\\n517,Munna,Psychic,,76,25,45,67,55,24,5,FALSE\\n518,Musharna,Psychic,,116,55,85,107,95,29,5,FALSE\\n519,Pidove,Normal,Flying,50,55,50,36,30,43,5,FALSE\\n520,Tranquill,Normal,Flying,62,77,62,50,42,65,5,FALSE\\n521,Unfezant,Normal,Flying,80,115,80,65,55,93,5,FALSE\\n522,Blitzle,Electric,,45,60,32,50,32,76,5,FALSE\\n523,Zebstrika,Electric,,75,100,63,80,63,116,5,FALSE\\n524,Roggenrola,Rock,,55,75,85,25,25,15,5,FALSE\\n525,Boldore,Rock,,70,105,105,50,40,20,5,FALSE\\n526,Gigalith,Rock,,85,135,130,60,80,25,5,FALSE\\n527,Woobat,Psychic,Flying,55,45,43,55,43,72,5,FALSE\\n528,Swoobat,Psychic,Flying,67,57,55,77,55,114,5,FALSE\\n529,Drilbur,Ground,,60,85,40,30,45,68,5,FALSE\\n530,Excadrill,Ground,Steel,110,135,60,50,65,88,5,FALSE\\n531,Audino,Normal,,103,60,86,60,86,50,5,FALSE\\n531,AudinoMega Audino,Normal,Fairy,103,60,126,80,126,50,5,FALSE\\n532,Timburr,Fighting,,75,80,55,25,35,35,5,FALSE\\n533,Gurdurr,Fighting,,85,105,85,40,50,40,5,FALSE\\n534,Conkeldurr,Fighting,,105,140,95,55,65,45,5,FALSE\\n535,Tympole,Water,,50,50,40,50,40,64,5,FALSE\\n536,Palpitoad,Water,Ground,75,65,55,65,55,69,5,FALSE\\n537,Seismitoad,Water,Ground,105,95,75,85,75,74,5,FALSE\\n538,Throh,Fighting,,120,100,85,30,85,45,5,FALSE\\n539,Sawk,Fighting,,75,125,75,30,75,85,5,FALSE\\n540,Sewaddle,Bug,Grass,45,53,70,40,60,42,5,FALSE\\n541,Swadloon,Bug,Grass,55,63,90,50,80,42,5,FALSE\\n542,Leavanny,Bug,Grass,75,103,80,70,80,92,5,FALSE\\n543,Venipede,Bug,Poison,30,45,59,30,39,57,5,FALSE\\n544,Whirlipede,Bug,Poison,40,55,99,40,79,47,5,FALSE\\n545,Scolipede,Bug,Poison,60,100,89,55,69,112,5,FALSE\\n546,Cottonee,Grass,Fairy,40,27,60,37,50,66,5,FALSE\\n547,Whimsicott,Grass,Fairy,60,67,85,77,75,116,5,FALSE\\n548,Petilil,Grass,,45,35,50,70,50,30,5,FALSE\\n549,Lilligant,Grass,,70,60,75,110,75,90,5,FALSE\\n550,Basculin,Water,,70,92,65,80,55,98,5,FALSE\\n551,Sandile,Ground,Dark,50,72,35,35,35,65,5,FALSE\\n552,Krokorok,Ground,Dark,60,82,45,45,45,74,5,FALSE\\n553,Krookodile,Ground,Dark,95,117,80,65,70,92,5,FALSE\\n554,Darumaka,Fire,,70,90,45,15,45,50,5,FALSE\\n555,DarmanitanStandard Mode,Fire,,105,140,55,30,55,95,5,FALSE\\n555,DarmanitanZen Mode,Fire,Psychic,105,30,105,140,105,55,5,FALSE\\n556,Maractus,Grass,,75,86,67,106,67,60,5,FALSE\\n557,Dwebble,Bug,Rock,50,65,85,35,35,55,5,FALSE\\n558,Crustle,Bug,Rock,70,95,125,65,75,45,5,FALSE\\n559,Scraggy,Dark,Fighting,50,75,70,35,70,48,5,FALSE\\n560,Scrafty,Dark,Fighting,65,90,115,45,115,58,5,FALSE\\n561,Sigilyph,Psychic,Flying,72,58,80,103,80,97,5,FALSE\\n562,Yamask,Ghost,,38,30,85,55,65,30,5,FALSE\\n563,Cofagrigus,Ghost,,58,50,145,95,105,30,5,FALSE\\n564,Tirtouga,Water,Rock,54,78,103,53,45,22,5,FALSE\\n565,Carracosta,Water,Rock,74,108,133,83,65,32,5,FALSE\\n566,Archen,Rock,Flying,55,112,45,74,45,70,5,FALSE\\n567,Archeops,Rock,Flying,75,140,65,112,65,110,5,FALSE\\n568,Trubbish,Poison,,50,50,62,40,62,65,5,FALSE\\n569,Garbodor,Poison,,80,95,82,60,82,75,5,FALSE\\n570,Zorua,Dark,,40,65,40,80,40,65,5,FALSE\\n571,Zoroark,Dark,,60,105,60,120,60,105,5,FALSE\\n572,Minccino,Normal,,55,50,40,40,40,75,5,FALSE\\n573,Cinccino,Normal,,75,95,60,65,60,115,5,FALSE\\n574,Gothita,Psychic,,45,30,50,55,65,45,5,FALSE\\n575,Gothorita,Psychic,,60,45,70,75,85,55,5,FALSE\\n576,Gothitelle,Psychic,,70,55,95,95,110,65,5,FALSE\\n577,Solosis,Psychic,,45,30,40,105,50,20,5,FALSE\\n578,Duosion,Psychic,,65,40,50,125,60,30,5,FALSE\\n579,Reuniclus,Psychic,,110,65,75,125,85,30,5,FALSE\\n580,Ducklett,Water,Flying,62,44,50,44,50,55,5,FALSE\\n581,Swanna,Water,Flying,75,87,63,87,63,98,5,FALSE\\n582,Vanillite,Ice,,36,50,50,65,60,44,5,FALSE\\n583,Vanillish,Ice,,51,65,65,80,75,59,5,FALSE\\n584,Vanilluxe,Ice,,71,95,85,110,95,79,5,FALSE\\n585,Deerling,Normal,Grass,60,60,50,40,50,75,5,FALSE\\n586,Sawsbuck,Normal,Grass,80,100,70,60,70,95,5,FALSE\\n587,Emolga,Electric,Flying,55,75,60,75,60,103,5,FALSE\\n588,Karrablast,Bug,,50,75,45,40,45,60,5,FALSE\\n589,Escavalier,Bug,Steel,70,135,105,60,105,20,5,FALSE\\n590,Foongus,Grass,Poison,69,55,45,55,55,15,5,FALSE\\n591,Amoonguss,Grass,Poison,114,85,70,85,80,30,5,FALSE\\n592,Frillish,Water,Ghost,55,40,50,65,85,40,5,FALSE\\n593,Jellicent,Water,Ghost,100,60,70,85,105,60,5,FALSE\\n594,Alomomola,Water,,165,75,80,40,45,65,5,FALSE\\n595,Joltik,Bug,Electric,50,47,50,57,50,65,5,FALSE\\n596,Galvantula,Bug,Electric,70,77,60,97,60,108,5,FALSE\\n597,Ferroseed,Grass,Steel,44,50,91,24,86,10,5,FALSE\\n598,Ferrothorn,Grass,Steel,74,94,131,54,116,20,5,FALSE\\n599,Klink,Steel,,40,55,70,45,60,30,5,FALSE\\n600,Klang,Steel,,60,80,95,70,85,50,5,FALSE\\n601,Klinklang,Steel,,60,100,115,70,85,90,5,FALSE\\n602,Tynamo,Electric,,35,55,40,45,40,60,5,FALSE\\n603,Eelektrik,Electric,,65,85,70,75,70,40,5,FALSE\\n604,Eelektross,Electric,,85,115,80,105,80,50,5,FALSE\\n605,Elgyem,Psychic,,55,55,55,85,55,30,5,FALSE\\n606,Beheeyem,Psychic,,75,75,75,125,95,40,5,FALSE\\n607,Litwick,Ghost,Fire,50,30,55,65,55,20,5,FALSE\\n608,Lampent,Ghost,Fire,60,40,60,95,60,55,5,FALSE\\n609,Chandelure,Ghost,Fire,60,55,90,145,90,80,5,FALSE\\n610,Axew,Dragon,,46,87,60,30,40,57,5,FALSE\\n611,Fraxure,Dragon,,66,117,70,40,50,67,5,FALSE\\n612,Haxorus,Dragon,,76,147,90,60,70,97,5,FALSE\\n613,Cubchoo,Ice,,55,70,40,60,40,40,5,FALSE\\n614,Beartic,Ice,,95,110,80,70,80,50,5,FALSE\\n615,Cryogonal,Ice,,70,50,30,95,135,105,5,FALSE\\n616,Shelmet,Bug,,50,40,85,40,65,25,5,FALSE\\n617,Accelgor,Bug,,80,70,40,100,60,145,5,FALSE\\n618,Stunfisk,Ground,Electric,109,66,84,81,99,32,5,FALSE\\n619,Mienfoo,Fighting,,45,85,50,55,50,65,5,FALSE\\n620,Mienshao,Fighting,,65,125,60,95,60,105,5,FALSE\\n621,Druddigon,Dragon,,77,120,90,60,90,48,5,FALSE\\n622,Golett,Ground,Ghost,59,74,50,35,50,35,5,FALSE\\n623,Golurk,Ground,Ghost,89,124,80,55,80,55,5,FALSE\\n624,Pawniard,Dark,Steel,45,85,70,40,40,60,5,FALSE\\n625,Bisharp,Dark,Steel,65,125,100,60,70,70,5,FALSE\\n626,Bouffalant,Normal,,95,110,95,40,95,55,5,FALSE\\n627,Rufflet,Normal,Flying,70,83,50,37,50,60,5,FALSE\\n628,Braviary,Normal,Flying,100,123,75,57,75,80,5,FALSE\\n629,Vullaby,Dark,Flying,70,55,75,45,65,60,5,FALSE\\n630,Mandibuzz,Dark,Flying,110,65,105,55,95,80,5,FALSE\\n631,Heatmor,Fire,,85,97,66,105,66,65,5,FALSE\\n632,Durant,Bug,Steel,58,109,112,48,48,109,5,FALSE\\n633,Deino,Dark,Dragon,52,65,50,45,50,38,5,FALSE\\n634,Zweilous,Dark,Dragon,72,85,70,65,70,58,5,FALSE\\n635,Hydreigon,Dark,Dragon,92,105,90,125,90,98,5,FALSE\\n636,Larvesta,Bug,Fire,55,85,55,50,55,60,5,FALSE\\n637,Volcarona,Bug,Fire,85,60,65,135,105,100,5,FALSE\\n638,Cobalion,Steel,Fighting,91,90,129,90,72,108,5,TRUE\\n639,Terrakion,Rock,Fighting,91,129,90,72,90,108,5,TRUE\\n640,Virizion,Grass,Fighting,91,90,72,90,129,108,5,TRUE\\n641,TornadusIncarnate Forme,Flying,,79,115,70,125,80,111,5,TRUE\\n641,TornadusTherian Forme,Flying,,79,100,80,110,90,121,5,TRUE\\n642,ThundurusIncarnate Forme,Electric,Flying,79,115,70,125,80,111,5,TRUE\\n642,ThundurusTherian Forme,Electric,Flying,79,105,70,145,80,101,5,TRUE\\n643,Reshiram,Dragon,Fire,100,120,100,150,120,90,5,TRUE\\n644,Zekrom,Dragon,Electric,100,150,120,120,100,90,5,TRUE\\n645,LandorusIncarnate Forme,Ground,Flying,89,125,90,115,80,101,5,TRUE\\n645,LandorusTherian Forme,Ground,Flying,89,145,90,105,80,91,5,TRUE\\n646,Kyurem,Dragon,Ice,125,130,90,130,90,95,5,TRUE\\n646,KyuremBlack Kyurem,Dragon,Ice,125,170,100,120,90,95,5,TRUE\\n646,KyuremWhite Kyurem,Dragon,Ice,125,120,90,170,100,95,5,TRUE\\n647,KeldeoOrdinary Forme,Water,Fighting,91,72,90,129,90,108,5,FALSE\\n647,KeldeoResolute Forme,Water,Fighting,91,72,90,129,90,108,5,FALSE\\n648,MeloettaAria Forme,Normal,Psychic,100,77,77,128,128,90,5,FALSE\\n648,MeloettaPirouette Forme,Normal,Fighting,100,128,90,77,77,128,5,FALSE\\n649,Genesect,Bug,Steel,71,120,95,120,95,99,5,FALSE\\n650,Chespin,Grass,,56,61,65,48,45,38,6,FALSE\\n651,Quilladin,Grass,,61,78,95,56,58,57,6,FALSE\\n652,Chesnaught,Grass,Fighting,88,107,122,74,75,64,6,FALSE\\n653,Fennekin,Fire,,40,45,40,62,60,60,6,FALSE\\n654,Braixen,Fire,,59,59,58,90,70,73,6,FALSE\\n655,Delphox,Fire,Psychic,75,69,72,114,100,104,6,FALSE\\n656,Froakie,Water,,41,56,40,62,44,71,6,FALSE\\n657,Frogadier,Water,,54,63,52,83,56,97,6,FALSE\\n658,Greninja,Water,Dark,72,95,67,103,71,122,6,FALSE\\n659,Bunnelby,Normal,,38,36,38,32,36,57,6,FALSE\\n660,Diggersby,Normal,Ground,85,56,77,50,77,78,6,FALSE\\n661,Fletchling,Normal,Flying,45,50,43,40,38,62,6,FALSE\\n662,Fletchinder,Fire,Flying,62,73,55,56,52,84,6,FALSE\\n663,Talonflame,Fire,Flying,78,81,71,74,69,126,6,FALSE\\n664,Scatterbug,Bug,,38,35,40,27,25,35,6,FALSE\\n665,Spewpa,Bug,,45,22,60,27,30,29,6,FALSE\\n666,Vivillon,Bug,Flying,80,52,50,90,50,89,6,FALSE\\n667,Litleo,Fire,Normal,62,50,58,73,54,72,6,FALSE\\n668,Pyroar,Fire,Normal,86,68,72,109,66,106,6,FALSE\\n669,Flab\\xc3\\xa9b\\xc3\\xa9,Fairy,,44,38,39,61,79,42,6,FALSE\\n670,Floette,Fairy,,54,45,47,75,98,52,6,FALSE\\n671,Florges,Fairy,,78,65,68,112,154,75,6,FALSE\\n672,Skiddo,Grass,,66,65,48,62,57,52,6,FALSE\\n673,Gogoat,Grass,,123,100,62,97,81,68,6,FALSE\\n674,Pancham,Fighting,,67,82,62,46,48,43,6,FALSE\\n675,Pangoro,Fighting,Dark,95,124,78,69,71,58,6,FALSE\\n676,Furfrou,Normal,,75,80,60,65,90,102,6,FALSE\\n677,Espurr,Psychic,,62,48,54,63,60,68,6,FALSE\\n678,MeowsticMale,Psychic,,74,48,76,83,81,104,6,FALSE\\n678,MeowsticFemale,Psychic,,74,48,76,83,81,104,6,FALSE\\n679,Honedge,Steel,Ghost,45,80,100,35,37,28,6,FALSE\\n680,Doublade,Steel,Ghost,59,110,150,45,49,35,6,FALSE\\n681,AegislashBlade Forme,Steel,Ghost,60,150,50,150,50,60,6,FALSE\\n681,AegislashShield Forme,Steel,Ghost,60,50,150,50,150,60,6,FALSE\\n682,Spritzee,Fairy,,78,52,60,63,65,23,6,FALSE\\n683,Aromatisse,Fairy,,101,72,72,99,89,29,6,FALSE\\n684,Swirlix,Fairy,,62,48,66,59,57,49,6,FALSE\\n685,Slurpuff,Fairy,,82,80,86,85,75,72,6,FALSE\\n686,Inkay,Dark,Psychic,53,54,53,37,46,45,6,FALSE\\n687,Malamar,Dark,Psychic,86,92,88,68,75,73,6,FALSE\\n688,Binacle,Rock,Water,42,52,67,39,56,50,6,FALSE\\n689,Barbaracle,Rock,Water,72,105,115,54,86,68,6,FALSE\\n690,Skrelp,Poison,Water,50,60,60,60,60,30,6,FALSE\\n691,Dragalge,Poison,Dragon,65,75,90,97,123,44,6,FALSE\\n692,Clauncher,Water,,50,53,62,58,63,44,6,FALSE\\n693,Clawitzer,Water,,71,73,88,120,89,59,6,FALSE\\n694,Helioptile,Electric,Normal,44,38,33,61,43,70,6,FALSE\\n695,Heliolisk,Electric,Normal,62,55,52,109,94,109,6,FALSE\\n696,Tyrunt,Rock,Dragon,58,89,77,45,45,48,6,FALSE\\n697,Tyrantrum,Rock,Dragon,82,121,119,69,59,71,6,FALSE\\n698,Amaura,Rock,Ice,77,59,50,67,63,46,6,FALSE\\n699,Aurorus,Rock,Ice,123,77,72,99,92,58,6,FALSE\\n700,Sylveon,Fairy,,95,65,65,110,130,60,6,FALSE\\n701,Hawlucha,Fighting,Flying,78,92,75,74,63,118,6,FALSE\\n702,Dedenne,Electric,Fairy,67,58,57,81,67,101,6,FALSE\\n703,Carbink,Rock,Fairy,50,50,150,50,150,50,6,FALSE\\n704,Goomy,Dragon,,45,50,35,55,75,40,6,FALSE\\n705,Sliggoo,Dragon,,68,75,53,83,113,60,6,FALSE\\n706,Goodra,Dragon,,90,100,70,110,150,80,6,FALSE\\n707,Klefki,Steel,Fairy,57,80,91,80,87,75,6,FALSE\\n708,Phantump,Ghost,Grass,43,70,48,50,60,38,6,FALSE\\n709,Trevenant,Ghost,Grass,85,110,76,65,82,56,6,FALSE\\n710,PumpkabooAverage Size,Ghost,Grass,49,66,70,44,55,51,6,FALSE\\n710,PumpkabooSmall Size,Ghost,Grass,44,66,70,44,55,56,6,FALSE\\n710,PumpkabooLarge Size,Ghost,Grass,54,66,70,44,55,46,6,FALSE\\n710,PumpkabooSuper Size,Ghost,Grass,59,66,70,44,55,41,6,FALSE\\n711,GourgeistAverage Size,Ghost,Grass,65,90,122,58,75,84,6,FALSE\\n711,GourgeistSmall Size,Ghost,Grass,55,85,122,58,75,99,6,FALSE\\n711,GourgeistLarge Size,Ghost,Grass,75,95,122,58,75,69,6,FALSE\\n711,GourgeistSuper Size,Ghost,Grass,85,100,122,58,75,54,6,FALSE\\n712,Bergmite,Ice,,55,69,85,32,35,28,6,FALSE\\n713,Avalugg,Ice,,95,117,184,44,46,28,6,FALSE\\n714,Noibat,Flying,Dragon,40,30,35,45,40,55,6,FALSE\\n715,Noivern,Flying,Dragon,85,70,80,97,80,123,6,FALSE\\n716,Xerneas,Fairy,,126,131,95,131,98,99,6,TRUE\\n717,Yveltal,Dark,Flying,126,131,95,131,98,99,6,TRUE\\n718,Zygarde50% Forme,Dragon,Ground,108,100,121,81,95,95,6,TRUE\\n719,Diancie,Rock,Fairy,50,100,150,100,150,50,6,TRUE\\n719,DiancieMega Diancie,Rock,Fairy,50,160,110,160,110,110,6,TRUE\\n720,HoopaHoopa Confined,Psychic,Ghost,80,110,60,150,130,70,6,TRUE\\n720,HoopaHoopa Unbound,Psychic,Dark,80,160,60,170,130,80,6,TRUE\\n721,Volcanion,Fire,Water,80,110,120,130,90,70,6,TRUE\\n\"}"
            ]
          },
          "metadata": {
            "tags": []
          },
          "execution_count": 28
        }
      ]
    },
    {
      "cell_type": "code",
      "metadata": {
        "id": "x1q3jW1nbvPP"
      },
      "source": [
        "data = pd.read_csv('pokemon_data.csv')"
      ],
      "execution_count": 29,
      "outputs": []
    },
    {
      "cell_type": "code",
      "metadata": {
        "colab": {
          "base_uri": "https://localhost:8080/",
          "height": 237
        },
        "id": "j1BWVlfzbx7B",
        "outputId": "e95e758e-adc8-40e3-8133-e3645d787225"
      },
      "source": [
        "data = data.set_index('#')\n",
        "data.head()"
      ],
      "execution_count": 30,
      "outputs": [
        {
          "output_type": "execute_result",
          "data": {
            "text/html": [
              "<div>\n",
              "<style scoped>\n",
              "    .dataframe tbody tr th:only-of-type {\n",
              "        vertical-align: middle;\n",
              "    }\n",
              "\n",
              "    .dataframe tbody tr th {\n",
              "        vertical-align: top;\n",
              "    }\n",
              "\n",
              "    .dataframe thead th {\n",
              "        text-align: right;\n",
              "    }\n",
              "</style>\n",
              "<table border=\"1\" class=\"dataframe\">\n",
              "  <thead>\n",
              "    <tr style=\"text-align: right;\">\n",
              "      <th></th>\n",
              "      <th>Name</th>\n",
              "      <th>Type 1</th>\n",
              "      <th>Type 2</th>\n",
              "      <th>HP</th>\n",
              "      <th>Attack</th>\n",
              "      <th>Defense</th>\n",
              "      <th>Sp. Atk</th>\n",
              "      <th>Sp. Def</th>\n",
              "      <th>Speed</th>\n",
              "      <th>Generation</th>\n",
              "      <th>Legendary</th>\n",
              "    </tr>\n",
              "    <tr>\n",
              "      <th>#</th>\n",
              "      <th></th>\n",
              "      <th></th>\n",
              "      <th></th>\n",
              "      <th></th>\n",
              "      <th></th>\n",
              "      <th></th>\n",
              "      <th></th>\n",
              "      <th></th>\n",
              "      <th></th>\n",
              "      <th></th>\n",
              "      <th></th>\n",
              "    </tr>\n",
              "  </thead>\n",
              "  <tbody>\n",
              "    <tr>\n",
              "      <th>1</th>\n",
              "      <td>Bulbasaur</td>\n",
              "      <td>Grass</td>\n",
              "      <td>Poison</td>\n",
              "      <td>45</td>\n",
              "      <td>49</td>\n",
              "      <td>49</td>\n",
              "      <td>65</td>\n",
              "      <td>65</td>\n",
              "      <td>45</td>\n",
              "      <td>1</td>\n",
              "      <td>False</td>\n",
              "    </tr>\n",
              "    <tr>\n",
              "      <th>2</th>\n",
              "      <td>Ivysaur</td>\n",
              "      <td>Grass</td>\n",
              "      <td>Poison</td>\n",
              "      <td>60</td>\n",
              "      <td>62</td>\n",
              "      <td>63</td>\n",
              "      <td>80</td>\n",
              "      <td>80</td>\n",
              "      <td>60</td>\n",
              "      <td>1</td>\n",
              "      <td>False</td>\n",
              "    </tr>\n",
              "    <tr>\n",
              "      <th>3</th>\n",
              "      <td>Venusaur</td>\n",
              "      <td>Grass</td>\n",
              "      <td>Poison</td>\n",
              "      <td>80</td>\n",
              "      <td>82</td>\n",
              "      <td>83</td>\n",
              "      <td>100</td>\n",
              "      <td>100</td>\n",
              "      <td>80</td>\n",
              "      <td>1</td>\n",
              "      <td>False</td>\n",
              "    </tr>\n",
              "    <tr>\n",
              "      <th>3</th>\n",
              "      <td>VenusaurMega Venusaur</td>\n",
              "      <td>Grass</td>\n",
              "      <td>Poison</td>\n",
              "      <td>80</td>\n",
              "      <td>100</td>\n",
              "      <td>123</td>\n",
              "      <td>122</td>\n",
              "      <td>120</td>\n",
              "      <td>80</td>\n",
              "      <td>1</td>\n",
              "      <td>False</td>\n",
              "    </tr>\n",
              "    <tr>\n",
              "      <th>4</th>\n",
              "      <td>Charmander</td>\n",
              "      <td>Fire</td>\n",
              "      <td>NaN</td>\n",
              "      <td>39</td>\n",
              "      <td>52</td>\n",
              "      <td>43</td>\n",
              "      <td>60</td>\n",
              "      <td>50</td>\n",
              "      <td>65</td>\n",
              "      <td>1</td>\n",
              "      <td>False</td>\n",
              "    </tr>\n",
              "  </tbody>\n",
              "</table>\n",
              "</div>"
            ],
            "text/plain": [
              "                    Name Type 1  Type 2  ...  Speed  Generation  Legendary\n",
              "#                                        ...                              \n",
              "1              Bulbasaur  Grass  Poison  ...     45           1      False\n",
              "2                Ivysaur  Grass  Poison  ...     60           1      False\n",
              "3               Venusaur  Grass  Poison  ...     80           1      False\n",
              "3  VenusaurMega Venusaur  Grass  Poison  ...     80           1      False\n",
              "4             Charmander   Fire     NaN  ...     65           1      False\n",
              "\n",
              "[5 rows x 11 columns]"
            ]
          },
          "metadata": {
            "tags": []
          },
          "execution_count": 30
        }
      ]
    },
    {
      "cell_type": "markdown",
      "metadata": {
        "id": "zI9d6ycObd1Z"
      },
      "source": [
        "TODO #14"
      ]
    },
    {
      "cell_type": "code",
      "metadata": {
        "colab": {
          "base_uri": "https://localhost:8080/"
        },
        "id": "M0MmuriXb3jJ",
        "outputId": "119caeeb-1dbf-480d-c8c6-9e3060027431"
      },
      "source": [
        "data.iloc[87]['HP']"
      ],
      "execution_count": 31,
      "outputs": [
        {
          "output_type": "execute_result",
          "data": {
            "text/plain": [
              "95"
            ]
          },
          "metadata": {
            "tags": []
          },
          "execution_count": 31
        }
      ]
    },
    {
      "cell_type": "markdown",
      "metadata": {
        "id": "EtQRbuXMcEYa"
      },
      "source": [
        "TODO #15"
      ]
    },
    {
      "cell_type": "code",
      "metadata": {
        "colab": {
          "base_uri": "https://localhost:8080/",
          "height": 455
        },
        "id": "VvLkkXkocGIF",
        "outputId": "0ca757a7-22ed-4f85-878e-9a90362d8e99"
      },
      "source": [
        "hp_attack = data[['HP','Attack']]\n",
        "hp_attack"
      ],
      "execution_count": 32,
      "outputs": [
        {
          "output_type": "execute_result",
          "data": {
            "text/html": [
              "<div>\n",
              "<style scoped>\n",
              "    .dataframe tbody tr th:only-of-type {\n",
              "        vertical-align: middle;\n",
              "    }\n",
              "\n",
              "    .dataframe tbody tr th {\n",
              "        vertical-align: top;\n",
              "    }\n",
              "\n",
              "    .dataframe thead th {\n",
              "        text-align: right;\n",
              "    }\n",
              "</style>\n",
              "<table border=\"1\" class=\"dataframe\">\n",
              "  <thead>\n",
              "    <tr style=\"text-align: right;\">\n",
              "      <th></th>\n",
              "      <th>HP</th>\n",
              "      <th>Attack</th>\n",
              "    </tr>\n",
              "    <tr>\n",
              "      <th>#</th>\n",
              "      <th></th>\n",
              "      <th></th>\n",
              "    </tr>\n",
              "  </thead>\n",
              "  <tbody>\n",
              "    <tr>\n",
              "      <th>1</th>\n",
              "      <td>45</td>\n",
              "      <td>49</td>\n",
              "    </tr>\n",
              "    <tr>\n",
              "      <th>2</th>\n",
              "      <td>60</td>\n",
              "      <td>62</td>\n",
              "    </tr>\n",
              "    <tr>\n",
              "      <th>3</th>\n",
              "      <td>80</td>\n",
              "      <td>82</td>\n",
              "    </tr>\n",
              "    <tr>\n",
              "      <th>3</th>\n",
              "      <td>80</td>\n",
              "      <td>100</td>\n",
              "    </tr>\n",
              "    <tr>\n",
              "      <th>4</th>\n",
              "      <td>39</td>\n",
              "      <td>52</td>\n",
              "    </tr>\n",
              "    <tr>\n",
              "      <th>...</th>\n",
              "      <td>...</td>\n",
              "      <td>...</td>\n",
              "    </tr>\n",
              "    <tr>\n",
              "      <th>719</th>\n",
              "      <td>50</td>\n",
              "      <td>100</td>\n",
              "    </tr>\n",
              "    <tr>\n",
              "      <th>719</th>\n",
              "      <td>50</td>\n",
              "      <td>160</td>\n",
              "    </tr>\n",
              "    <tr>\n",
              "      <th>720</th>\n",
              "      <td>80</td>\n",
              "      <td>110</td>\n",
              "    </tr>\n",
              "    <tr>\n",
              "      <th>720</th>\n",
              "      <td>80</td>\n",
              "      <td>160</td>\n",
              "    </tr>\n",
              "    <tr>\n",
              "      <th>721</th>\n",
              "      <td>80</td>\n",
              "      <td>110</td>\n",
              "    </tr>\n",
              "  </tbody>\n",
              "</table>\n",
              "<p>800 rows × 2 columns</p>\n",
              "</div>"
            ],
            "text/plain": [
              "     HP  Attack\n",
              "#              \n",
              "1    45      49\n",
              "2    60      62\n",
              "3    80      82\n",
              "3    80     100\n",
              "4    39      52\n",
              "..   ..     ...\n",
              "719  50     100\n",
              "719  50     160\n",
              "720  80     110\n",
              "720  80     160\n",
              "721  80     110\n",
              "\n",
              "[800 rows x 2 columns]"
            ]
          },
          "metadata": {
            "tags": []
          },
          "execution_count": 32
        }
      ]
    },
    {
      "cell_type": "markdown",
      "metadata": {
        "id": "jXjAaF_8cU9a"
      },
      "source": [
        "TODO #16"
      ]
    },
    {
      "cell_type": "code",
      "metadata": {
        "colab": {
          "base_uri": "https://localhost:8080/",
          "height": 394
        },
        "id": "8GzIfeabcW-t",
        "outputId": "1c06219a-a783-43ef-c70c-ba08d539e6d2"
      },
      "source": [
        "data.sort_index(ascending=False).tail(10)"
      ],
      "execution_count": 33,
      "outputs": [
        {
          "output_type": "execute_result",
          "data": {
            "text/html": [
              "<div>\n",
              "<style scoped>\n",
              "    .dataframe tbody tr th:only-of-type {\n",
              "        vertical-align: middle;\n",
              "    }\n",
              "\n",
              "    .dataframe tbody tr th {\n",
              "        vertical-align: top;\n",
              "    }\n",
              "\n",
              "    .dataframe thead th {\n",
              "        text-align: right;\n",
              "    }\n",
              "</style>\n",
              "<table border=\"1\" class=\"dataframe\">\n",
              "  <thead>\n",
              "    <tr style=\"text-align: right;\">\n",
              "      <th></th>\n",
              "      <th>Name</th>\n",
              "      <th>Type 1</th>\n",
              "      <th>Type 2</th>\n",
              "      <th>HP</th>\n",
              "      <th>Attack</th>\n",
              "      <th>Defense</th>\n",
              "      <th>Sp. Atk</th>\n",
              "      <th>Sp. Def</th>\n",
              "      <th>Speed</th>\n",
              "      <th>Generation</th>\n",
              "      <th>Legendary</th>\n",
              "    </tr>\n",
              "    <tr>\n",
              "      <th>#</th>\n",
              "      <th></th>\n",
              "      <th></th>\n",
              "      <th></th>\n",
              "      <th></th>\n",
              "      <th></th>\n",
              "      <th></th>\n",
              "      <th></th>\n",
              "      <th></th>\n",
              "      <th></th>\n",
              "      <th></th>\n",
              "      <th></th>\n",
              "    </tr>\n",
              "  </thead>\n",
              "  <tbody>\n",
              "    <tr>\n",
              "      <th>7</th>\n",
              "      <td>Squirtle</td>\n",
              "      <td>Water</td>\n",
              "      <td>NaN</td>\n",
              "      <td>44</td>\n",
              "      <td>48</td>\n",
              "      <td>65</td>\n",
              "      <td>50</td>\n",
              "      <td>64</td>\n",
              "      <td>43</td>\n",
              "      <td>1</td>\n",
              "      <td>False</td>\n",
              "    </tr>\n",
              "    <tr>\n",
              "      <th>6</th>\n",
              "      <td>CharizardMega Charizard Y</td>\n",
              "      <td>Fire</td>\n",
              "      <td>Flying</td>\n",
              "      <td>78</td>\n",
              "      <td>104</td>\n",
              "      <td>78</td>\n",
              "      <td>159</td>\n",
              "      <td>115</td>\n",
              "      <td>100</td>\n",
              "      <td>1</td>\n",
              "      <td>False</td>\n",
              "    </tr>\n",
              "    <tr>\n",
              "      <th>6</th>\n",
              "      <td>Charizard</td>\n",
              "      <td>Fire</td>\n",
              "      <td>Flying</td>\n",
              "      <td>78</td>\n",
              "      <td>84</td>\n",
              "      <td>78</td>\n",
              "      <td>109</td>\n",
              "      <td>85</td>\n",
              "      <td>100</td>\n",
              "      <td>1</td>\n",
              "      <td>False</td>\n",
              "    </tr>\n",
              "    <tr>\n",
              "      <th>6</th>\n",
              "      <td>CharizardMega Charizard X</td>\n",
              "      <td>Fire</td>\n",
              "      <td>Dragon</td>\n",
              "      <td>78</td>\n",
              "      <td>130</td>\n",
              "      <td>111</td>\n",
              "      <td>130</td>\n",
              "      <td>85</td>\n",
              "      <td>100</td>\n",
              "      <td>1</td>\n",
              "      <td>False</td>\n",
              "    </tr>\n",
              "    <tr>\n",
              "      <th>5</th>\n",
              "      <td>Charmeleon</td>\n",
              "      <td>Fire</td>\n",
              "      <td>NaN</td>\n",
              "      <td>58</td>\n",
              "      <td>64</td>\n",
              "      <td>58</td>\n",
              "      <td>80</td>\n",
              "      <td>65</td>\n",
              "      <td>80</td>\n",
              "      <td>1</td>\n",
              "      <td>False</td>\n",
              "    </tr>\n",
              "    <tr>\n",
              "      <th>4</th>\n",
              "      <td>Charmander</td>\n",
              "      <td>Fire</td>\n",
              "      <td>NaN</td>\n",
              "      <td>39</td>\n",
              "      <td>52</td>\n",
              "      <td>43</td>\n",
              "      <td>60</td>\n",
              "      <td>50</td>\n",
              "      <td>65</td>\n",
              "      <td>1</td>\n",
              "      <td>False</td>\n",
              "    </tr>\n",
              "    <tr>\n",
              "      <th>3</th>\n",
              "      <td>Venusaur</td>\n",
              "      <td>Grass</td>\n",
              "      <td>Poison</td>\n",
              "      <td>80</td>\n",
              "      <td>82</td>\n",
              "      <td>83</td>\n",
              "      <td>100</td>\n",
              "      <td>100</td>\n",
              "      <td>80</td>\n",
              "      <td>1</td>\n",
              "      <td>False</td>\n",
              "    </tr>\n",
              "    <tr>\n",
              "      <th>3</th>\n",
              "      <td>VenusaurMega Venusaur</td>\n",
              "      <td>Grass</td>\n",
              "      <td>Poison</td>\n",
              "      <td>80</td>\n",
              "      <td>100</td>\n",
              "      <td>123</td>\n",
              "      <td>122</td>\n",
              "      <td>120</td>\n",
              "      <td>80</td>\n",
              "      <td>1</td>\n",
              "      <td>False</td>\n",
              "    </tr>\n",
              "    <tr>\n",
              "      <th>2</th>\n",
              "      <td>Ivysaur</td>\n",
              "      <td>Grass</td>\n",
              "      <td>Poison</td>\n",
              "      <td>60</td>\n",
              "      <td>62</td>\n",
              "      <td>63</td>\n",
              "      <td>80</td>\n",
              "      <td>80</td>\n",
              "      <td>60</td>\n",
              "      <td>1</td>\n",
              "      <td>False</td>\n",
              "    </tr>\n",
              "    <tr>\n",
              "      <th>1</th>\n",
              "      <td>Bulbasaur</td>\n",
              "      <td>Grass</td>\n",
              "      <td>Poison</td>\n",
              "      <td>45</td>\n",
              "      <td>49</td>\n",
              "      <td>49</td>\n",
              "      <td>65</td>\n",
              "      <td>65</td>\n",
              "      <td>45</td>\n",
              "      <td>1</td>\n",
              "      <td>False</td>\n",
              "    </tr>\n",
              "  </tbody>\n",
              "</table>\n",
              "</div>"
            ],
            "text/plain": [
              "                        Name Type 1  Type 2  ...  Speed  Generation  Legendary\n",
              "#                                            ...                              \n",
              "7                   Squirtle  Water     NaN  ...     43           1      False\n",
              "6  CharizardMega Charizard Y   Fire  Flying  ...    100           1      False\n",
              "6                  Charizard   Fire  Flying  ...    100           1      False\n",
              "6  CharizardMega Charizard X   Fire  Dragon  ...    100           1      False\n",
              "5                 Charmeleon   Fire     NaN  ...     80           1      False\n",
              "4                 Charmander   Fire     NaN  ...     65           1      False\n",
              "3                   Venusaur  Grass  Poison  ...     80           1      False\n",
              "3      VenusaurMega Venusaur  Grass  Poison  ...     80           1      False\n",
              "2                    Ivysaur  Grass  Poison  ...     60           1      False\n",
              "1                  Bulbasaur  Grass  Poison  ...     45           1      False\n",
              "\n",
              "[10 rows x 11 columns]"
            ]
          },
          "metadata": {
            "tags": []
          },
          "execution_count": 33
        }
      ]
    },
    {
      "cell_type": "markdown",
      "metadata": {
        "id": "45Rcy23BccNl"
      },
      "source": [
        "TODO #17"
      ]
    },
    {
      "cell_type": "code",
      "metadata": {
        "colab": {
          "base_uri": "https://localhost:8080/",
          "height": 455
        },
        "id": "rPVli7rScdr8",
        "outputId": "646c3260-cc25-4b8a-9564-a570e84e8670"
      },
      "source": [
        "data.set_index(['Type 1', 'Type 2']).head(100)"
      ],
      "execution_count": 34,
      "outputs": [
        {
          "output_type": "execute_result",
          "data": {
            "text/html": [
              "<div>\n",
              "<style scoped>\n",
              "    .dataframe tbody tr th:only-of-type {\n",
              "        vertical-align: middle;\n",
              "    }\n",
              "\n",
              "    .dataframe tbody tr th {\n",
              "        vertical-align: top;\n",
              "    }\n",
              "\n",
              "    .dataframe thead th {\n",
              "        text-align: right;\n",
              "    }\n",
              "</style>\n",
              "<table border=\"1\" class=\"dataframe\">\n",
              "  <thead>\n",
              "    <tr style=\"text-align: right;\">\n",
              "      <th></th>\n",
              "      <th></th>\n",
              "      <th>Name</th>\n",
              "      <th>HP</th>\n",
              "      <th>Attack</th>\n",
              "      <th>Defense</th>\n",
              "      <th>Sp. Atk</th>\n",
              "      <th>Sp. Def</th>\n",
              "      <th>Speed</th>\n",
              "      <th>Generation</th>\n",
              "      <th>Legendary</th>\n",
              "    </tr>\n",
              "    <tr>\n",
              "      <th>Type 1</th>\n",
              "      <th>Type 2</th>\n",
              "      <th></th>\n",
              "      <th></th>\n",
              "      <th></th>\n",
              "      <th></th>\n",
              "      <th></th>\n",
              "      <th></th>\n",
              "      <th></th>\n",
              "      <th></th>\n",
              "      <th></th>\n",
              "    </tr>\n",
              "  </thead>\n",
              "  <tbody>\n",
              "    <tr>\n",
              "      <th rowspan=\"4\" valign=\"top\">Grass</th>\n",
              "      <th>Poison</th>\n",
              "      <td>Bulbasaur</td>\n",
              "      <td>45</td>\n",
              "      <td>49</td>\n",
              "      <td>49</td>\n",
              "      <td>65</td>\n",
              "      <td>65</td>\n",
              "      <td>45</td>\n",
              "      <td>1</td>\n",
              "      <td>False</td>\n",
              "    </tr>\n",
              "    <tr>\n",
              "      <th>Poison</th>\n",
              "      <td>Ivysaur</td>\n",
              "      <td>60</td>\n",
              "      <td>62</td>\n",
              "      <td>63</td>\n",
              "      <td>80</td>\n",
              "      <td>80</td>\n",
              "      <td>60</td>\n",
              "      <td>1</td>\n",
              "      <td>False</td>\n",
              "    </tr>\n",
              "    <tr>\n",
              "      <th>Poison</th>\n",
              "      <td>Venusaur</td>\n",
              "      <td>80</td>\n",
              "      <td>82</td>\n",
              "      <td>83</td>\n",
              "      <td>100</td>\n",
              "      <td>100</td>\n",
              "      <td>80</td>\n",
              "      <td>1</td>\n",
              "      <td>False</td>\n",
              "    </tr>\n",
              "    <tr>\n",
              "      <th>Poison</th>\n",
              "      <td>VenusaurMega Venusaur</td>\n",
              "      <td>80</td>\n",
              "      <td>100</td>\n",
              "      <td>123</td>\n",
              "      <td>122</td>\n",
              "      <td>120</td>\n",
              "      <td>80</td>\n",
              "      <td>1</td>\n",
              "      <td>False</td>\n",
              "    </tr>\n",
              "    <tr>\n",
              "      <th>Fire</th>\n",
              "      <th>NaN</th>\n",
              "      <td>Charmander</td>\n",
              "      <td>39</td>\n",
              "      <td>52</td>\n",
              "      <td>43</td>\n",
              "      <td>60</td>\n",
              "      <td>50</td>\n",
              "      <td>65</td>\n",
              "      <td>1</td>\n",
              "      <td>False</td>\n",
              "    </tr>\n",
              "    <tr>\n",
              "      <th>...</th>\n",
              "      <th>...</th>\n",
              "      <td>...</td>\n",
              "      <td>...</td>\n",
              "      <td>...</td>\n",
              "      <td>...</td>\n",
              "      <td>...</td>\n",
              "      <td>...</td>\n",
              "      <td>...</td>\n",
              "      <td>...</td>\n",
              "      <td>...</td>\n",
              "    </tr>\n",
              "    <tr>\n",
              "      <th rowspan=\"2\" valign=\"top\">Poison</th>\n",
              "      <th>NaN</th>\n",
              "      <td>Grimer</td>\n",
              "      <td>80</td>\n",
              "      <td>80</td>\n",
              "      <td>50</td>\n",
              "      <td>40</td>\n",
              "      <td>50</td>\n",
              "      <td>25</td>\n",
              "      <td>1</td>\n",
              "      <td>False</td>\n",
              "    </tr>\n",
              "    <tr>\n",
              "      <th>NaN</th>\n",
              "      <td>Muk</td>\n",
              "      <td>105</td>\n",
              "      <td>105</td>\n",
              "      <td>75</td>\n",
              "      <td>65</td>\n",
              "      <td>100</td>\n",
              "      <td>50</td>\n",
              "      <td>1</td>\n",
              "      <td>False</td>\n",
              "    </tr>\n",
              "    <tr>\n",
              "      <th rowspan=\"2\" valign=\"top\">Water</th>\n",
              "      <th>NaN</th>\n",
              "      <td>Shellder</td>\n",
              "      <td>30</td>\n",
              "      <td>65</td>\n",
              "      <td>100</td>\n",
              "      <td>45</td>\n",
              "      <td>25</td>\n",
              "      <td>40</td>\n",
              "      <td>1</td>\n",
              "      <td>False</td>\n",
              "    </tr>\n",
              "    <tr>\n",
              "      <th>Ice</th>\n",
              "      <td>Cloyster</td>\n",
              "      <td>50</td>\n",
              "      <td>95</td>\n",
              "      <td>180</td>\n",
              "      <td>85</td>\n",
              "      <td>45</td>\n",
              "      <td>70</td>\n",
              "      <td>1</td>\n",
              "      <td>False</td>\n",
              "    </tr>\n",
              "    <tr>\n",
              "      <th>Ghost</th>\n",
              "      <th>Poison</th>\n",
              "      <td>Gastly</td>\n",
              "      <td>30</td>\n",
              "      <td>35</td>\n",
              "      <td>30</td>\n",
              "      <td>100</td>\n",
              "      <td>35</td>\n",
              "      <td>80</td>\n",
              "      <td>1</td>\n",
              "      <td>False</td>\n",
              "    </tr>\n",
              "  </tbody>\n",
              "</table>\n",
              "<p>100 rows × 9 columns</p>\n",
              "</div>"
            ],
            "text/plain": [
              "                                Name   HP  Attack  ...  Speed  Generation  Legendary\n",
              "Type 1 Type 2                                      ...                              \n",
              "Grass  Poison              Bulbasaur   45      49  ...     45           1      False\n",
              "       Poison                Ivysaur   60      62  ...     60           1      False\n",
              "       Poison               Venusaur   80      82  ...     80           1      False\n",
              "       Poison  VenusaurMega Venusaur   80     100  ...     80           1      False\n",
              "Fire   NaN                Charmander   39      52  ...     65           1      False\n",
              "...                              ...  ...     ...  ...    ...         ...        ...\n",
              "Poison NaN                    Grimer   80      80  ...     25           1      False\n",
              "       NaN                       Muk  105     105  ...     50           1      False\n",
              "Water  NaN                  Shellder   30      65  ...     40           1      False\n",
              "       Ice                  Cloyster   50      95  ...     70           1      False\n",
              "Ghost  Poison                 Gastly   30      35  ...     80           1      False\n",
              "\n",
              "[100 rows x 9 columns]"
            ]
          },
          "metadata": {
            "tags": []
          },
          "execution_count": 34
        }
      ]
    },
    {
      "cell_type": "markdown",
      "metadata": {
        "id": "T2WcnjmBcw-p"
      },
      "source": [
        "TODO #18"
      ]
    },
    {
      "cell_type": "code",
      "metadata": {
        "colab": {
          "base_uri": "https://localhost:8080/",
          "height": 297
        },
        "id": "JfRReJH4cwtE",
        "outputId": "274a35fc-7219-4027-a6ee-7c63f4883ab5"
      },
      "source": [
        "sns.scatterplot(x=pokemon['Attack'],y=pokemon['Defense'], hue=pokemon['Generation'])"
      ],
      "execution_count": 35,
      "outputs": [
        {
          "output_type": "execute_result",
          "data": {
            "text/plain": [
              "<matplotlib.axes._subplots.AxesSubplot at 0x7fb6b32f6750>"
            ]
          },
          "metadata": {
            "tags": []
          },
          "execution_count": 35
        },
        {
          "output_type": "display_data",
          "data": {
            "image/png": "[encoded data removed]",
            "text/plain": [
              "<Figure size 432x288 with 1 Axes>"
            ]
          },
          "metadata": {
            "tags": [],
            "needs_background": "light"
          }
        }
      ]
    }
  ]
}