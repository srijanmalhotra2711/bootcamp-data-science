{
  "nbformat": 4,
  "nbformat_minor": 0,
  "metadata": {
    "colab": {
      "name": "Task3.ipynb",
      "provenance": []
    },
    "kernelspec": {
      "name": "python3",
      "display_name": "Python 3"
    },
    "language_info": {
      "name": "python"
    }
  },
  "cells": [
    {
      "cell_type": "code",
      "metadata": {
        "id": "bVdUKbIxwPPn"
      },
      "source": [
        "import numpy as np\n",
        "import pandas as pd\n",
        "import matplotlib.pyplot as plt\n",
        "import seaborn as sns\n",
        "\n",
        "%matplotlib inline"
      ],
      "execution_count": 1,
      "outputs": []
    },
    {
      "cell_type": "markdown",
      "metadata": {
        "id": "TbEqFi7IxgDI"
      },
      "source": [
        "TODO #1\n"
      ]
    },
    {
      "cell_type": "code",
      "metadata": {
        "colab": {
          "base_uri": "https://localhost:8080/"
        },
        "id": "43svAFTVwy21",
        "outputId": "ae2c2c05-bd3c-4652-9f5a-f1af59ed2098"
      },
      "source": [
        "a = np.array([1, 2, 3, 4, 5])\n",
        "print('a: ', type(a))"
      ],
      "execution_count": 3,
      "outputs": [
        {
          "output_type": "stream",
          "text": [
            "a:  <class 'numpy.ndarray'>\n"
          ],
          "name": "stdout"
        }
      ]
    },
    {
      "cell_type": "markdown",
      "metadata": {
        "id": "jA-PhHptxjgI"
      },
      "source": [
        "TODO #2"
      ]
    },
    {
      "cell_type": "code",
      "metadata": {
        "colab": {
          "base_uri": "https://localhost:8080/"
        },
        "id": "quqh0MbfxN2f",
        "outputId": "c275360c-39c1-4d5e-9289-89cc2d6cc290"
      },
      "source": [
        "a = np.random.rand(4, 4)\n",
        "print(a)"
      ],
      "execution_count": 4,
      "outputs": [
        {
          "output_type": "stream",
          "text": [
            "[[0.59714086 0.65760864 0.7582676  0.72396884]\n",
            " [0.90293543 0.22170405 0.96341602 0.64069489]\n",
            " [0.77846027 0.00993084 0.23513818 0.14821554]\n",
            " [0.05585461 0.58782985 0.05472929 0.58291747]]\n"
          ],
          "name": "stdout"
        }
      ]
    },
    {
      "cell_type": "markdown",
      "metadata": {
        "id": "BFgMSOfixwjo"
      },
      "source": [
        "TODO #3"
      ]
    },
    {
      "cell_type": "code",
      "metadata": {
        "colab": {
          "base_uri": "https://localhost:8080/"
        },
        "id": "FGp1Bl27xYhy",
        "outputId": "500d9fd8-40b7-4b73-965c-545faa98d0b4"
      },
      "source": [
        "a = np.matrix(np.array([1,2,3,4,5,6,7,8,9,10,11,12,13,14,15,16]))\n",
        "print(a)"
      ],
      "execution_count": 10,
      "outputs": [
        {
          "output_type": "stream",
          "text": [
            "[[ 1  2  3  4  5  6  7  8  9 10 11 12 13 14 15 16]]\n"
          ],
          "name": "stdout"
        }
      ]
    },
    {
      "cell_type": "code",
      "metadata": {
        "id": "Vgn-wRmH4Xh9"
      },
      "source": [
        ""
      ],
      "execution_count": null,
      "outputs": []
    },
    {
      "cell_type": "markdown",
      "metadata": {
        "id": "T0U9h5hbzoVq"
      },
      "source": [
        "TODO #4"
      ]
    },
    {
      "cell_type": "code",
      "metadata": {
        "colab": {
          "base_uri": "https://localhost:8080/"
        },
        "id": "d2exNNYHzqKD",
        "outputId": "bd7ca8f9-acc2-477b-c5d8-8c5f213cebc0"
      },
      "source": [
        "a = np.array([[1,2],[3,4],[5,6]])\n",
        "print(a)"
      ],
      "execution_count": 12,
      "outputs": [
        {
          "output_type": "stream",
          "text": [
            "[[1 2]\n",
            " [3 4]\n",
            " [5 6]]\n"
          ],
          "name": "stdout"
        }
      ]
    }
  ]
}